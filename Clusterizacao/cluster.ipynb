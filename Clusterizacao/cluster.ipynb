{
 "cells": [
  {
   "cell_type": "code",
   "execution_count": 17,
   "metadata": {},
   "outputs": [],
   "source": [
    "import pandas as pd\n",
    "\n",
    "\n",
    "from sklearn.cluster import KMeans, AffinityPropagation\n",
    "from sklearn.metrics import silhouette_score\n"
   ]
  },
  {
   "cell_type": "code",
   "execution_count": 18,
   "metadata": {},
   "outputs": [],
   "source": [
    "X_train = pd.read_csv('../dataset_clust/X_dataset.csv')"
   ]
  },
  {
   "cell_type": "markdown",
   "metadata": {},
   "source": [
    "## Algoritmo K-Means:\n",
    "\n",
    "Explicação:\n",
    "K-Means é um algoritmo de agrupamento que separa os dados em grupos com base em sua semelhança. Ele tenta encontrar K centros de cluster, onde K é o número de clusters que você deseja criar.\n",
    "\n",
    "Exemplo:\n",
    "Imagine que você tem dados de clientes de uma loja e deseja agrupá-los em diferentes segmentos com base em seu comportamento de compra. O K-Means pode dividir esses clientes em grupos, como \"clientes frequentes\", \"clientes ocasionais\" e \"novos clientes\", com base em seus padrões de compra.\n",
    "\n",
    "K-Means:\n",
    "Explicação: Imagine que você tem várias bolas coloridas e deseja agrupá-las com base em suas cores. O K-Means encontra grupos de bolas semelhantes.\n",
    "Exemplo: Agrupar clientes em categorias com base em seus hábitos de compra.\n"
   ]
  },
  {
   "cell_type": "code",
   "execution_count": 19,
   "metadata": {},
   "outputs": [
    {
     "name": "stdout",
     "output_type": "stream",
     "text": [
      "Métricas do K-Means:\n",
      "Silhouette Score: 0.186\n",
      "\n",
      "Métricas do Affinity Propagation:\n",
      "Silhouette Score: 0.170\n"
     ]
    },
    {
     "name": "stderr",
     "output_type": "stream",
     "text": [
      "/usr/local/lib/python3.11/site-packages/sklearn/cluster/_kmeans.py:1412: FutureWarning: The default value of `n_init` will change from 10 to 'auto' in 1.4. Set the value of `n_init` explicitly to suppress the warning\n",
      "  super()._check_params_vs_input(X, default_n_init=10)\n"
     ]
    }
   ],
   "source": [
    "from sklearn.cluster import KMeans, AffinityPropagation\n",
    "from sklearn.metrics import silhouette_score\n",
    "\n",
    "# Ajuste o número de clusters (K) no algoritmo K-Means\n",
    "kmeans = KMeans(n_clusters=8)  # Experimente diferentes valores de n_clusters\n",
    "kmeans.fit(X_train)\n",
    "labels_kmeans = kmeans.predict(X_train)\n",
    "silhouette_score_kmeans = silhouette_score(X_train, labels_kmeans)\n",
    "print(\"Métricas do K-Means:\")\n",
    "print(f\"Silhouette Score: {silhouette_score_kmeans:.3f}\")\n",
    "\n",
    "# Ajuste os hiperparâmetros do Affinity Propagation\n",
    "affinity_propagation = AffinityPropagation(damping=0.9)  # Experimente diferentes valores de damping\n",
    "affinity_propagation.fit(X_train)\n",
    "labels_affinity_propagation = affinity_propagation.predict(X_train)\n",
    "silhouette_score_affinity_propagation = silhouette_score(X_train, labels_affinity_propagation)\n",
    "print(\"\\nMétricas do Affinity Propagation:\")\n",
    "print(f\"Silhouette Score: {silhouette_score_affinity_propagation:.3f}\")\n"
   ]
  },
  {
   "cell_type": "markdown",
   "metadata": {},
   "source": [
    "## Affinity Propagation:\n",
    "\n",
    "Explicação:\n",
    "Affinity Propagation é um algoritmo de agrupamento que encontra automaticamente o número de clusters e os pontos centrais dos clusters. Ele se baseia na semelhança entre os dados.\n",
    "\n",
    "Exemplo:\n",
    "Suponha que você tenha um conjunto de dados de imagens e deseje agrupá-las em categorias semelhantes. O Affinity Propagation pode identificar automaticamente quantos grupos (categorias) existem nas imagens e quais imagens servem como representantes (pontos centrais) de cada categoria.\n",
    "\n",
    "Affinity Propagation:\n",
    "Explicação: É como se você tivesse um grupo de pessoas conversando e algumas delas se destacassem como \"líderes\" ou \"representantes\" do grupo. Cada pessoa segue o representante mais próximo.\n",
    "Exemplo: Identificar líderes de opinião em redes sociais com base em quem tem mais seguidores.\n"
   ]
  },
  {
   "cell_type": "code",
   "execution_count": 14,
   "metadata": {},
   "outputs": [
    {
     "name": "stderr",
     "output_type": "stream",
     "text": [
      "/usr/local/lib/python3.11/site-packages/sklearn/cluster/_kmeans.py:1412: FutureWarning: The default value of `n_init` will change from 10 to 'auto' in 1.4. Set the value of `n_init` explicitly to suppress the warning\n",
      "  super()._check_params_vs_input(X, default_n_init=10)\n"
     ]
    },
    {
     "name": "stdout",
     "output_type": "stream",
     "text": [
      "Métricas do K-Means:\n",
      "Silhouette Score: 0.19\n",
      "\n",
      "Métricas do Affinity Propagation:\n",
      "Silhouette Score: 0.17\n"
     ]
    }
   ],
   "source": [
    "\n",
    "# Crie os modelos\n",
    "kmeans = KMeans(n_clusters=8)\n",
    "affinity_propagation = AffinityPropagation(damping=0.8)\n",
    "\n",
    "# Treine os modelos\n",
    "kmeans.fit(X_train)\n",
    "affinity_propagation.fit(X_train)\n",
    "\n",
    "# Faça previsões\n",
    "labels_kmeans = kmeans.predict(X_train)\n",
    "labels_affinity_propagation = affinity_propagation.predict(X_train)\n",
    "\n",
    "# Calcule as métricas\n",
    "silhouette_score_kmeans = silhouette_score(X_train, labels_kmeans)\n",
    "silhouette_score_affinity_propagation = silhouette_score(X_train, labels_affinity_propagation)\n",
    "\n",
    "# Imprima as métricas\n",
    "print(\"Métricas do K-Means:\")\n",
    "print(f\"Silhouette Score: {silhouette_score_kmeans:.2f}\")\n",
    "\n",
    "print(\"\\nMétricas do Affinity Propagation:\")\n",
    "print(f\"Silhouette Score: {silhouette_score_affinity_propagation:.2f}\")\n"
   ]
  },
  {
   "cell_type": "markdown",
   "metadata": {},
   "source": [
    "## Parâmetros k e preference:\n",
    "\n",
    "Explicação:\n",
    "Em ambos os algoritmos, os parâmetros \"k\" (no K-Means) e \"preference\" (no Affinity Propagation) são ajustados para controlar o número de clusters. O \"k\" no K-Means é o número desejado de clusters, enquanto o \"preference\" no Affinity Propagation influencia a escolha automática do número de clusters.\n",
    "\n",
    "Exemplo:\n",
    "Se você definir \"k\" como 3 no K-Means, o algoritmo tentará dividir seus dados em 3 clusters. No Affinity Propagation, você pode definir um valor de \"preference\" que influenciará a preferência do algoritmo por certos pontos como centros de cluster. Valores mais altos de \"preference\" podem resultar em menos clusters, enquanto valores mais baixos podem resultar em mais clusters. Experimente diferentes valores para encontrar o número ideal de clusters para seus dados."
   ]
  },
  {
   "cell_type": "markdown",
   "metadata": {},
   "source": [
    "Se o Silhouette Score ainda está muito baixo, você pode tentar alguns outros métodos para melhorar a qualidade do agrupamento:\n",
    "\n",
    "Pré-processamento dos dados: Certifique-se de que seus dados estejam bem pré-processados, incluindo normalização, tratamento de outliers e seleção de características relevantes. Dados de alta qualidade podem levar a melhores resultados de clustering.\n",
    "Explorar diferentes algoritmos de clustering: Além do K-Means e do Affinity Propagation, você pode experimentar outros algoritmos de clustering, como o DBSCAN, o Agglomerative Clustering, o Spectral Clustering, entre outros. Cada algoritmo tem suas próprias vantagens e desvantagens, e pode funcionar melhor para diferentes tipos de dados.\n",
    "Ajustar hiperparâmetros: Continue ajustando os hiperparâmetros dos algoritmos, como o número de clusters, o valor de damping, e outros parâmetros específicos de cada algoritmo.\n",
    "Validação interna: Use métricas internas, como a inércia (para K-Means) ou a conectividade média (para Affinity Propagation), para avaliar a qualidade dos clusters.\n",
    "Validação externa: Se você tiver rótulos verdadeiros para seus dados, considere usar métricas externas, como índice de Rand ajustado ou índice de Jaccard, para avaliar a qualidade dos clusters em relação aos rótulos verdadeiros.\n",
    "Visualização dos clusters: Visualize os clusters para entender melhor como os dados estão sendo agrupados. Gráficos de dispersão, mapas de calor e redução de dimensionalidade (como PCA ou t-SNE) podem ajudar nessa análise.\n",
    "Engenharia de características: Considere a possibilidade de criar novas características que possam melhorar a separação dos clusters.\n",
    "Aumentar o tamanho do conjunto de dados: Às vezes, aumentar a quantidade de dados disponíveis pode melhorar a qualidade do clustering."
   ]
  },
  {
   "cell_type": "markdown",
   "metadata": {},
   "source": [
    "Para tentar aumentar o coeficiente de Silhouette Score para um valor próximo de 0.997, você pode fazer os seguintes ajustes:\n",
    "\n",
    "Ajustar o número de clusters (K) no algoritmo K-Means: Experimente diferentes valores de K e veja como o Silhouette Score se comporta. Às vezes, um valor menor ou maior de K pode melhorar o desempenho.\n",
    "Ajustar os hiperparâmetros do Affinity Propagation: Experimente diferentes valores para o hiperparâmetro damping no Affinity Propagation. Um valor de damping mais alto pode aumentar o Silhouette Score."
   ]
  },
  {
   "cell_type": "code",
   "execution_count": null,
   "metadata": {},
   "outputs": [],
   "source": []
  }
 ],
 "metadata": {
  "kernelspec": {
   "display_name": "Python 3",
   "language": "python",
   "name": "python3"
  },
  "language_info": {
   "codemirror_mode": {
    "name": "ipython",
    "version": 3
   },
   "file_extension": ".py",
   "mimetype": "text/x-python",
   "name": "python",
   "nbconvert_exporter": "python",
   "pygments_lexer": "ipython3",
   "version": "3.11.4"
  },
  "orig_nbformat": 4
 },
 "nbformat": 4,
 "nbformat_minor": 2
}
