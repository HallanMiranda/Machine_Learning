{
 "cells": [
  {
   "cell_type": "code",
   "execution_count": 1,
   "metadata": {},
   "outputs": [
    {
     "ename": "NameError",
     "evalue": "name 'pd' is not defined",
     "output_type": "error",
     "traceback": [
      "\u001b[0;31m---------------------------------------------------------------------------\u001b[0m",
      "\u001b[0;31mNameError\u001b[0m                                 Traceback (most recent call last)",
      "Cell \u001b[0;32mIn[1], line 1\u001b[0m\n\u001b[0;32m----> 1\u001b[0m train \u001b[39m=\u001b[39m pd\u001b[39m.\u001b[39mread_csv(\u001b[39m'\u001b[39m\u001b[39m../dataset_clust/X_dataset.csv\u001b[39m\u001b[39m'\u001b[39m)\n",
      "\u001b[0;31mNameError\u001b[0m: name 'pd' is not defined"
     ]
    }
   ],
   "source": []
  },
  {
   "cell_type": "code",
   "execution_count": 4,
   "metadata": {},
   "outputs": [],
   "source": [
    "import pandas as pd\n",
    "\n",
    "\n",
    "from sklearn.cluster import KMeans, AffinityPropagation\n",
    "from sklearn.metrics import silhouette_score\n"
   ]
  },
  {
   "cell_type": "code",
   "execution_count": 7,
   "metadata": {},
   "outputs": [],
   "source": [
    "X_train = pd.read_csv('../dataset_clust/X_dataset.csv')"
   ]
  },
  {
   "cell_type": "code",
   "execution_count": 15,
   "metadata": {},
   "outputs": [
    {
     "name": "stderr",
     "output_type": "stream",
     "text": [
      "/usr/local/lib/python3.11/site-packages/sklearn/cluster/_kmeans.py:1412: FutureWarning: The default value of `n_init` will change from 10 to 'auto' in 1.4. Set the value of `n_init` explicitly to suppress the warning\n",
      "  super()._check_params_vs_input(X, default_n_init=10)\n"
     ]
    },
    {
     "name": "stdout",
     "output_type": "stream",
     "text": [
      "Métricas do K-Means:\n",
      "Silhouette Score: 0.182\n",
      "\n",
      "Métricas do Affinity Propagation:\n",
      "Silhouette Score: 0.170\n"
     ]
    }
   ],
   "source": [
    "from sklearn.cluster import KMeans, AffinityPropagation\n",
    "from sklearn.metrics import silhouette_score\n",
    "\n",
    "# Ajuste o número de clusters (K) no algoritmo K-Means\n",
    "kmeans = KMeans(n_clusters=8)  # Experimente diferentes valores de n_clusters\n",
    "kmeans.fit(X_train)\n",
    "labels_kmeans = kmeans.predict(X_train)\n",
    "silhouette_score_kmeans = silhouette_score(X_train, labels_kmeans)\n",
    "print(\"Métricas do K-Means:\")\n",
    "print(f\"Silhouette Score: {silhouette_score_kmeans:.3f}\")\n",
    "\n",
    "# Ajuste os hiperparâmetros do Affinity Propagation\n",
    "affinity_propagation = AffinityPropagation(damping=0.9)  # Experimente diferentes valores de damping\n",
    "affinity_propagation.fit(X_train)\n",
    "labels_affinity_propagation = affinity_propagation.predict(X_train)\n",
    "silhouette_score_affinity_propagation = silhouette_score(X_train, labels_affinity_propagation)\n",
    "print(\"\\nMétricas do Affinity Propagation:\")\n",
    "print(f\"Silhouette Score: {silhouette_score_affinity_propagation:.3f}\")\n"
   ]
  },
  {
   "cell_type": "code",
   "execution_count": 14,
   "metadata": {},
   "outputs": [
    {
     "name": "stderr",
     "output_type": "stream",
     "text": [
      "/usr/local/lib/python3.11/site-packages/sklearn/cluster/_kmeans.py:1412: FutureWarning: The default value of `n_init` will change from 10 to 'auto' in 1.4. Set the value of `n_init` explicitly to suppress the warning\n",
      "  super()._check_params_vs_input(X, default_n_init=10)\n"
     ]
    },
    {
     "name": "stdout",
     "output_type": "stream",
     "text": [
      "Métricas do K-Means:\n",
      "Silhouette Score: 0.19\n",
      "\n",
      "Métricas do Affinity Propagation:\n",
      "Silhouette Score: 0.17\n"
     ]
    }
   ],
   "source": [
    "\n",
    "# Crie os modelos\n",
    "kmeans = KMeans(n_clusters=8)\n",
    "affinity_propagation = AffinityPropagation(damping=0.8)\n",
    "\n",
    "# Treine os modelos\n",
    "kmeans.fit(X_train)\n",
    "affinity_propagation.fit(X_train)\n",
    "\n",
    "# Faça previsões\n",
    "labels_kmeans = kmeans.predict(X_train)\n",
    "labels_affinity_propagation = affinity_propagation.predict(X_train)\n",
    "\n",
    "# Calcule as métricas\n",
    "silhouette_score_kmeans = silhouette_score(X_train, labels_kmeans)\n",
    "silhouette_score_affinity_propagation = silhouette_score(X_train, labels_affinity_propagation)\n",
    "\n",
    "# Imprima as métricas\n",
    "print(\"Métricas do K-Means:\")\n",
    "print(f\"Silhouette Score: {silhouette_score_kmeans:.2f}\")\n",
    "\n",
    "print(\"\\nMétricas do Affinity Propagation:\")\n",
    "print(f\"Silhouette Score: {silhouette_score_affinity_propagation:.2f}\")\n"
   ]
  },
  {
   "cell_type": "code",
   "execution_count": null,
   "metadata": {},
   "outputs": [],
   "source": []
  }
 ],
 "metadata": {
  "kernelspec": {
   "display_name": "Python 3",
   "language": "python",
   "name": "python3"
  },
  "language_info": {
   "codemirror_mode": {
    "name": "ipython",
    "version": 3
   },
   "file_extension": ".py",
   "mimetype": "text/x-python",
   "name": "python",
   "nbconvert_exporter": "python",
   "pygments_lexer": "ipython3",
   "version": "3.11.4"
  },
  "orig_nbformat": 4
 },
 "nbformat": 4,
 "nbformat_minor": 2
}
