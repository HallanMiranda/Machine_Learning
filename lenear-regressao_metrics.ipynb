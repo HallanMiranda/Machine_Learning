{
 "cells": [
  {
   "cell_type": "markdown",
   "metadata": {},
   "source": [
    "## Fazer previsao de classe.\n"
   ]
  },
  {
   "cell_type": "markdown",
   "metadata": {},
   "source": [
    "# Import Libraries"
   ]
  },
  {
   "cell_type": "code",
   "execution_count": 31,
   "metadata": {},
   "outputs": [],
   "source": [
    "import pandas as pd\n",
    "import numpy as np\n",
    "\n",
    "from sklearn.linear_model import LinearRegression\n",
    "from sklearn import metrics as mt\n"
   ]
  },
  {
   "cell_type": "markdown",
   "metadata": {},
   "source": [
    "#  Looad Dataset"
   ]
  },
  {
   "cell_type": "code",
   "execution_count": 32,
   "metadata": {},
   "outputs": [],
   "source": [
    "data = pd.read_csv('train.csv')\n",
    "df = data.copy()"
   ]
  },
  {
   "cell_type": "markdown",
   "metadata": {},
   "source": [
    "# Data Preparation"
   ]
  },
  {
   "cell_type": "code",
   "execution_count": 33,
   "metadata": {},
   "outputs": [],
   "source": [
    "feactures = ['idade', 'divida_atual', 'renda_anual',\n",
    "       'valor_em_investimentos', 'taxa_utilizacao_credito', 'num_emprestimos',\n",
    "       'num_contas_bancarias', 'num_cartoes_credito', 'dias_atraso_dt_venc',\n",
    "       'num_pgtos_atrasados', 'num_consultas_credito', 'taxa_juros']\n",
    "label = ['saldo_atual']       "
   ]
  },
  {
   "cell_type": "code",
   "execution_count": 34,
   "metadata": {},
   "outputs": [],
   "source": [
    "X_tarin = df.loc[:, feactures]\n",
    "y_train = df.loc[:, label]"
   ]
  },
  {
   "cell_type": "code",
   "execution_count": 35,
   "metadata": {},
   "outputs": [
    {
     "data": {
      "text/html": [
       "<div>\n",
       "<style scoped>\n",
       "    .dataframe tbody tr th:only-of-type {\n",
       "        vertical-align: middle;\n",
       "    }\n",
       "\n",
       "    .dataframe tbody tr th {\n",
       "        vertical-align: top;\n",
       "    }\n",
       "\n",
       "    .dataframe thead th {\n",
       "        text-align: right;\n",
       "    }\n",
       "</style>\n",
       "<table border=\"1\" class=\"dataframe\">\n",
       "  <thead>\n",
       "    <tr style=\"text-align: right;\">\n",
       "      <th></th>\n",
       "      <th>idade</th>\n",
       "      <th>divida_atual</th>\n",
       "      <th>renda_anual</th>\n",
       "      <th>valor_em_investimentos</th>\n",
       "      <th>taxa_utilizacao_credito</th>\n",
       "      <th>num_emprestimos</th>\n",
       "      <th>num_contas_bancarias</th>\n",
       "      <th>num_cartoes_credito</th>\n",
       "      <th>dias_atraso_dt_venc</th>\n",
       "      <th>num_pgtos_atrasados</th>\n",
       "      <th>num_consultas_credito</th>\n",
       "      <th>taxa_juros</th>\n",
       "      <th>saldo_atual</th>\n",
       "    </tr>\n",
       "  </thead>\n",
       "  <tbody>\n",
       "    <tr>\n",
       "      <th>0</th>\n",
       "      <td>21</td>\n",
       "      <td>2577.05</td>\n",
       "      <td>24196.89636</td>\n",
       "      <td>104.306544</td>\n",
       "      <td>31.038763</td>\n",
       "      <td>6</td>\n",
       "      <td>5</td>\n",
       "      <td>7</td>\n",
       "      <td>21</td>\n",
       "      <td>14</td>\n",
       "      <td>9</td>\n",
       "      <td>15</td>\n",
       "      <td>278.172008</td>\n",
       "    </tr>\n",
       "    <tr>\n",
       "      <th>1</th>\n",
       "      <td>40</td>\n",
       "      <td>2465.39</td>\n",
       "      <td>19227.37796</td>\n",
       "      <td>69.858778</td>\n",
       "      <td>36.917093</td>\n",
       "      <td>5</td>\n",
       "      <td>8</td>\n",
       "      <td>5</td>\n",
       "      <td>40</td>\n",
       "      <td>23</td>\n",
       "      <td>10</td>\n",
       "      <td>18</td>\n",
       "      <td>268.874152</td>\n",
       "    </tr>\n",
       "    <tr>\n",
       "      <th>2</th>\n",
       "      <td>36</td>\n",
       "      <td>1055.29</td>\n",
       "      <td>42822.28223</td>\n",
       "      <td>134.201478</td>\n",
       "      <td>34.561714</td>\n",
       "      <td>0</td>\n",
       "      <td>3</td>\n",
       "      <td>6</td>\n",
       "      <td>26</td>\n",
       "      <td>13</td>\n",
       "      <td>3</td>\n",
       "      <td>15</td>\n",
       "      <td>446.643127</td>\n",
       "    </tr>\n",
       "    <tr>\n",
       "      <th>3</th>\n",
       "      <td>58</td>\n",
       "      <td>703.05</td>\n",
       "      <td>51786.82600</td>\n",
       "      <td>297.350067</td>\n",
       "      <td>31.493561</td>\n",
       "      <td>0</td>\n",
       "      <td>3</td>\n",
       "      <td>7</td>\n",
       "      <td>12</td>\n",
       "      <td>7</td>\n",
       "      <td>2</td>\n",
       "      <td>1</td>\n",
       "      <td>321.141267</td>\n",
       "    </tr>\n",
       "    <tr>\n",
       "      <th>4</th>\n",
       "      <td>35</td>\n",
       "      <td>891.29</td>\n",
       "      <td>44626.85346</td>\n",
       "      <td>134.201478</td>\n",
       "      <td>28.028887</td>\n",
       "      <td>2</td>\n",
       "      <td>8</td>\n",
       "      <td>7</td>\n",
       "      <td>24</td>\n",
       "      <td>10</td>\n",
       "      <td>8</td>\n",
       "      <td>20</td>\n",
       "      <td>428.716114</td>\n",
       "    </tr>\n",
       "  </tbody>\n",
       "</table>\n",
       "</div>"
      ],
      "text/plain": [
       "   idade  divida_atual  renda_anual  valor_em_investimentos  \\\n",
       "0     21       2577.05  24196.89636              104.306544   \n",
       "1     40       2465.39  19227.37796               69.858778   \n",
       "2     36       1055.29  42822.28223              134.201478   \n",
       "3     58        703.05  51786.82600              297.350067   \n",
       "4     35        891.29  44626.85346              134.201478   \n",
       "\n",
       "   taxa_utilizacao_credito  num_emprestimos  num_contas_bancarias  \\\n",
       "0                31.038763                6                     5   \n",
       "1                36.917093                5                     8   \n",
       "2                34.561714                0                     3   \n",
       "3                31.493561                0                     3   \n",
       "4                28.028887                2                     8   \n",
       "\n",
       "   num_cartoes_credito  dias_atraso_dt_venc  num_pgtos_atrasados  \\\n",
       "0                    7                   21                   14   \n",
       "1                    5                   40                   23   \n",
       "2                    6                   26                   13   \n",
       "3                    7                   12                    7   \n",
       "4                    7                   24                   10   \n",
       "\n",
       "   num_consultas_credito  taxa_juros  saldo_atual  \n",
       "0                      9          15   278.172008  \n",
       "1                     10          18   268.874152  \n",
       "2                      3          15   446.643127  \n",
       "3                      2           1   321.141267  \n",
       "4                      8          20   428.716114  "
      ]
     },
     "execution_count": 35,
     "metadata": {},
     "output_type": "execute_result"
    }
   ],
   "source": [
    "dfc = pd.concat([X_tarin,y_train], axis=1)\n",
    "dfc.head()"
   ]
  },
  {
   "cell_type": "markdown",
   "metadata": {},
   "source": [
    "# Model Training"
   ]
  },
  {
   "cell_type": "code",
   "execution_count": 36,
   "metadata": {},
   "outputs": [],
   "source": [
    "# Model definition\n",
    "lr_model = LinearRegression() # exemplo de modeledo da linear refgression\n",
    "\n",
    "#  model fit ( ajuste de treinamento)\n",
    "lr_model.fit(X_tarin, y_train)\n",
    "\n",
    "#  previsao\n",
    "y_pred = lr_model.predict(X_tarin)"
   ]
  },
  {
   "cell_type": "code",
   "execution_count": 37,
   "metadata": {},
   "outputs": [
    {
     "data": {
      "text/html": [
       "<div>\n",
       "<style scoped>\n",
       "    .dataframe tbody tr th:only-of-type {\n",
       "        vertical-align: middle;\n",
       "    }\n",
       "\n",
       "    .dataframe tbody tr th {\n",
       "        vertical-align: top;\n",
       "    }\n",
       "\n",
       "    .dataframe thead th {\n",
       "        text-align: right;\n",
       "    }\n",
       "</style>\n",
       "<table border=\"1\" class=\"dataframe\">\n",
       "  <thead>\n",
       "    <tr style=\"text-align: right;\">\n",
       "      <th></th>\n",
       "      <th>id_cliente</th>\n",
       "      <th>saldo_atual</th>\n",
       "      <th>predict</th>\n",
       "    </tr>\n",
       "  </thead>\n",
       "  <tbody>\n",
       "    <tr>\n",
       "      <th>0</th>\n",
       "      <td>1767</td>\n",
       "      <td>278.172008</td>\n",
       "      <td>346.669549</td>\n",
       "    </tr>\n",
       "    <tr>\n",
       "      <th>1</th>\n",
       "      <td>11920</td>\n",
       "      <td>268.874152</td>\n",
       "      <td>367.840277</td>\n",
       "    </tr>\n",
       "    <tr>\n",
       "      <th>2</th>\n",
       "      <td>8910</td>\n",
       "      <td>446.643127</td>\n",
       "      <td>431.468979</td>\n",
       "    </tr>\n",
       "    <tr>\n",
       "      <th>3</th>\n",
       "      <td>4964</td>\n",
       "      <td>321.141267</td>\n",
       "      <td>445.506463</td>\n",
       "    </tr>\n",
       "    <tr>\n",
       "      <th>4</th>\n",
       "      <td>10100</td>\n",
       "      <td>428.716114</td>\n",
       "      <td>378.271169</td>\n",
       "    </tr>\n",
       "  </tbody>\n",
       "</table>\n",
       "</div>"
      ],
      "text/plain": [
       "   id_cliente  saldo_atual     predict\n",
       "0        1767   278.172008  346.669549\n",
       "1       11920   268.874152  367.840277\n",
       "2        8910   446.643127  431.468979\n",
       "3        4964   321.141267  445.506463\n",
       "4       10100   428.716114  378.271169"
      ]
     },
     "execution_count": 37,
     "metadata": {},
     "output_type": "execute_result"
    }
   ],
   "source": [
    "# fazer algumas previsoes\n",
    "df1 = df.loc[:, ['id_cliente','saldo_atual']]\n",
    "# criar uma coluna predict\n",
    "df1['predict'] = y_pred\n",
    "df1.head()"
   ]
  },
  {
   "cell_type": "code",
   "execution_count": 38,
   "metadata": {},
   "outputs": [
    {
     "data": {
      "text/plain": [
       "array([[346.66954862],\n",
       "       [367.84027655],\n",
       "       [431.46897895],\n",
       "       ...,\n",
       "       [412.25174802],\n",
       "       [400.68529863],\n",
       "       [455.26482252]])"
      ]
     },
     "execution_count": 38,
     "metadata": {},
     "output_type": "execute_result"
    }
   ],
   "source": [
    "y_pred # Os valores"
   ]
  },
  {
   "cell_type": "code",
   "execution_count": 39,
   "metadata": {},
   "outputs": [
    {
     "data": {
      "text/plain": [
       "array([346.66954862])"
      ]
     },
     "execution_count": 39,
     "metadata": {},
     "output_type": "execute_result"
    }
   ],
   "source": [
    "np.sum( (X_tarin.loc[0,].values * lr_model.coef_) ) + lr_model.intercept_"
   ]
  },
  {
   "cell_type": "code",
   "execution_count": 40,
   "metadata": {},
   "outputs": [
    {
     "name": "stdout",
     "output_type": "stream",
     "text": [
      "[346.66954862]\n",
      "[367.84027655]\n",
      "[431.46897895]\n",
      "[445.50646329]\n",
      "[378.27116865]\n",
      "[352.4833463]\n",
      "[410.60408532]\n",
      "[210.68563909]\n",
      "[388.61996465]\n",
      "[301.1477063]\n",
      "[158.0964866]\n"
     ]
    }
   ],
   "source": [
    "# fazendo o msm processo com o laco for\n",
    "for i in range( len(X_tarin) ):\n",
    "    print( np.sum( ( X_tarin.loc[i,].values * lr_model.coef_ ) ) + lr_model.intercept_)\n",
    "    if i == 10:\n",
    "        break "
   ]
  },
  {
   "cell_type": "code",
   "execution_count": 41,
   "metadata": {},
   "outputs": [
    {
     "data": {
      "text/plain": [
       "array([[ 3.96706202e-04, -4.00595601e-02,  2.77622532e-06,\n",
       "        -1.04318668e-03,  9.80890872e+00, -1.22353405e-02,\n",
       "        -6.33015538e-03, -3.57808095e-03, -2.15858165e+00,\n",
       "         3.77570060e-04,  6.79176336e-03,  3.48471845e-03]])"
      ]
     },
     "execution_count": 41,
     "metadata": {},
     "output_type": "execute_result"
    }
   ],
   "source": [
    "lr_model.coef_ # coeficientes d reta"
   ]
  },
  {
   "cell_type": "code",
   "execution_count": 42,
   "metadata": {},
   "outputs": [
    {
     "data": {
      "text/plain": [
       "array([190.82359144])"
      ]
     },
     "execution_count": 42,
     "metadata": {},
     "output_type": "execute_result"
    }
   ],
   "source": [
    "lr_model.intercept_ # eu pegando esse comando ele e meu paramentro a0 esse valo er e construido usando os minimos quadrado"
   ]
  },
  {
   "cell_type": "code",
   "execution_count": 43,
   "metadata": {},
   "outputs": [],
   "source": [
    "# msm que pegar a formula la em baixo\n",
    "y = lr_model.intercept_ + lr_model.coef_[0][0] * X_tarin.iloc[0,0] # e assim vai ex: a2x..."
   ]
  },
  {
   "cell_type": "code",
   "execution_count": 44,
   "metadata": {},
   "outputs": [],
   "source": [
    "\n",
    "\n",
    "# # estamos fazendo isso --> y = a + bx\n",
    "\n",
    "# # com essa formula temos isso aqui -->\n",
    "# y = a0 +  a1x1 +  a2x2 + a1x1 + a3x3 + a4x4 +... a12x12\n",
    "\n",
    "# a0 = # parametros das retas que desenhamos . Sao meus parametros \n",
    "# a1 =\n",
    "# a2 =\n",
    "# a3 =\n",
    "# a4 =\n",
    "# ...\n",
    "# a12 =\n",
    "\n",
    "# x1 = # Sao minhas variaveis da feactures ou seja minhas colunas \n",
    "# x2 = \n",
    "# x3 = \n",
    "# x4 = \n",
    "# ... \n",
    "# x12 = "
   ]
  },
  {
   "cell_type": "markdown",
   "metadata": {},
   "source": [
    "# R2 Na Pratica"
   ]
  },
  {
   "cell_type": "code",
   "execution_count": 45,
   "metadata": {},
   "outputs": [
    {
     "data": {
      "text/html": [
       "<div>\n",
       "<style scoped>\n",
       "    .dataframe tbody tr th:only-of-type {\n",
       "        vertical-align: middle;\n",
       "    }\n",
       "\n",
       "    .dataframe tbody tr th {\n",
       "        vertical-align: top;\n",
       "    }\n",
       "\n",
       "    .dataframe thead th {\n",
       "        text-align: right;\n",
       "    }\n",
       "</style>\n",
       "<table border=\"1\" class=\"dataframe\">\n",
       "  <thead>\n",
       "    <tr style=\"text-align: right;\">\n",
       "      <th></th>\n",
       "      <th>id_cliente</th>\n",
       "      <th>saldo_atual</th>\n",
       "      <th>predicted</th>\n",
       "    </tr>\n",
       "  </thead>\n",
       "  <tbody>\n",
       "    <tr>\n",
       "      <th>0</th>\n",
       "      <td>1767</td>\n",
       "      <td>278.172008</td>\n",
       "      <td>346.669549</td>\n",
       "    </tr>\n",
       "    <tr>\n",
       "      <th>1</th>\n",
       "      <td>11920</td>\n",
       "      <td>268.874152</td>\n",
       "      <td>367.840277</td>\n",
       "    </tr>\n",
       "    <tr>\n",
       "      <th>2</th>\n",
       "      <td>8910</td>\n",
       "      <td>446.643127</td>\n",
       "      <td>431.468979</td>\n",
       "    </tr>\n",
       "    <tr>\n",
       "      <th>3</th>\n",
       "      <td>4964</td>\n",
       "      <td>321.141267</td>\n",
       "      <td>445.506463</td>\n",
       "    </tr>\n",
       "    <tr>\n",
       "      <th>4</th>\n",
       "      <td>10100</td>\n",
       "      <td>428.716114</td>\n",
       "      <td>378.271169</td>\n",
       "    </tr>\n",
       "  </tbody>\n",
       "</table>\n",
       "</div>"
      ],
      "text/plain": [
       "   id_cliente  saldo_atual   predicted\n",
       "0        1767   278.172008  346.669549\n",
       "1       11920   268.874152  367.840277\n",
       "2        8910   446.643127  431.468979\n",
       "3        4964   321.141267  445.506463\n",
       "4       10100   428.716114  378.271169"
      ]
     },
     "execution_count": 45,
     "metadata": {},
     "output_type": "execute_result"
    }
   ],
   "source": [
    "# 2.0 Seleção de Features\n",
    "features = ['idade', 'divida_atual', 'renda_anual', 'valor_em_investimentos',\n",
    "            'taxa_utilizacao_credito', 'num_emprestimos', 'num_contas_bancarias', \n",
    "            'num_cartoes_credito', 'dias_atraso_dt_venc', 'num_pgtos_atrasados', 'num_consultas_credito',\n",
    "            'taxa_juros']\n",
    "label = ['saldo_atual']\n",
    "\n",
    "x_train = df.loc[:, features] \n",
    "y_train = df.loc[:, label]\n",
    "\n",
    "# 3.0 Model Training\n",
    "lr_model = LinearRegression() \n",
    "lr_model.fit( x_train, y_train )\n",
    "\n",
    "#Predition\n",
    "y_pred = lr_model.predict( x_train )\n",
    "\n",
    "df1 = df.loc[:, ['id_cliente', 'saldo_atual']] \n",
    "df1['predicted'] = y_pred\n",
    "\n",
    "df1.head()\n"
   ]
  },
  {
   "cell_type": "markdown",
   "metadata": {},
   "source": [
    "# Performace"
   ]
  },
  {
   "cell_type": "code",
   "execution_count": 46,
   "metadata": {},
   "outputs": [
    {
     "data": {
      "text/plain": [
       "0.16917364489050024"
      ]
     },
     "execution_count": 46,
     "metadata": {},
     "output_type": "execute_result"
    }
   ],
   "source": [
    "mt.r2_score(y_train, y_pred)"
   ]
  },
  {
   "cell_type": "code",
   "execution_count": 47,
   "metadata": {},
   "outputs": [
    {
     "name": "stdout",
     "output_type": "stream",
     "text": [
      "R2 square: 16.92%\n"
     ]
    }
   ],
   "source": [
    "# 4.0 Model Performance\n",
    "r2_squared = np.round( 100*mt.r2_score( y_train, y_pred ), 2 ) \n",
    "print( 'R2 square: {}%'.format( r2_squared ) )\n"
   ]
  },
  {
   "cell_type": "markdown",
   "metadata": {},
   "source": [
    "## Model Training - Statsmodels"
   ]
  },
  {
   "cell_type": "code",
   "execution_count": 48,
   "metadata": {},
   "outputs": [
    {
     "data": {
      "text/html": [
       "<div>\n",
       "<style scoped>\n",
       "    .dataframe tbody tr th:only-of-type {\n",
       "        vertical-align: middle;\n",
       "    }\n",
       "\n",
       "    .dataframe tbody tr th {\n",
       "        vertical-align: top;\n",
       "    }\n",
       "\n",
       "    .dataframe thead th {\n",
       "        text-align: right;\n",
       "    }\n",
       "</style>\n",
       "<table border=\"1\" class=\"dataframe\">\n",
       "  <thead>\n",
       "    <tr style=\"text-align: right;\">\n",
       "      <th></th>\n",
       "      <th>df</th>\n",
       "      <th>sum_sq</th>\n",
       "      <th>mean_sq</th>\n",
       "      <th>F</th>\n",
       "      <th>PR(&gt;F)</th>\n",
       "    </tr>\n",
       "  </thead>\n",
       "  <tbody>\n",
       "    <tr>\n",
       "      <th>idade</th>\n",
       "      <td>1.0</td>\n",
       "      <td>4.085925e+02</td>\n",
       "      <td>4.085925e+02</td>\n",
       "      <td>0.009575</td>\n",
       "      <td>9.220529e-01</td>\n",
       "    </tr>\n",
       "    <tr>\n",
       "      <th>divida_atual</th>\n",
       "      <td>1.0</td>\n",
       "      <td>4.494005e+07</td>\n",
       "      <td>4.494005e+07</td>\n",
       "      <td>1053.104993</td>\n",
       "      <td>3.537135e-219</td>\n",
       "    </tr>\n",
       "    <tr>\n",
       "      <th>num_emprestimos</th>\n",
       "      <td>1.0</td>\n",
       "      <td>3.976109e+03</td>\n",
       "      <td>3.976109e+03</td>\n",
       "      <td>0.093174</td>\n",
       "      <td>7.601864e-01</td>\n",
       "    </tr>\n",
       "    <tr>\n",
       "      <th>Residual</th>\n",
       "      <td>9496.0</td>\n",
       "      <td>4.052309e+08</td>\n",
       "      <td>4.267385e+04</td>\n",
       "      <td>NaN</td>\n",
       "      <td>NaN</td>\n",
       "    </tr>\n",
       "  </tbody>\n",
       "</table>\n",
       "</div>"
      ],
      "text/plain": [
       "                     df        sum_sq       mean_sq            F  \\\n",
       "idade               1.0  4.085925e+02  4.085925e+02     0.009575   \n",
       "divida_atual        1.0  4.494005e+07  4.494005e+07  1053.104993   \n",
       "num_emprestimos     1.0  3.976109e+03  3.976109e+03     0.093174   \n",
       "Residual         9496.0  4.052309e+08  4.267385e+04          NaN   \n",
       "\n",
       "                        PR(>F)  \n",
       "idade             9.220529e-01  \n",
       "divida_atual     3.537135e-219  \n",
       "num_emprestimos   7.601864e-01  \n",
       "Residual                   NaN  "
      ]
     },
     "execution_count": 48,
     "metadata": {},
     "output_type": "execute_result"
    }
   ],
   "source": [
    "import statsmodels.formula.api as smf\n",
    "import statsmodels.api as sm\n",
    "\n",
    "# Definição do modelo\n",
    "lr_model = smf.ols(formula='saldo_atual ~ idade + divida_atual + num_emprestimos', data=df)\n",
    "\n",
    "# Treinamento do modelo\n",
    "lr_model = lr_model.fit()\n",
    "\n",
    "# Teste de ANOVA\n",
    "anova_result = sm.stats.anova_lm(lr_model, typ=1)\n",
    "anova_result"
   ]
  },
  {
   "cell_type": "markdown",
   "metadata": {},
   "source": [
    "# Model Training"
   ]
  },
  {
   "cell_type": "code",
   "execution_count": 49,
   "metadata": {},
   "outputs": [],
   "source": [
    "# Model definition\n",
    "lr_model = LinearRegression() # exemplo de modeledo da linear refgression\n",
    "\n",
    "#  model fit ( ajuste de treinamento)\n",
    "lr_model.fit(X_tarin, y_train)\n",
    "\n",
    "#  previsao\n",
    "y_pred = lr_model.predict(X_tarin)"
   ]
  },
  {
   "cell_type": "code",
   "execution_count": 50,
   "metadata": {},
   "outputs": [
    {
     "data": {
      "text/html": [
       "<div>\n",
       "<style scoped>\n",
       "    .dataframe tbody tr th:only-of-type {\n",
       "        vertical-align: middle;\n",
       "    }\n",
       "\n",
       "    .dataframe tbody tr th {\n",
       "        vertical-align: top;\n",
       "    }\n",
       "\n",
       "    .dataframe thead th {\n",
       "        text-align: right;\n",
       "    }\n",
       "</style>\n",
       "<table border=\"1\" class=\"dataframe\">\n",
       "  <thead>\n",
       "    <tr style=\"text-align: right;\">\n",
       "      <th></th>\n",
       "      <th>idade</th>\n",
       "      <th>divida_atual</th>\n",
       "      <th>renda_anual</th>\n",
       "      <th>valor_em_investimentos</th>\n",
       "      <th>taxa_utilizacao_credito</th>\n",
       "      <th>num_emprestimos</th>\n",
       "      <th>num_contas_bancarias</th>\n",
       "      <th>num_cartoes_credito</th>\n",
       "      <th>dias_atraso_dt_venc</th>\n",
       "      <th>num_pgtos_atrasados</th>\n",
       "      <th>num_consultas_credito</th>\n",
       "      <th>taxa_juros</th>\n",
       "      <th>saldo_atual</th>\n",
       "    </tr>\n",
       "  </thead>\n",
       "  <tbody>\n",
       "    <tr>\n",
       "      <th>0</th>\n",
       "      <td>21</td>\n",
       "      <td>2577.05</td>\n",
       "      <td>24196.89636</td>\n",
       "      <td>104.306544</td>\n",
       "      <td>31.038763</td>\n",
       "      <td>6</td>\n",
       "      <td>5</td>\n",
       "      <td>7</td>\n",
       "      <td>21</td>\n",
       "      <td>14</td>\n",
       "      <td>9</td>\n",
       "      <td>15</td>\n",
       "      <td>278.172008</td>\n",
       "    </tr>\n",
       "    <tr>\n",
       "      <th>1</th>\n",
       "      <td>40</td>\n",
       "      <td>2465.39</td>\n",
       "      <td>19227.37796</td>\n",
       "      <td>69.858778</td>\n",
       "      <td>36.917093</td>\n",
       "      <td>5</td>\n",
       "      <td>8</td>\n",
       "      <td>5</td>\n",
       "      <td>40</td>\n",
       "      <td>23</td>\n",
       "      <td>10</td>\n",
       "      <td>18</td>\n",
       "      <td>268.874152</td>\n",
       "    </tr>\n",
       "    <tr>\n",
       "      <th>2</th>\n",
       "      <td>36</td>\n",
       "      <td>1055.29</td>\n",
       "      <td>42822.28223</td>\n",
       "      <td>134.201478</td>\n",
       "      <td>34.561714</td>\n",
       "      <td>0</td>\n",
       "      <td>3</td>\n",
       "      <td>6</td>\n",
       "      <td>26</td>\n",
       "      <td>13</td>\n",
       "      <td>3</td>\n",
       "      <td>15</td>\n",
       "      <td>446.643127</td>\n",
       "    </tr>\n",
       "    <tr>\n",
       "      <th>3</th>\n",
       "      <td>58</td>\n",
       "      <td>703.05</td>\n",
       "      <td>51786.82600</td>\n",
       "      <td>297.350067</td>\n",
       "      <td>31.493561</td>\n",
       "      <td>0</td>\n",
       "      <td>3</td>\n",
       "      <td>7</td>\n",
       "      <td>12</td>\n",
       "      <td>7</td>\n",
       "      <td>2</td>\n",
       "      <td>1</td>\n",
       "      <td>321.141267</td>\n",
       "    </tr>\n",
       "    <tr>\n",
       "      <th>4</th>\n",
       "      <td>35</td>\n",
       "      <td>891.29</td>\n",
       "      <td>44626.85346</td>\n",
       "      <td>134.201478</td>\n",
       "      <td>28.028887</td>\n",
       "      <td>2</td>\n",
       "      <td>8</td>\n",
       "      <td>7</td>\n",
       "      <td>24</td>\n",
       "      <td>10</td>\n",
       "      <td>8</td>\n",
       "      <td>20</td>\n",
       "      <td>428.716114</td>\n",
       "    </tr>\n",
       "  </tbody>\n",
       "</table>\n",
       "</div>"
      ],
      "text/plain": [
       "   idade  divida_atual  renda_anual  valor_em_investimentos  \\\n",
       "0     21       2577.05  24196.89636              104.306544   \n",
       "1     40       2465.39  19227.37796               69.858778   \n",
       "2     36       1055.29  42822.28223              134.201478   \n",
       "3     58        703.05  51786.82600              297.350067   \n",
       "4     35        891.29  44626.85346              134.201478   \n",
       "\n",
       "   taxa_utilizacao_credito  num_emprestimos  num_contas_bancarias  \\\n",
       "0                31.038763                6                     5   \n",
       "1                36.917093                5                     8   \n",
       "2                34.561714                0                     3   \n",
       "3                31.493561                0                     3   \n",
       "4                28.028887                2                     8   \n",
       "\n",
       "   num_cartoes_credito  dias_atraso_dt_venc  num_pgtos_atrasados  \\\n",
       "0                    7                   21                   14   \n",
       "1                    5                   40                   23   \n",
       "2                    6                   26                   13   \n",
       "3                    7                   12                    7   \n",
       "4                    7                   24                   10   \n",
       "\n",
       "   num_consultas_credito  taxa_juros  saldo_atual  \n",
       "0                      9          15   278.172008  \n",
       "1                     10          18   268.874152  \n",
       "2                      3          15   446.643127  \n",
       "3                      2           1   321.141267  \n",
       "4                      8          20   428.716114  "
      ]
     },
     "execution_count": 50,
     "metadata": {},
     "output_type": "execute_result"
    }
   ],
   "source": [
    "df3 = pd.concat( [ X_tarin, y_train ], axis=1 )\n",
    "df3.head()"
   ]
  },
  {
   "cell_type": "code",
   "execution_count": 51,
   "metadata": {},
   "outputs": [
    {
     "data": {
      "text/html": [
       "<div>\n",
       "<style scoped>\n",
       "    .dataframe tbody tr th:only-of-type {\n",
       "        vertical-align: middle;\n",
       "    }\n",
       "\n",
       "    .dataframe tbody tr th {\n",
       "        vertical-align: top;\n",
       "    }\n",
       "\n",
       "    .dataframe thead th {\n",
       "        text-align: right;\n",
       "    }\n",
       "</style>\n",
       "<table border=\"1\" class=\"dataframe\">\n",
       "  <thead>\n",
       "    <tr style=\"text-align: right;\">\n",
       "      <th></th>\n",
       "      <th>id_cliente</th>\n",
       "      <th>saldo_atual</th>\n",
       "      <th>predict</th>\n",
       "    </tr>\n",
       "  </thead>\n",
       "  <tbody>\n",
       "    <tr>\n",
       "      <th>0</th>\n",
       "      <td>1767</td>\n",
       "      <td>278.172008</td>\n",
       "      <td>346.669549</td>\n",
       "    </tr>\n",
       "    <tr>\n",
       "      <th>1</th>\n",
       "      <td>11920</td>\n",
       "      <td>268.874152</td>\n",
       "      <td>367.840277</td>\n",
       "    </tr>\n",
       "    <tr>\n",
       "      <th>2</th>\n",
       "      <td>8910</td>\n",
       "      <td>446.643127</td>\n",
       "      <td>431.468979</td>\n",
       "    </tr>\n",
       "    <tr>\n",
       "      <th>3</th>\n",
       "      <td>4964</td>\n",
       "      <td>321.141267</td>\n",
       "      <td>445.506463</td>\n",
       "    </tr>\n",
       "    <tr>\n",
       "      <th>4</th>\n",
       "      <td>10100</td>\n",
       "      <td>428.716114</td>\n",
       "      <td>378.271169</td>\n",
       "    </tr>\n",
       "  </tbody>\n",
       "</table>\n",
       "</div>"
      ],
      "text/plain": [
       "   id_cliente  saldo_atual     predict\n",
       "0        1767   278.172008  346.669549\n",
       "1       11920   268.874152  367.840277\n",
       "2        8910   446.643127  431.468979\n",
       "3        4964   321.141267  445.506463\n",
       "4       10100   428.716114  378.271169"
      ]
     },
     "execution_count": 51,
     "metadata": {},
     "output_type": "execute_result"
    }
   ],
   "source": [
    "# fazer algumas previsoes\n",
    "df1 = df.loc[:, ['id_cliente','saldo_atual']]\n",
    "# criar uma coluna predict\n",
    "df1['predict'] = y_pred\n",
    "df1.head()"
   ]
  },
  {
   "cell_type": "markdown",
   "metadata": {},
   "source": [
    "# Calculo manual das metricas SSE, SSR, SST"
   ]
  },
  {
   "cell_type": "code",
   "execution_count": 52,
   "metadata": {},
   "outputs": [
    {
     "name": "stdout",
     "output_type": "stream",
     "text": [
      "idade              4.457633e+09\n",
      "divida_atual       1.143185e+10\n",
      "renda_anual        2.007940e+16\n",
      "num_emprestimos    3.716838e+07\n",
      "dtype: float64\n",
      "idade              4.045884e+03\n",
      "divida_atual       1.267789e+09\n",
      "renda_anual        1.014813e+13\n",
      "num_emprestimos    2.920434e+03\n",
      "dtype: float64\n",
      "idade              4.457637e+09\n",
      "divida_atual       1.269964e+10\n",
      "renda_anual        2.008955e+16\n",
      "num_emprestimos    3.717130e+07\n",
      "dtype: float64\n"
     ]
    }
   ],
   "source": [
    "import statsmodels.api as sm\n",
    "# Define a variavel\n",
    "x = df.loc[:, ['idade', 'divida_atual', 'renda_anual','num_emprestimos']]\n",
    "\n",
    "# Define Predictor\n",
    "y = df.loc[:, label]\n",
    "\n",
    "# Add constant to predctor variables\n",
    "y = sm.add_constant(y)\n",
    "\n",
    "#  fit lenear regresion model\n",
    "model = sm.OLS(x, y).fit()\n",
    "\n",
    "import numpy as np\n",
    "\n",
    "#  Calcular o SSE\n",
    "sse = np.sum((model.fittedvalues - df.loc[:,['idade', 'divida_atual', 'renda_anual','num_emprestimos']]) ** 2)\n",
    "\n",
    "# Calcular o ssr\n",
    "ssr = np.sum((model.fittedvalues - df.loc[:, ['idade', 'divida_atual', 'renda_anual','num_emprestimos']].mean() ) ** 2)\n",
    "\n",
    "# Calcular o ssto\n",
    "ssto = ssr + sse\n",
    "\n",
    "print(sse)\n",
    "print(ssr)\n",
    "print(ssto)"
   ]
  },
  {
   "cell_type": "code",
   "execution_count": 53,
   "metadata": {},
   "outputs": [],
   "source": [
    "# print(lr_model.summary())"
   ]
  },
  {
   "cell_type": "code",
   "execution_count": 54,
   "metadata": {},
   "outputs": [],
   "source": [
    "# print(model.summary())"
   ]
  },
  {
   "cell_type": "markdown",
   "metadata": {},
   "source": []
  },
  {
   "cell_type": "markdown",
   "metadata": {},
   "source": [
    "# Performace"
   ]
  },
  {
   "cell_type": "code",
   "execution_count": 55,
   "metadata": {},
   "outputs": [
    {
     "data": {
      "text/plain": [
       "0.16917364489050024"
      ]
     },
     "execution_count": 55,
     "metadata": {},
     "output_type": "execute_result"
    }
   ],
   "source": [
    "# all\n",
    "mt.r2_score(y_train, y_pred)"
   ]
  },
  {
   "cell_type": "code",
   "execution_count": 56,
   "metadata": {},
   "outputs": [
    {
     "data": {
      "text/plain": [
       "0.16917364489050024"
      ]
     },
     "execution_count": 56,
     "metadata": {},
     "output_type": "execute_result"
    }
   ],
   "source": [
    "# Idade mais divida atual\n",
    "mt.r2_score(y_train, y_pred)"
   ]
  },
  {
   "cell_type": "code",
   "execution_count": 57,
   "metadata": {},
   "outputs": [
    {
     "data": {
      "text/plain": [
       "0.16917364489050024"
      ]
     },
     "execution_count": 57,
     "metadata": {},
     "output_type": "execute_result"
    }
   ],
   "source": [
    "# Idade \n",
    "mt.r2_score(y_train, y_pred)"
   ]
  },
  {
   "cell_type": "code",
   "execution_count": 58,
   "metadata": {},
   "outputs": [
    {
     "data": {
      "text/plain": [
       "0.16917364489050024"
      ]
     },
     "execution_count": 58,
     "metadata": {},
     "output_type": "execute_result"
    }
   ],
   "source": [
    "# Idade Divida atual e renda anual\n",
    "mt.r2_score(y_train, y_pred)"
   ]
  },
  {
   "cell_type": "markdown",
   "metadata": {},
   "source": [
    "# RMSE na prática"
   ]
  },
  {
   "cell_type": "code",
   "execution_count": 59,
   "metadata": {},
   "outputs": [
    {
     "name": "stdout",
     "output_type": "stream",
     "text": [
      "R2 square: 16.92%\n",
      "A cada previsão, o erro médio é de: U$39370.27\n",
      "A cada previsão, o erro médio é de: U$198.41942949217446\n",
      "16.92% da variação da variável alvo y é reduzida, levando em consideração o preditor\n",
      "16.92% da variação da variável alvo y é “explicada pela variação do preditor x\n"
     ]
    }
   ],
   "source": [
    "import pandas as pd\n",
    "import numpy as np\n",
    "from sklearn.linear_model import LinearRegression \n",
    "from sklearn import metrics as mt\n",
    "\n",
    "# 1.0 Load dataset\n",
    "df = pd.read_csv( 'train.csv' )\n",
    "\n",
    "# 2.0 Seleção de Features\n",
    "features = ['idade', 'divida_atual', 'renda_anual', 'valor_em_investimentos',\n",
    "            'taxa_utilizacao_credito', 'num_emprestimos', 'num_contas_bancarias', \n",
    "            'num_cartoes_credito', 'dias_atraso_dt_venc', 'num_pgtos_atrasados', \n",
    "            'num_consultas_credito', 'taxa_juros']\n",
    "label = ['saldo_atual']\n",
    "\n",
    "x_train = df.loc[:, features] \n",
    "y_train = df.loc[:, label]\n",
    "\n",
    "# 3.0 Model Training\n",
    "lr_model = LinearRegression() \n",
    "lr_model.fit( x_train, y_train )\n",
    "\n",
    "y_pred = lr_model.predict( x_train )\n",
    "\n",
    "df1 = df.loc[:, ['id_cliente', 'saldo_atual']] \n",
    "df1['predicted'] = y_pred\n",
    "\n",
    "# 4.0 Model Performance\n",
    "## 4.1 R squared\n",
    "r2_squared = np.round( 100*mt.r2_score( y_train, y_pred ), 2 ) \n",
    "print( 'R2 square: {}%'.format( r2_squared ) )\n",
    "\n",
    "## 4.2 MSE\n",
    "mse = np.round( mt.mean_squared_error( y_train, y_pred ) , 2 ) \n",
    "print( 'A cada previsão, o erro médio é de: U${}'.format( mse ) )\n",
    "\n",
    "## 4.3 RMSE\n",
    "rmse = np.sqrt( mse )\n",
    "print( 'A cada previsão, o erro médio é de: U${}'.format( rmse ) )\n",
    "\n",
    "# 5.0 Conclusão\n",
    "print( '{}% da variação da variável alvo y é reduzida, levando em consideração o preditor'.format( r2_squared ) ) \n",
    "print( '{}% da variação da variável alvo y é “explicada pela variação do preditor x'.format( r2_squared ) )"
   ]
  },
  {
   "cell_type": "markdown",
   "metadata": {},
   "source": []
  },
  {
   "cell_type": "markdown",
   "metadata": {},
   "source": [
    "# Metricas de avaliacao MSE  \n",
    "\n",
    "- MSE ( Mean Square Error ) calcula a média do quadrado das diferenças entre os valores reais e preditos.\n",
    "O MSE é usado como um função de perda ( métrica de performance ) e representa quão bem o model ajustou aos dados de treinamento. Quanto menor o MSE, melhor o ajuste do modelo aos dados."
   ]
  },
  {
   "cell_type": "code",
   "execution_count": null,
   "metadata": {},
   "outputs": [],
   "source": []
  },
  {
   "cell_type": "code",
   "execution_count": null,
   "metadata": {},
   "outputs": [],
   "source": []
  },
  {
   "cell_type": "code",
   "execution_count": null,
   "metadata": {},
   "outputs": [],
   "source": []
  },
  {
   "cell_type": "code",
   "execution_count": null,
   "metadata": {},
   "outputs": [],
   "source": []
  },
  {
   "cell_type": "code",
   "execution_count": null,
   "metadata": {},
   "outputs": [],
   "source": []
  },
  {
   "cell_type": "code",
   "execution_count": null,
   "metadata": {},
   "outputs": [],
   "source": []
  }
 ],
 "metadata": {
  "kernelspec": {
   "display_name": "Python 3 (ipykernel)",
   "language": "python",
   "name": "python3"
  },
  "language_info": {
   "codemirror_mode": {
    "name": "ipython",
    "version": 3
   },
   "file_extension": ".py",
   "mimetype": "text/x-python",
   "name": "python",
   "nbconvert_exporter": "python",
   "pygments_lexer": "ipython3",
   "version": "3.11.4"
  },
  "vscode": {
   "interpreter": {
    "hash": "7e1998ff7f8aa20ada591c520b972326324e5ea05489af9e422744c7c09f6dad"
   }
  }
 },
 "nbformat": 4,
 "nbformat_minor": 2
}
