{
 "cells": [
  {
   "cell_type": "code",
   "execution_count": null,
   "metadata": {},
   "outputs": [],
   "source": []
  },
  {
   "cell_type": "markdown",
   "metadata": {},
   "source": [
    "## 2. O Ensaio de Machine Learning 2.1. \n",
    "### Descrição do Ensaio\n",
    "\n",
    "O ensaio de Machine Learning ajuda os Cientistas de Dados a ganhar mais experiência na aplicação dos algoritmos. Nesse ensaio, em específico, cada algoritmo será treinado com os dados de treinamento e sua performance será medida usando 3 conjuntos de dados:\n",
    "1. Os próprios dados de treinamento 2. Os dados de validação\n",
    "3. Os dados de teste.\n",
    "A performance de cada algoritmo será medida, utilizando diferentes métricas de performance.\n",
    "O seu trabalho nesse ensaio será construir uma tabela mostrando os valores das métricas de performance para cada algoritmo de Machine Learning, conforme o exemplo abaixo.\n",
    "\n",
    "Cada tabela vai armazenar os resultados da performance sobre um conjunto de dados diferentes, ou seja, você precisa criar 3 tabelas: 1) Performance sobre os dados de treinamento, 2) Performance sobre os dados de validação e 3) Performance sobre os dados de teste para o Ensaio de classificação, regressão e clusterização"
   ]
  },
  {
   "cell_type": "markdown",
   "metadata": {},
   "source": [
    "## 2.1. Os algoritmos e métricas do ensaio Classificação:\n",
    "Algoritmos: KNN, Decision Tree, Random Forest e Logistic Regression Métricas de performance: Accuracy, Precision, Recall e F1-Score\n",
    "\n"
   ]
  },
  {
   "cell_type": "markdown",
   "metadata": {},
   "source": [
    "## 2.2. Classificação Algoritmo\n",
    "|   Algoritmo             |   Parâmetros \n",
    "Random Forest Classifier  |     n_estimators  \n",
    "                          |     max_depth  \n",
    "K-Neighbors Classifier    |     n_neighbors\n",
    "Logistic Regression       |     C\n",
    "                          |     solver\n",
    "                          |     max_iter\n",
    "Decision Tree Classifier  |     max_depth"
   ]
  },
  {
   "cell_type": "markdown",
   "metadata": {},
   "source": [
    "## Imports"
   ]
  },
  {
   "cell_type": "code",
   "execution_count": 1,
   "metadata": {},
   "outputs": [],
   "source": [
    "import pandas  as pd\n",
    "import numpy   as np \n",
    "import seaborn as sns\n",
    "\n",
    "\n",
    "from matplotlib              import pyplot  as plt\n",
    "from sklearn                 import metrics as mt\n",
    "from sklearn.metrics         import ConfusionMatrixDisplay\n",
    "from sklearn.model_selection import train_test_split\n",
    "from sklearn.neighbors       import KNeighborsClassifier\n",
    "from sklearn.tree            import DecisionTreeClassifier\n",
    "from sklearn.ensemble        import RandomForestClassifier\n",
    "from sklearn.linear_model    import LogisticRegression\n",
    "from sklearn.metrics         import accuracy_score,precision_score,recall_score,f1_score, confusion_matrix\n"
   ]
  },
  {
   "cell_type": "markdown",
   "metadata": {},
   "source": [
    "## Functions"
   ]
  },
  {
   "cell_type": "code",
   "execution_count": 2,
   "metadata": {},
   "outputs": [],
   "source": [
    "X_train = pd.read_csv('../dataset_class/X_training.csv') \n",
    "y_train = pd.read_csv(\"../dataset_class/y_training.csv\")\n",
    "X_val = pd.read_csv(\"../dataset_class/X_validation.csv\")\n",
    "y_val = pd.read_csv(\"../dataset_class/y_validation.csv\")\n",
    "X_test = pd.read_csv(\"../dataset_class/X_test.csv\")\n",
    "y_test = pd.read_csv(\"../dataset_class/y_test.csv\")\n"
   ]
  },
  {
   "cell_type": "markdown",
   "metadata": {},
   "source": [
    "### 1.0 Treinamento do algoritmo KNN"
   ]
  },
  {
   "cell_type": "code",
   "execution_count": 10,
   "metadata": {},
   "outputs": [],
   "source": [
    "import numpy as np\n",
    "from sklearn.neighbors import KNeighborsClassifier\n",
    "from sklearn.metrics import accuracy_score, precision_score, recall_score, f1_score\n",
    "\n",
    "# Suponha que você tenha seus dados de treinamento, validação e teste carregados corretamente em X_train, y_train, X_val, y_val, X_test, y_test\n",
    "\n",
    "# Certifique-se de que seus dados estão em formato NumPy\n",
    "X_train = np.array(X_train)\n",
    "X_val = np.array(X_val)\n",
    "X_test = np.array(X_test)"
   ]
  },
  {
   "cell_type": "code",
   "execution_count": 29,
   "metadata": {},
   "outputs": [
    {
     "name": "stderr",
     "output_type": "stream",
     "text": [
      "/usr/local/lib/python3.11/site-packages/sklearn/neighbors/_classification.py:228: DataConversionWarning: A column-vector y was passed when a 1d array was expected. Please change the shape of y to (n_samples,), for example using ravel().\n",
      "  return self._fit(X, y)\n"
     ]
    },
    {
     "name": "stdout",
     "output_type": "stream",
     "text": [
      "Métricas nos dados de treinamento:\n",
      "Acurácia: 0.78\n",
      "Precisão: 0.76\n",
      "Recall: 0.73\n",
      "F1-Score: 0.74\n",
      "\n",
      "Métricas nos dados de validação:\n",
      "Acurácia: 0.68\n",
      "Precisão: 0.63\n",
      "Recall: 0.60\n",
      "F1-Score: 0.62\n",
      "\n",
      "Métricas nos dados de teste:\n",
      "Acurácia: 0.67\n",
      "Precisão: 0.63\n",
      "Recall: 0.60\n",
      "F1-Score: 0.62\n"
     ]
    }
   ],
   "source": [
    "\n",
    "\n",
    "# Defina o valor de K (número de vizinhos) para o KNN\n",
    "k = 5\n",
    "\n",
    "# Crie o modelo KNN com o número de vizinhos definido\n",
    "knn = KNeighborsClassifier(n_neighbors=k)\n",
    "\n",
    "# Treine o modelo com os dados de treinamento\n",
    "knn.fit(X_train, y_train)\n",
    "\n",
    "# Faça previsões nos dados de treinamento\n",
    "y_train_pred = knn.predict(X_train)\n",
    "\n",
    "# Calcule as métricas nos dados de treinamento\n",
    "k_accuracy_train = accuracy_score(y_train, y_train_pred)\n",
    "k_precision_train = precision_score(y_train, y_train_pred)\n",
    "k_recall_train = recall_score(y_train, y_train_pred)\n",
    "k_f1_score_train = f1_score(y_train, y_train_pred)\n",
    "\n",
    "# Imprima as métricas nos dados de treinamento\n",
    "print(\"Métricas nos dados de treinamento:\")\n",
    "print(f\"Acurácia: {k_accuracy_train:.2f}\")\n",
    "print(f\"Precisão: {k_precision_train:.2f}\")\n",
    "print(f\"Recall: {k_recall_train:.2f}\")\n",
    "print(f\"F1-Score: {k_f1_score_train:.2f}\")\n",
    "\n",
    "# Faça previsões nos dados de validação\n",
    "y_val_pred = knn.predict(np.array(X_val))\n",
    "\n",
    "# Calcule as métricas nos dados de validação\n",
    "k_accuracy_val = accuracy_score(y_val, y_val_pred)\n",
    "k_precision_val = precision_score(y_val, y_val_pred)\n",
    "k_recall_val = recall_score(y_val, y_val_pred)\n",
    "k_f1_score_val = f1_score(y_val, y_val_pred)\n",
    "\n",
    "\n",
    "# Imprima as métricas nos dados de validação\n",
    "print(\"\\nMétricas nos dados de validação:\")\n",
    "print(f\"Acurácia: {k_accuracy_val:.2f}\")\n",
    "print(f\"Precisão: {k_precision_val:.2f}\")\n",
    "print(f\"Recall: {k_recall_val:.2f}\")\n",
    "print(f\"F1-Score: {k_f1_score_val:.2f}\")\n",
    "\n",
    "# Faça previsões nos dados de teste\n",
    "y_test_pred = knn.predict(np.array(X_test))\n",
    "\n",
    "# Calcule as métricas nos dados de teste\n",
    "k_accuracy_test = accuracy_score(y_test, y_test_pred)\n",
    "k_precision_test = precision_score(y_test, y_test_pred)\n",
    "k_recall_test = recall_score(y_test, y_test_pred)\n",
    "k_f1_score_test = f1_score(y_test, y_test_pred)\n",
    "\n",
    "\n",
    "# Imprima as métricas nos dados de teste\n",
    "print(\"\\nMétricas nos dados de teste:\")\n",
    "print(f\"Acurácia: {k_accuracy_test:.2f}\")\n",
    "print(f\"Precisão: {k_precision_test:.2f}\")\n",
    "print(f\"Recall: {k_recall_test:.2f}\")\n",
    "print(f\"F1-Score: {k_f1_score_test:.2f}\")\n"
   ]
  },
  {
   "cell_type": "markdown",
   "metadata": {},
   "source": [
    "# DecisionTree"
   ]
  },
  {
   "cell_type": "code",
   "execution_count": 57,
   "metadata": {},
   "outputs": [
    {
     "name": "stdout",
     "output_type": "stream",
     "text": [
      "\n",
      "Métricas nos dados de treinamento:\n",
      "Acurácia: 1.00\n",
      "Precisão: 1.00\n",
      "Recall: 0.99\n",
      "F1-Score: 0.99\n",
      "\n",
      "Métricas nos dados de treinamento:\n",
      "Acurácia: 0.95\n",
      "Precisão: 0.94\n",
      "Recall: 0.94\n",
      "F1-Score: 0.94\n",
      "\n",
      "Métricas nos dados de teste:\n",
      "Acurácia: 0.67\n",
      "Precisão: 0.63\n",
      "Recall: 0.60\n",
      "F1-Score: 0.62\n"
     ]
    }
   ],
   "source": [
    "# Crie o modelo de Árvore de Decisão\n",
    "decision_tree = DecisionTreeClassifier(max_depth=22)\n",
    "\n",
    "# Ajuste o modelo aos dados de treinamento\n",
    "decision_tree.fit(X_train, y_train)\n",
    "\n",
    "# Faça previsões nos dados de treinamento\n",
    "dy_train_pred = decision_tree.predict(X_train)\n",
    "\n",
    "# Calcule as métricas nos dados de treinamento\n",
    "d_accuracy_train = accuracy_score(y_train, dy_train_pred)\n",
    "d_precision_train = precision_score(y_train, dy_train_pred)\n",
    "d_recall_train = recall_score(y_train, dy_train_pred)\n",
    "d_f1_score_train = f1_score(y_train, dy_train_pred)\n",
    "\n",
    "# Imprima as métricas nos dados de treinamento\n",
    "print(\"\\nMétricas nos dados de treinamento:\")\n",
    "print(f\"Acurácia: {d_accuracy_train:.2f}\")\n",
    "print(f\"Precisão: {d_precision_train:.2f}\")\n",
    "print(f\"Recall: {d_recall_train:.2f}\")\n",
    "print(f\"F1-Score: {d_f1_score_train:.2f}\")\n",
    "\n",
    "# Faça previsões nos dados de Validação\n",
    "dy_val_pred = decision_tree.predict(X_val)\n",
    "\n",
    "# Calcule as métricas nos dados de treinamento\n",
    "d_accuracy_val = accuracy_score(y_val, dy_val_pred)\n",
    "d_precision_val = precision_score(y_val, dy_val_pred)\n",
    "d_recall_val = recall_score(y_val, dy_val_pred)\n",
    "d_f1_score_val = f1_score(y_val, dy_val_pred)\n",
    "\n",
    "# Imprima as métricas nos dados de treinamento\n",
    "print(\"\\nMétricas nos dados de treinamento:\")\n",
    "print(f\"Acurácia: {d_accuracy_val:.2f}\")\n",
    "print(f\"Precisão: {d_precision_val:.2f}\")\n",
    "print(f\"Recall: {d_recall_val:.2f}\")\n",
    "print(f\"F1-Score: {d_f1_score_val:.2f}\")\n",
    "\n",
    "# Faça previsões nos dados de teste\n",
    "dy_test_pred = knn.predict(np.array(X_test))\n",
    "\n",
    "# Calcule as métricas nos dados de teste\n",
    "d_accuracy_test = accuracy_score(y_test, dy_test_pred)\n",
    "d_precision_test = precision_score(y_test, dy_test_pred)\n",
    "d_recall_test = recall_score(y_test, dy_test_pred)\n",
    "d_f1_score_test = f1_score(y_test, dy_test_pred)\n",
    "\n",
    "\n",
    "# Imprima as métricas nos dados de teste\n",
    "print(\"\\nMétricas nos dados de teste:\")\n",
    "print(f\"Acurácia: {d_accuracy_test:.2f}\")\n",
    "print(f\"Precisão: {d_precision_test:.2f}\")\n",
    "print(f\"Recall: {d_recall_test:.2f}\")\n",
    "print(f\"F1-Score: {d_f1_score_test:.2f}\")\n",
    "\n",
    "\n",
    "\n",
    "\n"
   ]
  },
  {
   "cell_type": "markdown",
   "metadata": {},
   "source": [
    "# Random Forest"
   ]
  },
  {
   "cell_type": "code",
   "execution_count": 59,
   "metadata": {},
   "outputs": [],
   "source": [
    "# Criando o Modelo Random Forest\n",
    "random_forest = RandomForestClassifier(n_estimators=100, max_depth=None)\n",
    "\n",
    "# Model Fit\n",
    "rando"
   ]
  },
  {
   "cell_type": "code",
   "execution_count": null,
   "metadata": {},
   "outputs": [],
   "source": []
  },
  {
   "cell_type": "code",
   "execution_count": null,
   "metadata": {},
   "outputs": [],
   "source": []
  },
  {
   "cell_type": "code",
   "execution_count": null,
   "metadata": {},
   "outputs": [],
   "source": []
  },
  {
   "cell_type": "code",
   "execution_count": null,
   "metadata": {},
   "outputs": [],
   "source": []
  }
 ],
 "metadata": {
  "kernelspec": {
   "display_name": "Python 3",
   "language": "python",
   "name": "python3"
  },
  "language_info": {
   "codemirror_mode": {
    "name": "ipython",
    "version": 3
   },
   "file_extension": ".py",
   "mimetype": "text/x-python",
   "name": "python",
   "nbconvert_exporter": "python",
   "pygments_lexer": "ipython3",
   "version": "3.11.4"
  },
  "orig_nbformat": 4
 },
 "nbformat": 4,
 "nbformat_minor": 2
}
