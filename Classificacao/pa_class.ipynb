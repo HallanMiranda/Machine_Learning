{
 "cells": [
  {
   "cell_type": "code",
   "execution_count": null,
   "metadata": {},
   "outputs": [],
   "source": []
  },
  {
   "cell_type": "markdown",
   "metadata": {},
   "source": [
    "## 2. O Ensaio de Machine Learning 2.1. \n",
    "### Descrição do Ensaio\n",
    "\n",
    "O ensaio de Machine Learning ajuda os Cientistas de Dados a ganhar mais experiência na aplicação dos algoritmos. Nesse ensaio, em específico, cada algoritmo será treinado com os dados de treinamento e sua performance será medida usando 3 conjuntos de dados:\n",
    "1. Os próprios dados de treinamento 2. Os dados de validação\n",
    "3. Os dados de teste.\n",
    "A performance de cada algoritmo será medida, utilizando diferentes métricas de performance.\n",
    "O seu trabalho nesse ensaio será construir uma tabela mostrando os valores das métricas de performance para cada algoritmo de Machine Learning, conforme o exemplo abaixo.\n",
    "\n",
    "Cada tabela vai armazenar os resultados da performance sobre um conjunto de dados diferentes, ou seja, você precisa criar 3 tabelas: 1) Performance sobre os dados de treinamento, 2) Performance sobre os dados de validação e 3) Performance sobre os dados de teste para o Ensaio de classificação, regressão e clusterização"
   ]
  },
  {
   "cell_type": "markdown",
   "metadata": {},
   "source": [
    "## 2.1. Os algoritmos e métricas do ensaio Classificação:\n",
    "Algoritmos: KNN, Decision Tree, Random Forest e Logistic Regression Métricas de performance: Accuracy, Precision, Recall e F1-Score\n",
    "\n"
   ]
  },
  {
   "cell_type": "markdown",
   "metadata": {},
   "source": [
    "## 2.2. Classificação Algoritmo\n",
    "|   Algoritmo             |   Parâmetros \n",
    "Random Forest Classifier  |     n_estimators  \n",
    "                          |     max_depth  \n",
    "K-Neighbors Classifier    |     n_neighbors\n",
    "Logistic Regression       |     C\n",
    "                          |     solver\n",
    "                          |     max_iter\n",
    "Decision Tree Classifier  |     max_depth"
   ]
  },
  {
   "cell_type": "markdown",
   "metadata": {},
   "source": [
    "## Imports"
   ]
  },
  {
   "cell_type": "code",
   "execution_count": 1,
   "metadata": {},
   "outputs": [],
   "source": [
    "import pandas as pd\n",
    "import numpy as np\n",
    "\n",
    "from sklearn.neighbors    import KNeighborsClassifier\n",
    "from sklearn.tree         import DecisionTreeClassifier\n",
    "from sklearn.ensemble     import RandomForestClassifier\n",
    "from sklearn.linear_model import LogisticRegression\n",
    "from sklearn.metrics      import accuracy_score,precision_score,recall_score,f1_score\n"
   ]
  },
  {
   "cell_type": "markdown",
   "metadata": {},
   "source": [
    "## Functions"
   ]
  },
  {
   "cell_type": "code",
   "execution_count": 3,
   "metadata": {},
   "outputs": [],
   "source": [
    "X_train = pd.read_csv('../dataset_class/X_training.csv') \n",
    "y_train = pd.read_csv(\"../dataset_class/y_training.csv\")\n",
    "X_validation = pd.read_csv(\"../dataset_class/X_validation.csv\")\n",
    "y_validation = pd.read_csv(\"../dataset_class/y_validation.csv\")\n",
    "X_test = pd.read_csv(\"../dataset_class/X_test.csv\")\n",
    "y_test = pd.read_csv(\"../dataset_class/y_test.csv\")\n"
   ]
  },
  {
   "cell_type": "code",
   "execution_count": null,
   "metadata": {},
   "outputs": [],
   "source": [
    "# Modelo KNN \n",
    "\n",
    "k = 3"
   ]
  },
  {
   "cell_type": "code",
   "execution_count": null,
   "metadata": {},
   "outputs": [],
   "source": []
  },
  {
   "cell_type": "code",
   "execution_count": null,
   "metadata": {},
   "outputs": [],
   "source": []
  },
  {
   "cell_type": "code",
   "execution_count": null,
   "metadata": {},
   "outputs": [],
   "source": []
  },
  {
   "cell_type": "code",
   "execution_count": null,
   "metadata": {},
   "outputs": [],
   "source": []
  },
  {
   "cell_type": "code",
   "execution_count": null,
   "metadata": {},
   "outputs": [],
   "source": []
  },
  {
   "cell_type": "code",
   "execution_count": null,
   "metadata": {},
   "outputs": [],
   "source": []
  },
  {
   "cell_type": "code",
   "execution_count": null,
   "metadata": {},
   "outputs": [],
   "source": []
  },
  {
   "cell_type": "code",
   "execution_count": null,
   "metadata": {},
   "outputs": [],
   "source": []
  },
  {
   "cell_type": "code",
   "execution_count": null,
   "metadata": {},
   "outputs": [],
   "source": []
  },
  {
   "cell_type": "code",
   "execution_count": null,
   "metadata": {},
   "outputs": [],
   "source": []
  },
  {
   "cell_type": "code",
   "execution_count": null,
   "metadata": {},
   "outputs": [],
   "source": []
  },
  {
   "cell_type": "code",
   "execution_count": null,
   "metadata": {},
   "outputs": [],
   "source": []
  },
  {
   "cell_type": "code",
   "execution_count": null,
   "metadata": {},
   "outputs": [],
   "source": []
  },
  {
   "cell_type": "code",
   "execution_count": null,
   "metadata": {},
   "outputs": [],
   "source": []
  },
  {
   "cell_type": "code",
   "execution_count": null,
   "metadata": {},
   "outputs": [],
   "source": []
  },
  {
   "cell_type": "code",
   "execution_count": null,
   "metadata": {},
   "outputs": [],
   "source": []
  },
  {
   "cell_type": "code",
   "execution_count": null,
   "metadata": {},
   "outputs": [],
   "source": []
  },
  {
   "cell_type": "code",
   "execution_count": null,
   "metadata": {},
   "outputs": [],
   "source": []
  },
  {
   "cell_type": "code",
   "execution_count": null,
   "metadata": {},
   "outputs": [],
   "source": []
  },
  {
   "cell_type": "code",
   "execution_count": null,
   "metadata": {},
   "outputs": [],
   "source": []
  },
  {
   "cell_type": "code",
   "execution_count": null,
   "metadata": {},
   "outputs": [],
   "source": []
  },
  {
   "cell_type": "code",
   "execution_count": null,
   "metadata": {},
   "outputs": [],
   "source": []
  },
  {
   "cell_type": "code",
   "execution_count": null,
   "metadata": {},
   "outputs": [],
   "source": []
  },
  {
   "cell_type": "code",
   "execution_count": null,
   "metadata": {},
   "outputs": [],
   "source": []
  },
  {
   "cell_type": "code",
   "execution_count": null,
   "metadata": {},
   "outputs": [],
   "source": []
  },
  {
   "cell_type": "code",
   "execution_count": 4,
   "metadata": {},
   "outputs": [
    {
     "name": "stderr",
     "output_type": "stream",
     "text": [
      "/usr/local/lib/python3.11/site-packages/sklearn/neighbors/_classification.py:228: DataConversionWarning: A column-vector y was passed when a 1d array was expected. Please change the shape of y to (n_samples,), for example using ravel().\n",
      "  return self._fit(X, y)\n",
      "/usr/local/lib/python3.11/site-packages/sklearn/base.py:464: UserWarning: X does not have valid feature names, but KNeighborsClassifier was fitted with feature names\n",
      "  warnings.warn(\n"
     ]
    }
   ],
   "source": [
    "# K-Nearest Neighbors\n",
    "\n",
    "knn_model = KNeighborsClassifier(n_neighbors=5)\n",
    "\n",
    "knn_model.fit(X_train, y_train)\n",
    "\n",
    "X_pred_contiguous = np.ascontiguousarray(X_train)\n",
    "knn_pred = knn_model.predict(X_pred_contiguous)\n",
    "\n"
   ]
  },
  {
   "cell_type": "code",
   "execution_count": 5,
   "metadata": {},
   "outputs": [],
   "source": [
    "\n",
    "# Decision Tree\n",
    "tree_model = DecisionTreeClassifier(max_depth=3)\n",
    "tree_model.fit(X_train, y_train)\n",
    "\n",
    "tree_pred = tree_model.predict(X_validation)\n"
   ]
  },
  {
   "cell_type": "code",
   "execution_count": 6,
   "metadata": {},
   "outputs": [
    {
     "name": "stderr",
     "output_type": "stream",
     "text": [
      "/usr/local/lib/python3.11/site-packages/sklearn/base.py:1151: DataConversionWarning: A column-vector y was passed when a 1d array was expected. Please change the shape of y to (n_samples,), for example using ravel().\n",
      "  return fit_method(estimator, *args, **kwargs)\n"
     ]
    }
   ],
   "source": [
    "# Random Forest\n",
    "forest_model = RandomForestClassifier(n_estimators=100, max_depth=5)\n",
    "forest_model.fit(X_train, y_train)\n",
    "\n",
    "forest_pred = forest_model.predict(X_validation)\n"
   ]
  },
  {
   "cell_type": "code",
   "execution_count": 7,
   "metadata": {},
   "outputs": [
    {
     "name": "stderr",
     "output_type": "stream",
     "text": [
      "/usr/local/lib/python3.11/site-packages/sklearn/utils/validation.py:1184: DataConversionWarning: A column-vector y was passed when a 1d array was expected. Please change the shape of y to (n_samples, ), for example using ravel().\n",
      "  y = column_or_1d(y, warn=True)\n"
     ]
    }
   ],
   "source": [
    "# Logistic Regression\n",
    "logreg_model = LogisticRegression(solver='liblinear', max_iter=100)\n",
    "logreg_model.fit(X_train, y_train)\n",
    "\n",
    "logreg_pred = logreg_model.predict(X_validation)\n",
    "\n"
   ]
  },
  {
   "cell_type": "code",
   "execution_count": 8,
   "metadata": {},
   "outputs": [],
   "source": [
    "# Converta para numpy array\n",
    "X_validation = np.array(X_validation)\n",
    "\n",
    "\n",
    "# Garanta a ordem de armazenamento contígua\n",
    "\n",
    "X_validation = np.ascontiguousarray(X_validation)  "
   ]
  },
  {
   "cell_type": "code",
   "execution_count": null,
   "metadata": {},
   "outputs": [],
   "source": [
    "def print_metrics(metrics, model_name):\n",
    "    accuracy, precision, recall, f1 = metrics\n",
    "    print(f\"Metrics for {model_name}:\")\n",
    "    print(f\"Accuracy: {accuracy:.4f}\")\n",
    "    print(f\"Precision: {precision:.4f}\")\n",
    "    print(f\"Recall: {recall:.4f}\")\n",
    "    print(f\"F1-Score: {f1:.4f}\")\n",
    "    print(\"\\n\")\n",
    "\n",
    "def evaluate_model(y_true, y_pred):\n",
    "    accuracy = accuracy_score(y_true, y_pred)\n",
    "    precision = precision_score(y_true, y_pred)\n",
    "    recall = recall_score(y_true, y_pred)\n",
    "    f1 = f1_score(y_true, y_pred)\n",
    "    return accuracy, precision, recall, f1"
   ]
  },
  {
   "cell_type": "code",
   "execution_count": 9,
   "metadata": {},
   "outputs": [
    {
     "name": "stdout",
     "output_type": "stream",
     "text": [
      "K-Nearest Neighbors: (0.6756652401943435, 0.631775410218524, 0.6031628183235578, 0.617137648131267)\n",
      "Decision Tree: (0.885453199909907, 0.8403984884919272, 0.9081594773182864, 0.872966029117899)\n",
      "Random Forest: (0.9272177354483735, 0.9219185302311573, 0.9090504120573168, 0.9154392523364486)\n",
      "Logistic Regression: (0.794201872647125, 0.7310682783404117, 0.8307223995842304, 0.7777159936053382)\n"
     ]
    }
   ],
   "source": [
    "knn_metrics = evaluate_model(y_validation, knn_pred)\n",
    "tree_metrics = evaluate_model(y_validation, tree_pred)\n",
    "forest_metrics = evaluate_model(y_validation, forest_pred)\n",
    "logreg_metrics = evaluate_model(y_validation, logreg_pred)\n",
    "\n",
    "print(\"K-Nearest Neighbors:\", knn_metrics)\n",
    "print(\"Decision Tree:\", tree_metrics)\n",
    "print(\"Random Forest:\", forest_metrics)\n",
    "print(\"Logistic Regression:\", logreg_metrics)\n"
   ]
  },
  {
   "cell_type": "code",
   "execution_count": 10,
   "metadata": {},
   "outputs": [
    {
     "name": "stdout",
     "output_type": "stream",
     "text": [
      "Metrics for K-Nearest Neighbors:\n",
      "Accuracy: 0.6757\n",
      "Precision: 0.6318\n",
      "Recall: 0.6032\n",
      "F1-Score: 0.6171\n",
      "\n",
      "\n",
      "Metrics for Decision Tree:\n",
      "Accuracy: 0.8855\n",
      "Precision: 0.8404\n",
      "Recall: 0.9082\n",
      "F1-Score: 0.8730\n",
      "\n",
      "\n",
      "Metrics for Random Forest:\n",
      "Accuracy: 0.9272\n",
      "Precision: 0.9219\n",
      "Recall: 0.9091\n",
      "F1-Score: 0.9154\n",
      "\n",
      "\n",
      "Metrics for Logistic Regression:\n",
      "Accuracy: 0.7942\n",
      "Precision: 0.7311\n",
      "Recall: 0.8307\n",
      "F1-Score: 0.7777\n",
      "\n",
      "\n"
     ]
    }
   ],
   "source": [
    "\n",
    "# Print metrics for each model\n",
    "print_metrics(knn_metrics, \"K-Nearest Neighbors\")\n",
    "print_metrics(tree_metrics, \"Decision Tree\")\n",
    "print_metrics(forest_metrics, \"Random Forest\")\n",
    "print_metrics(logreg_metrics, \"Logistic Regression\")\n"
   ]
  },
  {
   "cell_type": "code",
   "execution_count": 11,
   "metadata": {},
   "outputs": [
    {
     "name": "stdout",
     "output_type": "stream",
     "text": [
      "                     Accuracy  Precision    Recall  F1-Score\n",
      "K-Nearest Neighbors  0.675665   0.631775  0.603163  0.617138\n",
      "Decision Tree        0.885453   0.840398  0.908159  0.872966\n",
      "Random Forest        0.927218   0.921919  0.909050  0.915439\n",
      "Logistic Regression  0.794202   0.731068  0.830722  0.777716\n"
     ]
    }
   ],
   "source": [
    "# Criar um dicionário com os resultados das métricas\n",
    "results = {\n",
    "    \"Accuracy\": [knn_metrics[0], tree_metrics[0], forest_metrics[0], logreg_metrics[0]],\n",
    "    \"Precision\": [knn_metrics[1], tree_metrics[1], forest_metrics[1], logreg_metrics[1]],\n",
    "    \"Recall\": [knn_metrics[2], tree_metrics[2], forest_metrics[2], logreg_metrics[2]],\n",
    "    \"F1-Score\": [knn_metrics[3], tree_metrics[3], forest_metrics[3], logreg_metrics[3]]\n",
    "}\n",
    "\n",
    "# Criar um DataFrame a partir do dicionário\n",
    "metrics_df = pd.DataFrame(results, index=[\"K-Nearest Neighbors\", \"Decision Tree\", \"Random Forest\", \"Logistic Regression\"])\n",
    "\n",
    "# Imprimir o DataFrame\n",
    "print(metrics_df)\n"
   ]
  },
  {
   "cell_type": "code",
   "execution_count": null,
   "metadata": {},
   "outputs": [],
   "source": []
  },
  {
   "cell_type": "code",
   "execution_count": null,
   "metadata": {},
   "outputs": [],
   "source": []
  },
  {
   "cell_type": "code",
   "execution_count": null,
   "metadata": {},
   "outputs": [],
   "source": []
  },
  {
   "cell_type": "code",
   "execution_count": null,
   "metadata": {},
   "outputs": [],
   "source": []
  },
  {
   "cell_type": "code",
   "execution_count": null,
   "metadata": {},
   "outputs": [],
   "source": []
  },
  {
   "cell_type": "code",
   "execution_count": null,
   "metadata": {},
   "outputs": [],
   "source": []
  }
 ],
 "metadata": {
  "kernelspec": {
   "display_name": "Python 3",
   "language": "python",
   "name": "python3"
  },
  "language_info": {
   "codemirror_mode": {
    "name": "ipython",
    "version": 3
   },
   "file_extension": ".py",
   "mimetype": "text/x-python",
   "name": "python",
   "nbconvert_exporter": "python",
   "pygments_lexer": "ipython3",
   "version": "3.11.4"
  },
  "orig_nbformat": 4
 },
 "nbformat": 4,
 "nbformat_minor": 2
}
