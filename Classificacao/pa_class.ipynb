{
 "cells": [
  {
   "cell_type": "code",
   "execution_count": null,
   "metadata": {},
   "outputs": [],
   "source": []
  },
  {
   "cell_type": "markdown",
   "metadata": {},
   "source": [
    "## 2. O Ensaio de Machine Learning 2.1. \n",
    "### Descrição do Ensaio\n",
    "\n",
    "O ensaio de Machine Learning ajuda os Cientistas de Dados a ganhar mais experiência na aplicação dos algoritmos. Nesse ensaio, em específico, cada algoritmo será treinado com os dados de treinamento e sua performance será medida usando 3 conjuntos de dados:\n",
    "1. Os próprios dados de treinamento 2. Os dados de validação\n",
    "3. Os dados de teste.\n",
    "A performance de cada algoritmo será medida, utilizando diferentes métricas de performance.\n",
    "O seu trabalho nesse ensaio será construir uma tabela mostrando os valores das métricas de performance para cada algoritmo de Machine Learning, conforme o exemplo abaixo.\n",
    "\n",
    "Cada tabela vai armazenar os resultados da performance sobre um conjunto de dados diferentes, ou seja, você precisa criar 3 tabelas: 1) Performance sobre os dados de treinamento, 2) Performance sobre os dados de validação e 3) Performance sobre os dados de teste para o Ensaio de classificação, regressão e clusterização"
   ]
  },
  {
   "cell_type": "markdown",
   "metadata": {},
   "source": [
    "## 2.1. Os algoritmos e métricas do ensaio Classificação:\n",
    "Algoritmos: KNN, Decision Tree, Random Forest e Logistic Regression Métricas de performance: Accuracy, Precision, Recall e F1-Score\n",
    "\n"
   ]
  },
  {
   "cell_type": "markdown",
   "metadata": {},
   "source": [
    "## 2.2. Classificação Algoritmo\n",
    "|   Algoritmo             |   Parâmetros \n",
    "Random Forest Classifier  |     n_estimators  \n",
    "                          |     max_depth  \n",
    "K-Neighbors Classifier    |     n_neighbors\n",
    "Logistic Regression       |     C\n",
    "                          |     solver\n",
    "                          |     max_iter\n",
    "Decision Tree Classifier  |     max_depth"
   ]
  },
  {
   "cell_type": "markdown",
   "metadata": {},
   "source": [
    "## Imports"
   ]
  },
  {
   "cell_type": "code",
   "execution_count": 1,
   "metadata": {},
   "outputs": [],
   "source": [
    "import pandas  as pd\n",
    "import numpy   as np \n",
    "import seaborn as sns\n",
    "\n",
    "\n",
    "from matplotlib              import pyplot  as plt\n",
    "from sklearn                 import metrics as mt\n",
    "from sklearn.metrics         import ConfusionMatrixDisplay\n",
    "from sklearn.model_selection import train_test_split\n",
    "from sklearn.neighbors       import KNeighborsClassifier\n",
    "from sklearn.tree            import DecisionTreeClassifier\n",
    "from sklearn.ensemble        import RandomForestClassifier\n",
    "from sklearn.linear_model    import LogisticRegression\n",
    "from sklearn.metrics         import accuracy_score,precision_score,recall_score,f1_score, confusion_matrix\n"
   ]
  },
  {
   "cell_type": "markdown",
   "metadata": {},
   "source": [
    "## Functions"
   ]
  },
  {
   "cell_type": "code",
   "execution_count": 2,
   "metadata": {},
   "outputs": [],
   "source": [
    "X_train = pd.read_csv('../dataset_class/X_training.csv') \n",
    "y_train = pd.read_csv(\"../dataset_class/y_training.csv\")\n",
    "X_val = pd.read_csv(\"../dataset_class/X_validation.csv\")\n",
    "y_val = pd.read_csv(\"../dataset_class/y_validation.csv\")\n",
    "X_test = pd.read_csv(\"../dataset_class/X_test.csv\")\n",
    "y_test = pd.read_csv(\"../dataset_class/y_test.csv\")\n"
   ]
  },
  {
   "cell_type": "markdown",
   "metadata": {},
   "source": [
    "### 1.0 Treinamento do algoritmo KNN"
   ]
  },
  {
   "cell_type": "code",
   "execution_count": 10,
   "metadata": {},
   "outputs": [],
   "source": [
    "import numpy as np\n",
    "from sklearn.neighbors import KNeighborsClassifier\n",
    "from sklearn.metrics import accuracy_score, precision_score, recall_score, f1_score\n",
    "\n",
    "# Suponha que você tenha seus dados de treinamento, validação e teste carregados corretamente em X_train, y_train, X_val, y_val, X_test, y_test\n",
    "\n",
    "# Certifique-se de que seus dados estão em formato NumPy\n",
    "X_train = np.array(X_train)\n",
    "X_val = np.array(X_val)\n",
    "X_test = np.array(X_test)"
   ]
  },
  {
   "cell_type": "markdown",
   "metadata": {},
   "source": [
    "K-Nearest Neighbors (KNN):\n",
    "Explicação: Imagine um grupo de amigos onde cada um é classificado por suas características. \n",
    "\n",
    "Quando você conhece alguém novo, olha para as características dos amigos mais próximos e decide como classificar essa pessoa com base na maioria.\n",
    "\n",
    "Exemplo: Classificar se um e-mail é spam ou não com base nas características de e-mails anteriores."
   ]
  },
  {
   "cell_type": "markdown",
   "metadata": {},
   "source": [
    "1. K-Nearest Neighbors (KNN):\n",
    "\n",
    "O KNN é um algoritmo de classificação que considera os vizinhos mais próximos de um ponto para decidir sua classe. \n",
    "\n",
    "Imagine que você está tentando prever se um filme será \"bom\" ou \"ruim\" com base nas avaliações de outras pessoas. \n",
    "\n",
    "O KNN olha para as avaliações dos filmes mais próximos (vizinhos) e decide com base na maioria.\n",
    "\n",
    "Exemplo: Você tem um novo filme e olha para os 5 filmes mais parecidos (os 5 vizinhos mais próximos) em termos de avaliações.\n",
    "\n",
    " Se 4 deles forem \"bons\" e 1 for \"ruim\", o KNN classificará o novo filme como \"bom\"."
   ]
  },
  {
   "cell_type": "code",
   "execution_count": 29,
   "metadata": {},
   "outputs": [
    {
     "name": "stderr",
     "output_type": "stream",
     "text": [
      "/usr/local/lib/python3.11/site-packages/sklearn/neighbors/_classification.py:228: DataConversionWarning: A column-vector y was passed when a 1d array was expected. Please change the shape of y to (n_samples,), for example using ravel().\n",
      "  return self._fit(X, y)\n"
     ]
    },
    {
     "name": "stdout",
     "output_type": "stream",
     "text": [
      "Métricas nos dados de treinamento:\n",
      "Acurácia: 0.78\n",
      "Precisão: 0.76\n",
      "Recall: 0.73\n",
      "F1-Score: 0.74\n",
      "\n",
      "Métricas nos dados de validação:\n",
      "Acurácia: 0.68\n",
      "Precisão: 0.63\n",
      "Recall: 0.60\n",
      "F1-Score: 0.62\n",
      "\n",
      "Métricas nos dados de teste:\n",
      "Acurácia: 0.67\n",
      "Precisão: 0.63\n",
      "Recall: 0.60\n",
      "F1-Score: 0.62\n"
     ]
    }
   ],
   "source": [
    "# Defina o valor de K (número de vizinhos) para o KNN\n",
    "k = 5\n",
    "\n",
    "# Modelo KNN com o número de vizinhos definido\n",
    "knn = KNeighborsClassifier(n_neighbors=k)\n",
    "\n",
    "# Treine o modelo com os dados de treinamento\n",
    "knn.fit(X_train, y_train)\n",
    "\n",
    "# Faça previsões nos dados de treinamento\n",
    "y_train_pred = knn.predict(X_train)\n",
    "\n",
    "# Calcule as métricas nos dados de treinamento\n",
    "k_accuracy_train = accuracy_score(y_train, y_train_pred)\n",
    "k_precision_train = precision_score(y_train, y_train_pred)\n",
    "k_recall_train = recall_score(y_train, y_train_pred)\n",
    "k_f1_score_train = f1_score(y_train, y_train_pred)\n",
    "\n",
    "# Imprima as métricas nos dados de treinamento\n",
    "print(\"Métricas nos dados de treinamento:\")\n",
    "print(f\"Acurácia: {k_accuracy_train:.2f}\")\n",
    "print(f\"Precisão: {k_precision_train:.2f}\")\n",
    "print(f\"Recall: {k_recall_train:.2f}\")\n",
    "print(f\"F1-Score: {k_f1_score_train:.2f}\")\n",
    "\n",
    "# Faça previsões nos dados de validação\n",
    "y_val_pred = knn.predict(np.array(X_val))\n",
    "\n",
    "# Calcule as métricas nos dados de validação\n",
    "k_accuracy_val = accuracy_score(y_val, y_val_pred)\n",
    "k_precision_val = precision_score(y_val, y_val_pred)\n",
    "k_recall_val = recall_score(y_val, y_val_pred)\n",
    "k_f1_score_val = f1_score(y_val, y_val_pred)\n",
    "\n",
    "\n",
    "# Imprima as métricas nos dados de validação\n",
    "print(\"\\nMétricas nos dados de validação:\")\n",
    "print(f\"Acurácia: {k_accuracy_val:.2f}\")\n",
    "print(f\"Precisão: {k_precision_val:.2f}\")\n",
    "print(f\"Recall: {k_recall_val:.2f}\")\n",
    "print(f\"F1-Score: {k_f1_score_val:.2f}\")\n",
    "\n",
    "\n",
    "X_treino = pd.merge(X_train, X_val)\n",
    "y_treino = pd.merge(y_train, y_val)\n",
    "\n",
    "modelo_final = knn.fit()\n",
    "\n",
    "# Faça previsões nos dados de teste\n",
    "y_test_pred = knn.predict(np.array(X_test))\n",
    "\n",
    "# Calcule as métricas nos dados de teste\n",
    "k_accuracy_test = accuracy_score(y_test, y_test_pred)\n",
    "k_precision_test = precision_score(y_test, y_test_pred)\n",
    "k_recall_test = recall_score(y_test, y_test_pred)\n",
    "k_f1_score_test = f1_score(y_test, y_test_pred)\n",
    "\n",
    "\n",
    "# Imprima as métricas nos dados de teste\n",
    "print(\"\\nMétricas nos dados de teste:\")\n",
    "print(f\"Acurácia: {k_accuracy_test:.2f}\")\n",
    "print(f\"Precisão: {k_precision_test:.2f}\")\n",
    "print(f\"Recall: {k_recall_test:.2f}\")\n",
    "print(f\"F1-Score: {k_f1_score_test:.2f}\")\n"
   ]
  },
  {
   "cell_type": "markdown",
   "metadata": {},
   "source": [
    "## Árvore de Decisão:\n",
    "Explicação: É como um jogo de \"adivinhação\" onde você faz uma série de perguntas sim/não para chegar a uma decisão. \n",
    "\n",
    "Cada pergunta ajuda a dividir as opções em grupos menores até chegar a uma resposta.\n",
    "\n",
    "Exemplo: Decidir se você deve jogar tênis hoje com base nas condições climáticas."
   ]
  },
  {
   "cell_type": "markdown",
   "metadata": {},
   "source": [
    "## 2. Decision Tree (Árvore de Decisão):\n",
    "\n",
    "A árvore de decisão é usada para classificação e divisão de dados com base em regras de decisão hierárquicas.\n",
    "\n",
    "Imagine que você está tentando prever se alguém vai ao trabalho de carro ou de bicicleta com base em fatores como clima,\n",
    "\n",
    "distância e idade. A árvore de decisão cria uma estrutura de \"se-então\" para tomar a decisão.\n",
    "\n",
    "Exemplo: A árvore de decisão pode começar perguntando se está chovendo. Se sim, verifica a distância. \n",
    "\n",
    "Se a distância for curta, a resposta é \"bicicleta\"; caso contrário, a resposta é \"carro\"."
   ]
  },
  {
   "cell_type": "markdown",
   "metadata": {},
   "source": [
    "# DecisionTree"
   ]
  },
  {
   "cell_type": "code",
   "execution_count": 60,
   "metadata": {},
   "outputs": [
    {
     "name": "stdout",
     "output_type": "stream",
     "text": [
      "\n",
      "Métricas nos dados de treinamento:\n",
      "Acurácia: 1.00\n",
      "Precisão: 1.00\n",
      "Recall: 0.99\n",
      "F1-Score: 0.99\n",
      "\n",
      "Métricas nos dados de treinamento:\n",
      "Acurácia: 0.95\n",
      "Precisão: 0.94\n",
      "Recall: 0.94\n",
      "F1-Score: 0.94\n",
      "\n",
      "Métricas nos dados de teste:\n",
      "Acurácia: 0.95\n",
      "Precisão: 0.94\n",
      "Recall: 0.94\n",
      "F1-Score: 0.94\n"
     ]
    }
   ],
   "source": [
    "# Crie o modelo de Árvore de Decisão\n",
    "decision_tree = DecisionTreeClassifier(max_depth=22)\n",
    "\n",
    "# Ajuste o modelo aos dados de treinamento\n",
    "decision_tree.fit(X_train, y_train)\n",
    "\n",
    "# Faça previsões nos dados de treinamento\n",
    "dy_train_pred = decision_tree.predict(X_train)\n",
    "\n",
    "# Calcule as métricas nos dados de treinamento\n",
    "d_accuracy_train = accuracy_score(y_train, dy_train_pred)\n",
    "d_precision_train = precision_score(y_train, dy_train_pred)\n",
    "d_recall_train = recall_score(y_train, dy_train_pred)\n",
    "d_f1_score_train = f1_score(y_train, dy_train_pred)\n",
    "\n",
    "# Imprima as métricas nos dados de treinamento\n",
    "print(\"\\nMétricas nos dados de treinamento:\")\n",
    "print(f\"Acurácia: {d_accuracy_train:.2f}\")\n",
    "print(f\"Precisão: {d_precision_train:.2f}\")\n",
    "print(f\"Recall: {d_recall_train:.2f}\")\n",
    "print(f\"F1-Score: {d_f1_score_train:.2f}\")\n",
    "\n",
    "# Faça previsões nos dados de Validação\n",
    "dy_val_pred = decision_tree.predict(X_val)\n",
    "\n",
    "# Calcule as métricas nos dados de treinamento\n",
    "d_accuracy_val = accuracy_score(y_val, dy_val_pred)\n",
    "d_precision_val = precision_score(y_val, dy_val_pred)\n",
    "d_recall_val = recall_score(y_val, dy_val_pred)\n",
    "d_f1_score_val = f1_score(y_val, dy_val_pred)\n",
    "\n",
    "# Imprima as métricas nos dados de treinamento\n",
    "print(\"\\nMétricas nos dados de treinamento:\")\n",
    "print(f\"Acurácia: {d_accuracy_val:.2f}\")\n",
    "print(f\"Precisão: {d_precision_val:.2f}\")\n",
    "print(f\"Recall: {d_recall_val:.2f}\")\n",
    "print(f\"F1-Score: {d_f1_score_val:.2f}\")\n",
    "\n",
    "# Faça previsões nos dados de teste\n",
    "dy_test_pred = decision_tree.predict(np.array(X_test))\n",
    "\n",
    "# Calcule as métricas nos dados de teste\n",
    "d_accuracy_test = accuracy_score(y_test, dy_test_pred)\n",
    "d_precision_test = precision_score(y_test, dy_test_pred)\n",
    "d_recall_test = recall_score(y_test, dy_test_pred)\n",
    "d_f1_score_test = f1_score(y_test, dy_test_pred)\n",
    "\n",
    "\n",
    "# Imprima as métricas nos dados de teste\n",
    "print(\"\\nMétricas nos dados de teste:\")\n",
    "print(f\"Acurácia: {d_accuracy_test:.2f}\")\n",
    "print(f\"Precisão: {d_precision_test:.2f}\")\n",
    "print(f\"Recall: {d_recall_test:.2f}\")\n",
    "print(f\"F1-Score: {d_f1_score_test:.2f}\")\n",
    "\n",
    "\n",
    "\n",
    "\n"
   ]
  },
  {
   "cell_type": "markdown",
   "metadata": {},
   "source": [
    "Random Forest:\n",
    "Explicação: É como pedir conselhos a várias pessoas diferentes e tomar uma decisão com base em suas opiniões. \n",
    "\n",
    "Cada \"pessoa\" é uma árvore de decisão e o resultado final é uma combinação de todas elas.\n",
    "\n",
    "Exemplo: Prever o vencedor de uma competição esportiva, com base nas opiniões de vários especialistas.\n",
    "\n",
    "\n",
    "Explicação Simples:\n",
    "\n",
    "A Random Forest é como um grupo de amigos tomando decisões juntos. Imagine que você tem um problema, como decidir qual filme assistir. Em vez de pedir a opinião de uma única pessoa, você consulta um grupo de amigos. Cada amigo tem suas próprias preferências e conhecimentos, e todos eles votam em qual filme assistir. O filme com mais votos é a escolha final.\n",
    "\n",
    "Exemplo:\n",
    "\n",
    "Suponha que você queira prever se um e-mail é spam ou não com base em palavras-chave. Você tem uma lista de palavras em cada e-mail e se ele é ou não spam. A Random Forest funciona criando várias \"opiniões\" (árvores de decisão) com diferentes subconjuntos de palavras-chave. Cada árvore toma uma decisão sobre se o e-mail é spam ou não. No final, todas as árvores votam, e a maioria decide se o e-mail é spam ou não."
   ]
  },
  {
   "cell_type": "markdown",
   "metadata": {},
   "source": [
    "# Random Forest"
   ]
  },
  {
   "cell_type": "code",
   "execution_count": 75,
   "metadata": {},
   "outputs": [
    {
     "name": "stderr",
     "output_type": "stream",
     "text": [
      "/usr/local/lib/python3.11/site-packages/sklearn/base.py:1151: DataConversionWarning: A column-vector y was passed when a 1d array was expected. Please change the shape of y to (n_samples,), for example using ravel().\n",
      "  return fit_method(estimator, *args, **kwargs)\n"
     ]
    },
    {
     "name": "stdout",
     "output_type": "stream",
     "text": [
      "\n",
      "Metricas de treinos\n",
      "Acuracia: 1.00\n",
      "Precisão: 1.00\n",
      "recall:   1.00\n",
      "F-1_score:1.00\n",
      "\n",
      "Metricas de validacao\n",
      "Acuracia : 0.96\n",
      "Precision :0.97\n",
      "Recall :   0.94\n",
      "F1_score : 0.96\n",
      "\n",
      "Metricas de validacao\n",
      "Acuracia : 0.96\n",
      "Precision :0.97\n",
      "Recall :   0.95\n",
      "F1_score : 0.96\n"
     ]
    }
   ],
   "source": [
    "# Criando o Modelo Random Forest\n",
    "random_forest = RandomForestClassifier(n_estimators=100, max_depth=None)\n",
    "\n",
    "# ajuste de modelo e dados de treinamento (Model Fit)\n",
    "random_forest.fit(X_train, y_train ) \n",
    "\n",
    "# Previsoes de Avaliaçoes sobre os dados de train \n",
    "ry_train_pred = random_forest.predict(X_train) \n",
    "\n",
    "# Calculando as metricas dos dados de train\n",
    "r_acuracy_train = accuracy_score(y_train, ry_train_pred)\n",
    "r_precision_train = precision_score(y_train, ry_train_pred)\n",
    "r_recall_train = recall_score(y_train, ry_train_pred)\n",
    "r_f1_score = f1_score(y_train, ry_train_pred)\n",
    "\n",
    "# resoltados das Metricas de Treinos\n",
    "print('\\nMetricas de treinos')\n",
    "print(f'Acuracia: {r_acuracy_train:.2f}')\n",
    "print(f'Precisão: {r_precision_train:.2f}')\n",
    "print(f'recall:   {r_recall_train:.2f}')\n",
    "print(f'F-1_score:{r_f1_score:.2f}')\n",
    "\n",
    "# Previsoes nos dados de validacao\n",
    "ry_val_pred = random_forest.predict(X_val)\n",
    "\n",
    "# Calculo das metricas nos dados de validacao\n",
    "r_acuracy_val = accuracy_score(y_val, ry_val_pred)\n",
    "r_precision_val = precision_score(y_val, ry_val_pred)\n",
    "r_recall_val = recall_score(y_val, ry_val_pred)\n",
    "r_f1_score_val = f1_score(y_val, ry_val_pred)\n",
    "\n",
    "# Resultado das metricas dos dados de validacao\n",
    "print('\\nMetricas de validacao')\n",
    "print(f'Acuracia : {r_acuracy_val:.2f}')\n",
    "print(f'Precision :{r_precision_val:.2f}')\n",
    "print(f'Recall :   {r_recall_val:.2f}')\n",
    "print(f'F1_score : {r_f1_score_val:.2f}')\n",
    "\n",
    "# Previsoes nos dados de tete.\n",
    "ry_teste_pred = random_forest.predict(X_test)\n",
    "\n",
    "# Calculo dad metricas nos dados d tete.\n",
    "r_acuracy_teste = accuracy_score(y_test, ry_teste_pred)\n",
    "r_precision_teste = precision_score(y_test, ry_teste_pred)\n",
    "r_recall_teste = recall_score(y_test, ry_teste_pred)\n",
    "r_f1_score_teste = f1_score(y_test, ry_teste_pred)\n",
    "\n",
    "# Resultado das metricas dos dados de  tete.\n",
    "print('\\nMetricas de teste')\n",
    "print(f'Acuracia : {r_acuracy_teste:.2f}')\n",
    "print(f'Precision :{r_precision_teste:.2f}')\n",
    "print(f'Recall :   {r_recall_teste:.2f}')\n",
    "print(f'F1_score : {r_f1_score_teste:.2f}')"
   ]
  },
  {
   "cell_type": "markdown",
   "metadata": {},
   "source": [
    "## Logistic Regression\n",
    "\n",
    "Regressão Logística:\n",
    "Explicação: Imagine uma linha que separa duas classes de objetos. A regressão logística encontra essa linha da melhor forma possível. Se um ponto estiver acima da linha, ele pertence a uma classe; se estiver abaixo, pertence à outra.\n",
    "Exemplo: Prever se um aluno será aprovado ou reprovado em um exame com base nas horas de estudo.\n",
    "\n",
    "Logistic Regression:\n",
    "Explicação Simples:\n",
    "\n",
    "A Logistic Regression é como um termostato em um chuveiro. Imagine que você deseja ajustar a temperatura da água do chuveiro para que esteja confortável. O termostato ajusta a temperatura com base na sua preferência. Se você gosta de água quente, ele a aquece mais; se você prefere água fria, ele a resfria. O termostato faz uma \"regressão\" para encontrar a temperatura ideal com base nas suas preferências.\n",
    "\n",
    "Exemplo:\n",
    "\n",
    "Suponha que você queira prever se um estudante passará ou não em um exame com base no número de horas que ele estudou. A Logistic Regression encontra uma \"linha\" que melhor se ajusta aos dados. Essa linha divide os alunos em dois grupos: aqueles que passaram e aqueles que não passaram. Quando você fornece o número de horas que um aluno estudou, a Logistic Regression determina a probabilidade de ele passar com base na posição dessa linha. Se a probabilidade for alta, o aluno passará; se for baixa, ele não passará."
   ]
  },
  {
   "cell_type": "code",
   "execution_count": 76,
   "metadata": {},
   "outputs": [
    {
     "name": "stderr",
     "output_type": "stream",
     "text": [
      "/usr/local/lib/python3.11/site-packages/sklearn/utils/validation.py:1184: DataConversionWarning: A column-vector y was passed when a 1d array was expected. Please change the shape of y to (n_samples, ), for example using ravel().\n",
      "  y = column_or_1d(y, warn=True)\n",
      "/usr/local/lib/python3.11/site-packages/sklearn/metrics/_classification.py:1469: UndefinedMetricWarning: Precision is ill-defined and being set to 0.0 due to no predicted samples. Use `zero_division` parameter to control this behavior.\n",
      "  _warn_prf(average, modifier, msg_start, len(result))\n"
     ]
    },
    {
     "name": "stdout",
     "output_type": "stream",
     "text": [
      "Métricas nos dados de treinamento:\n",
      "Acurácia: 0.57\n",
      "Precisão: 0.00\n",
      "Recall: 0.00\n",
      "F1-Score: 0.00\n",
      "\n",
      "Métricas nos dados de validação:\n",
      "Acurácia: 0.68\n",
      "Precisão: 0.63\n",
      "Recall: 0.60\n",
      "F1-Score: 0.62\n",
      "\n",
      "Métricas nos dados de teste:\n",
      "Acurácia: 0.67\n",
      "Precisão: 0.63\n",
      "Recall: 0.60\n",
      "F1-Score: 0.62\n"
     ]
    }
   ],
   "source": [
    "\n",
    "\n",
    "# Criando o modelo \n",
    "LogisticRegression = LogisticRegression(C = 1.0, solver = 'lbfgs', max_iter = 100)\n",
    "\n",
    "# Treine o modelo com os dados de treinamento\n",
    "LogisticRegression.fit(X_train, y_train)\n",
    "\n",
    "# Faça previsões nos dados de treinamento\n",
    "ly_train_pred = LogisticRegression.predict(X_train)\n",
    "\n",
    "# Calcule as métricas nos dados de treinamento\n",
    "laccuracy_train = accuracy_score(y_train, ly_train_pred)\n",
    "lprecision_train = precision_score(y_train, ly_train_pred)\n",
    "lrecall_train = recall_score(y_train, ly_train_pred)\n",
    "lf1_score_train = f1_score(y_train, ly_train_pred)\n",
    "\n",
    "# Imprima as métricas nos dados de treinamento\n",
    "print(\"Métricas nos dados de treinamento:\")\n",
    "print(f\"Acurácia: {laccuracy_train:.2f}\")\n",
    "print(f\"Precisão: {lprecision_train:.2f}\")\n",
    "print(f\"Recall: {lrecall_train:.2f}\")\n",
    "print(f\"F1-Score: {lf1_score_train:.2f}\")\n",
    "\n",
    "# Faça previsões nos dados de validação\n",
    "ly_val_pred = knn.predict(X_val)\n",
    "\n",
    "# Calcule as métricas nos dados de validação\n",
    "laccuracy_val = accuracy_score(y_val, ly_val_pred)\n",
    "lprecision_val = precision_score(y_val, ly_val_pred)\n",
    "lrecall_val = recall_score(y_val, ly_val_pred)\n",
    "lf1_score_val = f1_score(y_val, ly_val_pred)\n",
    "\n",
    "# Imprima as métricas nos dados de validação\n",
    "print(\"\\nMétricas nos dados de validação:\")\n",
    "print(f\"Acurácia: {laccuracy_val:.2f}\")\n",
    "print(f\"Precisão: {lprecision_val:.2f}\")\n",
    "print(f\"Recall: {lrecall_val:.2f}\")\n",
    "print(f\"F1-Score: {lf1_score_val:.2f}\")\n",
    "\n",
    "# Faça previsões nos dados de teste\n",
    "ly_test_pred = knn.predict(X_test)\n",
    "\n",
    "# Calcule as métricas nos dados de teste\n",
    "laccuracy_test = accuracy_score(y_test, ly_test_pred)\n",
    "lprecision_test = precision_score(y_test, ly_test_pred)\n",
    "lrecall_test = recall_score(y_test, ly_test_pred)\n",
    "lf1_score_test = f1_score(y_test, ly_test_pred)\n",
    "\n",
    "# Imprima as métricas nos dados de teste\n",
    "print(\"\\nMétricas nos dados de teste:\")\n",
    "print(f\"Acurácia: {laccuracy_test:.2f}\")\n",
    "print(f\"Precisão: {lprecision_test:.2f}\")\n",
    "print(f\"Recall: {lrecall_test:.2f}\")\n",
    "print(f\"F1-Score: {lf1_score_test:.2f}\")\n"
   ]
  },
  {
   "cell_type": "code",
   "execution_count": null,
   "metadata": {},
   "outputs": [],
   "source": []
  },
  {
   "cell_type": "code",
   "execution_count": null,
   "metadata": {},
   "outputs": [],
   "source": []
  },
  {
   "cell_type": "code",
   "execution_count": null,
   "metadata": {},
   "outputs": [],
   "source": []
  },
  {
   "cell_type": "code",
   "execution_count": null,
   "metadata": {},
   "outputs": [],
   "source": []
  },
  {
   "cell_type": "code",
   "execution_count": null,
   "metadata": {},
   "outputs": [],
   "source": []
  },
  {
   "cell_type": "code",
   "execution_count": null,
   "metadata": {},
   "outputs": [],
   "source": []
  },
  {
   "cell_type": "code",
   "execution_count": null,
   "metadata": {},
   "outputs": [],
   "source": []
  },
  {
   "cell_type": "code",
   "execution_count": null,
   "metadata": {},
   "outputs": [],
   "source": []
  },
  {
   "cell_type": "code",
   "execution_count": null,
   "metadata": {},
   "outputs": [],
   "source": []
  },
  {
   "cell_type": "code",
   "execution_count": null,
   "metadata": {},
   "outputs": [],
   "source": []
  },
  {
   "cell_type": "code",
   "execution_count": null,
   "metadata": {},
   "outputs": [],
   "source": []
  },
  {
   "cell_type": "code",
   "execution_count": null,
   "metadata": {},
   "outputs": [],
   "source": []
  }
 ],
 "metadata": {
  "kernelspec": {
   "display_name": "Python 3",
   "language": "python",
   "name": "python3"
  },
  "language_info": {
   "codemirror_mode": {
    "name": "ipython",
    "version": 3
   },
   "file_extension": ".py",
   "mimetype": "text/x-python",
   "name": "python",
   "nbconvert_exporter": "python",
   "pygments_lexer": "ipython3",
   "version": "3.11.4"
  },
  "orig_nbformat": 4
 },
 "nbformat": 4,
 "nbformat_minor": 2
}
