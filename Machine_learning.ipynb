{
 "cells": [
  {
   "cell_type": "markdown",
   "metadata": {},
   "source": [
    "## Fractal: Uma empresa global de análise e consultoria que oferece soluções em análise de dados, visualização e otimização de processos para diversas indústrias."
   ]
  },
  {
   "cell_type": "markdown",
   "metadata": {},
   "source": [
    "A empresa Data Money fornece serviços de consultoria de Análise e Ciência de Dados para grandes\n",
    "empresas no Brasil e no exterior.\n",
    "O seu principal diferencial de mercado em relação aos concorrentes é o alto retorno financeiro para as empresas clientes, graças a performance de seus algoritmos de Machine Learning.\n",
    "A Data Money acredita que a expertise no treinamento e ajuste fino dos algoritmos, feito pelos Cientistas de Dados da empresa, é a principal motivo dos ótimos resultados que as consultorias vem entregando aos seus clientes.\n",
    "Para continuar crescendo a expertise do time, os Cientistas de Dados acreditam que é extremamente importante realizar ensaios nos algoritmos de Machine Learning para adquirir uma experiência cada vez maior sobre o seu funcionamento e em quais cenários as performances são máximas e mínimas, para que a escolha do algoritmo para cada situação seja a mais correta possível.\n",
    "Como Cientista de Dados recém contratado pela empresa, a sua principal tarefa será realizar 3 ensaios com algoritmos de Classificação, Regressão e Clusterização, a fim de extrair aprendizados sobre o seu funcionamento em determinados cenário e conseguir transmitir esse conhecimento para o restante do time.\n",
    "O Ensaio de Machine Learning"
   ]
  },
  {
   "cell_type": "markdown",
   "metadata": {},
   "source": [
    "## O Ensaio de Machine Learning \n",
    "### Descrição do Ensaio"
   ]
  },
  {
   "cell_type": "markdown",
   "metadata": {},
   "source": [
    "O ensaio de Machine Learning ajuda os Cientistas de Dados a ganhar mais experiência na aplicação dos algoritmos. Nesse ensaio, em específico, cada algoritmo será treinado com os dados de treinamento e sua performance será medida usando 3 conjuntos de dados:\n",
    "1. Os próprios dados de treinamento 2. Os dados de validação\n",
    "3. Os dados de teste.\n",
    "A performance de cada algoritmo será medida, utilizando diferentes métricas de performance.\n",
    "O seu trabalho nesse ensaio será construir uma tabela mostrando os valores das métricas de performance para cada algoritmo de Machine Learning, conforme o exemplo abaixo."
   ]
  },
  {
   "cell_type": "markdown",
   "metadata": {},
   "source": [
    "Os algoritmos e métricas do ensaio Classificação:\n",
    "Algoritmos: KNN, Decision Tree, Random Forest e Logistic Regression Métricas de performance: Accuracy, Precision, Recall e F1-Score\n",
    "Regressão:\n",
    "Algoritmos: Linear Regression, Decision Tree Regressor, Random Forest Regressor, Polinomial Regression, Linear Regression Lasso, Linear Regression Ridge, Linear Regression Elastic Net, Polinomial Regression Lasso, Polinomial Regression Ridge e Polinomial Regression Elastic Net\n",
    "Métricas de performance: R2, MSE, RMSE, MAE e MAPE Agrupamento:\n",
    "Algoritmos: K-Means e Affinity Propagation Métricas de performance: Silhouette Score\n",
    "2.3. Os parâmetros do ensaio"
   ]
  }
 ],
 "metadata": {
  "language_info": {
   "name": "python"
  },
  "orig_nbformat": 4
 },
 "nbformat": 4,
 "nbformat_minor": 2
}
