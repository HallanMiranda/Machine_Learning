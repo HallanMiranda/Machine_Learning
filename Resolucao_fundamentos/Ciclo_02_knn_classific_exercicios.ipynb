{
 "cells": [
  {
   "cell_type": "markdown",
   "id": "1784f0fa",
   "metadata": {},
   "source": [
    "# Ciclo 02 - K Nearest Neighbor (KNN) Exercicios"
   ]
  },
  {
   "cell_type": "markdown",
   "id": "c4e41609-5346-4ff8-ae26-bedbd7b1edc8",
   "metadata": {
    "tags": []
   },
   "source": [
    "# 1. Rafaça o código de treinamento da aula 12: “K-Nearest Neighbors - Prática” no seu computador usando o Jupyter Notebook ou o Google Colabs."
   ]
  },
  {
   "cell_type": "markdown",
   "id": "732e6c91",
   "metadata": {
    "tags": []
   },
   "source": [
    "### 0.0 Imports"
   ]
  },
  {
   "cell_type": "code",
   "execution_count": 51,
   "id": "3f087aa1",
   "metadata": {},
   "outputs": [],
   "source": [
    "import pandas as pd\n",
    "from sklearn.neighbors import KNeighborsClassifier\n",
    "from sklearn import metrics as mt\n",
    "import matplotlib.pyplot as plt\n",
    "import seaborn as sns\n",
    "import numpy as np\n",
    "from IPython.display import display, Math, Latex\n"
   ]
  },
  {
   "cell_type": "code",
   "execution_count": 52,
   "id": "a21dc3e2",
   "metadata": {},
   "outputs": [],
   "source": [
    "df = pd.read_csv('train.csv')"
   ]
  },
  {
   "cell_type": "code",
   "execution_count": 53,
   "id": "7288f615",
   "metadata": {},
   "outputs": [
    {
     "data": {
      "text/html": [
       "<div>\n",
       "<style scoped>\n",
       "    .dataframe tbody tr th:only-of-type {\n",
       "        vertical-align: middle;\n",
       "    }\n",
       "\n",
       "    .dataframe tbody tr th {\n",
       "        vertical-align: top;\n",
       "    }\n",
       "\n",
       "    .dataframe thead th {\n",
       "        text-align: right;\n",
       "    }\n",
       "</style>\n",
       "<table border=\"1\" class=\"dataframe\">\n",
       "  <thead>\n",
       "    <tr style=\"text-align: right;\">\n",
       "      <th></th>\n",
       "      <th>id_cliente</th>\n",
       "      <th>idade</th>\n",
       "      <th>saldo_atual</th>\n",
       "      <th>divida_atual</th>\n",
       "      <th>renda_anual</th>\n",
       "      <th>valor_em_investimentos</th>\n",
       "      <th>taxa_utilizacao_credito</th>\n",
       "      <th>num_emprestimos</th>\n",
       "      <th>num_contas_bancarias</th>\n",
       "      <th>num_cartoes_credito</th>\n",
       "      <th>dias_atraso_dt_venc</th>\n",
       "      <th>num_pgtos_atrasados</th>\n",
       "      <th>num_consultas_credito</th>\n",
       "      <th>taxa_juros</th>\n",
       "      <th>investe_exterior</th>\n",
       "      <th>pessoa_polit_exp</th>\n",
       "      <th>limite_adicional</th>\n",
       "    </tr>\n",
       "  </thead>\n",
       "  <tbody>\n",
       "    <tr>\n",
       "      <th>0</th>\n",
       "      <td>1767</td>\n",
       "      <td>21</td>\n",
       "      <td>278.172008</td>\n",
       "      <td>2577.05</td>\n",
       "      <td>24196.89636</td>\n",
       "      <td>104.306544</td>\n",
       "      <td>31.038763</td>\n",
       "      <td>6</td>\n",
       "      <td>5</td>\n",
       "      <td>7</td>\n",
       "      <td>21</td>\n",
       "      <td>14</td>\n",
       "      <td>9</td>\n",
       "      <td>15</td>\n",
       "      <td>Não</td>\n",
       "      <td>Não</td>\n",
       "      <td>Negar</td>\n",
       "    </tr>\n",
       "    <tr>\n",
       "      <th>1</th>\n",
       "      <td>11920</td>\n",
       "      <td>40</td>\n",
       "      <td>268.874152</td>\n",
       "      <td>2465.39</td>\n",
       "      <td>19227.37796</td>\n",
       "      <td>69.858778</td>\n",
       "      <td>36.917093</td>\n",
       "      <td>5</td>\n",
       "      <td>8</td>\n",
       "      <td>5</td>\n",
       "      <td>40</td>\n",
       "      <td>23</td>\n",
       "      <td>10</td>\n",
       "      <td>18</td>\n",
       "      <td>Não</td>\n",
       "      <td>Não</td>\n",
       "      <td>Negar</td>\n",
       "    </tr>\n",
       "    <tr>\n",
       "      <th>2</th>\n",
       "      <td>8910</td>\n",
       "      <td>36</td>\n",
       "      <td>446.643127</td>\n",
       "      <td>1055.29</td>\n",
       "      <td>42822.28223</td>\n",
       "      <td>134.201478</td>\n",
       "      <td>34.561714</td>\n",
       "      <td>0</td>\n",
       "      <td>3</td>\n",
       "      <td>6</td>\n",
       "      <td>26</td>\n",
       "      <td>13</td>\n",
       "      <td>3</td>\n",
       "      <td>15</td>\n",
       "      <td>Sim</td>\n",
       "      <td>Não</td>\n",
       "      <td>Negar</td>\n",
       "    </tr>\n",
       "    <tr>\n",
       "      <th>3</th>\n",
       "      <td>4964</td>\n",
       "      <td>58</td>\n",
       "      <td>321.141267</td>\n",
       "      <td>703.05</td>\n",
       "      <td>51786.82600</td>\n",
       "      <td>297.350067</td>\n",
       "      <td>31.493561</td>\n",
       "      <td>0</td>\n",
       "      <td>3</td>\n",
       "      <td>7</td>\n",
       "      <td>12</td>\n",
       "      <td>7</td>\n",
       "      <td>2</td>\n",
       "      <td>1</td>\n",
       "      <td>Sim</td>\n",
       "      <td>Não</td>\n",
       "      <td>Negar</td>\n",
       "    </tr>\n",
       "    <tr>\n",
       "      <th>4</th>\n",
       "      <td>10100</td>\n",
       "      <td>35</td>\n",
       "      <td>428.716114</td>\n",
       "      <td>891.29</td>\n",
       "      <td>44626.85346</td>\n",
       "      <td>134.201478</td>\n",
       "      <td>28.028887</td>\n",
       "      <td>2</td>\n",
       "      <td>8</td>\n",
       "      <td>7</td>\n",
       "      <td>24</td>\n",
       "      <td>10</td>\n",
       "      <td>8</td>\n",
       "      <td>20</td>\n",
       "      <td>Sim</td>\n",
       "      <td>Não</td>\n",
       "      <td>Negar</td>\n",
       "    </tr>\n",
       "  </tbody>\n",
       "</table>\n",
       "</div>"
      ],
      "text/plain": [
       "   id_cliente  idade  saldo_atual  divida_atual  renda_anual  \\\n",
       "0        1767     21   278.172008       2577.05  24196.89636   \n",
       "1       11920     40   268.874152       2465.39  19227.37796   \n",
       "2        8910     36   446.643127       1055.29  42822.28223   \n",
       "3        4964     58   321.141267        703.05  51786.82600   \n",
       "4       10100     35   428.716114        891.29  44626.85346   \n",
       "\n",
       "   valor_em_investimentos  taxa_utilizacao_credito  num_emprestimos  \\\n",
       "0              104.306544                31.038763                6   \n",
       "1               69.858778                36.917093                5   \n",
       "2              134.201478                34.561714                0   \n",
       "3              297.350067                31.493561                0   \n",
       "4              134.201478                28.028887                2   \n",
       "\n",
       "   num_contas_bancarias  num_cartoes_credito  dias_atraso_dt_venc  \\\n",
       "0                     5                    7                   21   \n",
       "1                     8                    5                   40   \n",
       "2                     3                    6                   26   \n",
       "3                     3                    7                   12   \n",
       "4                     8                    7                   24   \n",
       "\n",
       "   num_pgtos_atrasados  num_consultas_credito  taxa_juros investe_exterior  \\\n",
       "0                   14                      9          15              Não   \n",
       "1                   23                     10          18              Não   \n",
       "2                   13                      3          15              Sim   \n",
       "3                    7                      2           1              Sim   \n",
       "4                   10                      8          20              Sim   \n",
       "\n",
       "  pessoa_polit_exp limite_adicional  \n",
       "0              Não            Negar  \n",
       "1              Não            Negar  \n",
       "2              Não            Negar  \n",
       "3              Não            Negar  \n",
       "4              Não            Negar  "
      ]
     },
     "execution_count": 53,
     "metadata": {},
     "output_type": "execute_result"
    }
   ],
   "source": [
    "df.head(5)"
   ]
  },
  {
   "cell_type": "markdown",
   "id": "f6b111b0",
   "metadata": {
    "tags": []
   },
   "source": [
    "### 1.0 Seleção de Feature"
   ]
  },
  {
   "cell_type": "code",
   "execution_count": 4,
   "id": "f3dc1e31-ed00-41fe-9950-d1d33cb69fe2",
   "metadata": {},
   "outputs": [],
   "source": [
    "# separa as features relevantes\n",
    "features = ['idade', 'saldo_atual', 'divida_atual', 'renda_anual', 'valor_em_investimentos',\n",
    "            'taxa_utilizacao_credito', 'num_emprestimos', 'num_contas_bancarias', 'num_cartoes_credito',\n",
    "            'dias_atraso_dt_venc', 'num_pgtos_atrasados', 'num_consultas_credito', 'taxa_juros']\n",
    "\n",
    "# separa a feature de classificação\n",
    "label = ['limite_adicional']"
   ]
  },
  {
   "cell_type": "markdown",
   "id": "dd3ab7dd-cd74-4008-8447-26fb1921bffd",
   "metadata": {},
   "source": [
    "### 1.1 Preparação dos dados para treino"
   ]
  },
  {
   "cell_type": "code",
   "execution_count": 5,
   "id": "6b28208e-8c72-4806-b81b-4b7e5cf0aedb",
   "metadata": {},
   "outputs": [],
   "source": [
    "x_train = df.loc[:, features]\n",
    "y_train = df.loc[:, label].values.ravel()"
   ]
  },
  {
   "cell_type": "markdown",
   "id": "916158d6-3c59-445d-8065-9c38a90286fd",
   "metadata": {},
   "source": [
    "### 1.2 Treinamento do algoritmo KNN"
   ]
  },
  {
   "cell_type": "code",
   "execution_count": 6,
   "id": "2868eb45-967b-4e2c-a240-b2b00b4c563c",
   "metadata": {},
   "outputs": [
    {
     "data": {
      "text/html": [
       "<style>#sk-container-id-1 {color: black;background-color: white;}#sk-container-id-1 pre{padding: 0;}#sk-container-id-1 div.sk-toggleable {background-color: white;}#sk-container-id-1 label.sk-toggleable__label {cursor: pointer;display: block;width: 100%;margin-bottom: 0;padding: 0.3em;box-sizing: border-box;text-align: center;}#sk-container-id-1 label.sk-toggleable__label-arrow:before {content: \"▸\";float: left;margin-right: 0.25em;color: #696969;}#sk-container-id-1 label.sk-toggleable__label-arrow:hover:before {color: black;}#sk-container-id-1 div.sk-estimator:hover label.sk-toggleable__label-arrow:before {color: black;}#sk-container-id-1 div.sk-toggleable__content {max-height: 0;max-width: 0;overflow: hidden;text-align: left;background-color: #f0f8ff;}#sk-container-id-1 div.sk-toggleable__content pre {margin: 0.2em;color: black;border-radius: 0.25em;background-color: #f0f8ff;}#sk-container-id-1 input.sk-toggleable__control:checked~div.sk-toggleable__content {max-height: 200px;max-width: 100%;overflow: auto;}#sk-container-id-1 input.sk-toggleable__control:checked~label.sk-toggleable__label-arrow:before {content: \"▾\";}#sk-container-id-1 div.sk-estimator input.sk-toggleable__control:checked~label.sk-toggleable__label {background-color: #d4ebff;}#sk-container-id-1 div.sk-label input.sk-toggleable__control:checked~label.sk-toggleable__label {background-color: #d4ebff;}#sk-container-id-1 input.sk-hidden--visually {border: 0;clip: rect(1px 1px 1px 1px);clip: rect(1px, 1px, 1px, 1px);height: 1px;margin: -1px;overflow: hidden;padding: 0;position: absolute;width: 1px;}#sk-container-id-1 div.sk-estimator {font-family: monospace;background-color: #f0f8ff;border: 1px dotted black;border-radius: 0.25em;box-sizing: border-box;margin-bottom: 0.5em;}#sk-container-id-1 div.sk-estimator:hover {background-color: #d4ebff;}#sk-container-id-1 div.sk-parallel-item::after {content: \"\";width: 100%;border-bottom: 1px solid gray;flex-grow: 1;}#sk-container-id-1 div.sk-label:hover label.sk-toggleable__label {background-color: #d4ebff;}#sk-container-id-1 div.sk-serial::before {content: \"\";position: absolute;border-left: 1px solid gray;box-sizing: border-box;top: 0;bottom: 0;left: 50%;z-index: 0;}#sk-container-id-1 div.sk-serial {display: flex;flex-direction: column;align-items: center;background-color: white;padding-right: 0.2em;padding-left: 0.2em;position: relative;}#sk-container-id-1 div.sk-item {position: relative;z-index: 1;}#sk-container-id-1 div.sk-parallel {display: flex;align-items: stretch;justify-content: center;background-color: white;position: relative;}#sk-container-id-1 div.sk-item::before, #sk-container-id-1 div.sk-parallel-item::before {content: \"\";position: absolute;border-left: 1px solid gray;box-sizing: border-box;top: 0;bottom: 0;left: 50%;z-index: -1;}#sk-container-id-1 div.sk-parallel-item {display: flex;flex-direction: column;z-index: 1;position: relative;background-color: white;}#sk-container-id-1 div.sk-parallel-item:first-child::after {align-self: flex-end;width: 50%;}#sk-container-id-1 div.sk-parallel-item:last-child::after {align-self: flex-start;width: 50%;}#sk-container-id-1 div.sk-parallel-item:only-child::after {width: 0;}#sk-container-id-1 div.sk-dashed-wrapped {border: 1px dashed gray;margin: 0 0.4em 0.5em 0.4em;box-sizing: border-box;padding-bottom: 0.4em;background-color: white;}#sk-container-id-1 div.sk-label label {font-family: monospace;font-weight: bold;display: inline-block;line-height: 1.2em;}#sk-container-id-1 div.sk-label-container {text-align: center;}#sk-container-id-1 div.sk-container {/* jupyter's `normalize.less` sets `[hidden] { display: none; }` but bootstrap.min.css set `[hidden] { display: none !important; }` so we also need the `!important` here to be able to override the default hidden behavior on the sphinx rendered scikit-learn.org. See: https://github.com/scikit-learn/scikit-learn/issues/21755 */display: inline-block !important;position: relative;}#sk-container-id-1 div.sk-text-repr-fallback {display: none;}</style><div id=\"sk-container-id-1\" class=\"sk-top-container\"><div class=\"sk-text-repr-fallback\"><pre>KNeighborsClassifier(n_neighbors=8)</pre><b>In a Jupyter environment, please rerun this cell to show the HTML representation or trust the notebook. <br />On GitHub, the HTML representation is unable to render, please try loading this page with nbviewer.org.</b></div><div class=\"sk-container\" hidden><div class=\"sk-item\"><div class=\"sk-estimator sk-toggleable\"><input class=\"sk-toggleable__control sk-hidden--visually\" id=\"sk-estimator-id-1\" type=\"checkbox\" checked><label for=\"sk-estimator-id-1\" class=\"sk-toggleable__label sk-toggleable__label-arrow\">KNeighborsClassifier</label><div class=\"sk-toggleable__content\"><pre>KNeighborsClassifier(n_neighbors=8)</pre></div></div></div></div></div>"
      ],
      "text/plain": [
       "KNeighborsClassifier(n_neighbors=8)"
      ]
     },
     "execution_count": 6,
     "metadata": {},
     "output_type": "execute_result"
    }
   ],
   "source": [
    "knn_classifier = KNeighborsClassifier( n_neighbors = 8 )\n",
    "knn_classifier.fit( x_train, y_train )"
   ]
  },
  {
   "cell_type": "markdown",
   "id": "b8a03dfc-20f2-415f-bcb1-651d0f124030",
   "metadata": {
    "tags": []
   },
   "source": [
    "### 1.3 Previsão das observações"
   ]
  },
  {
   "cell_type": "code",
   "execution_count": 7,
   "id": "2ab9f217-9a4d-49a3-8515-fc3288406f7d",
   "metadata": {},
   "outputs": [],
   "source": [
    "y_pred = knn_classifier.predict( x_train )"
   ]
  },
  {
   "cell_type": "markdown",
   "id": "865b1f22-860c-4758-8e24-4e6bdb84f4eb",
   "metadata": {
    "tags": []
   },
   "source": [
    "### 1.4 Comparação do Previsto com o Realizado\n"
   ]
  },
  {
   "cell_type": "code",
   "execution_count": 8,
   "id": "989f2892-6ecc-4356-97d0-a9deabeb5074",
   "metadata": {},
   "outputs": [],
   "source": [
    "df1 = df.loc[:, ['id_cliente', 'limite_adicional']]\n",
    "df1['predicted'] = y_pred"
   ]
  },
  {
   "cell_type": "code",
   "execution_count": 9,
   "id": "5f61462b-1979-42c5-8fa7-11f4a3ba14fc",
   "metadata": {},
   "outputs": [
    {
     "data": {
      "text/html": [
       "<div>\n",
       "<style scoped>\n",
       "    .dataframe tbody tr th:only-of-type {\n",
       "        vertical-align: middle;\n",
       "    }\n",
       "\n",
       "    .dataframe tbody tr th {\n",
       "        vertical-align: top;\n",
       "    }\n",
       "\n",
       "    .dataframe thead th {\n",
       "        text-align: right;\n",
       "    }\n",
       "</style>\n",
       "<table border=\"1\" class=\"dataframe\">\n",
       "  <thead>\n",
       "    <tr style=\"text-align: right;\">\n",
       "      <th></th>\n",
       "      <th>id_cliente</th>\n",
       "      <th>limite_adicional</th>\n",
       "      <th>predicted</th>\n",
       "    </tr>\n",
       "  </thead>\n",
       "  <tbody>\n",
       "    <tr>\n",
       "      <th>0</th>\n",
       "      <td>1767</td>\n",
       "      <td>Negar</td>\n",
       "      <td>Negar</td>\n",
       "    </tr>\n",
       "    <tr>\n",
       "      <th>1</th>\n",
       "      <td>11920</td>\n",
       "      <td>Negar</td>\n",
       "      <td>Negar</td>\n",
       "    </tr>\n",
       "    <tr>\n",
       "      <th>2</th>\n",
       "      <td>8910</td>\n",
       "      <td>Negar</td>\n",
       "      <td>Negar</td>\n",
       "    </tr>\n",
       "    <tr>\n",
       "      <th>3</th>\n",
       "      <td>4964</td>\n",
       "      <td>Negar</td>\n",
       "      <td>Negar</td>\n",
       "    </tr>\n",
       "    <tr>\n",
       "      <th>4</th>\n",
       "      <td>10100</td>\n",
       "      <td>Negar</td>\n",
       "      <td>Negar</td>\n",
       "    </tr>\n",
       "    <tr>\n",
       "      <th>...</th>\n",
       "      <td>...</td>\n",
       "      <td>...</td>\n",
       "      <td>...</td>\n",
       "    </tr>\n",
       "    <tr>\n",
       "      <th>9495</th>\n",
       "      <td>5155</td>\n",
       "      <td>Negar</td>\n",
       "      <td>Negar</td>\n",
       "    </tr>\n",
       "    <tr>\n",
       "      <th>9496</th>\n",
       "      <td>11977</td>\n",
       "      <td>Negar</td>\n",
       "      <td>Conceder</td>\n",
       "    </tr>\n",
       "    <tr>\n",
       "      <th>9497</th>\n",
       "      <td>9278</td>\n",
       "      <td>Negar</td>\n",
       "      <td>Negar</td>\n",
       "    </tr>\n",
       "    <tr>\n",
       "      <th>9498</th>\n",
       "      <td>2525</td>\n",
       "      <td>Negar</td>\n",
       "      <td>Negar</td>\n",
       "    </tr>\n",
       "    <tr>\n",
       "      <th>9499</th>\n",
       "      <td>9636</td>\n",
       "      <td>Negar</td>\n",
       "      <td>Negar</td>\n",
       "    </tr>\n",
       "  </tbody>\n",
       "</table>\n",
       "<p>9500 rows × 3 columns</p>\n",
       "</div>"
      ],
      "text/plain": [
       "      id_cliente limite_adicional predicted\n",
       "0           1767            Negar     Negar\n",
       "1          11920            Negar     Negar\n",
       "2           8910            Negar     Negar\n",
       "3           4964            Negar     Negar\n",
       "4          10100            Negar     Negar\n",
       "...          ...              ...       ...\n",
       "9495        5155            Negar     Negar\n",
       "9496       11977            Negar  Conceder\n",
       "9497        9278            Negar     Negar\n",
       "9498        2525            Negar     Negar\n",
       "9499        9636            Negar     Negar\n",
       "\n",
       "[9500 rows x 3 columns]"
      ]
     },
     "execution_count": 9,
     "metadata": {},
     "output_type": "execute_result"
    }
   ],
   "source": [
    "df1"
   ]
  },
  {
   "cell_type": "markdown",
   "id": "af25d132-a895-492c-b81d-f34705243286",
   "metadata": {
    "tags": []
   },
   "source": [
    "### 1.5 Matriz de Confusão e Acurácia"
   ]
  },
  {
   "cell_type": "code",
   "execution_count": 10,
   "id": "dd0e14d3-b04c-428e-8634-c07f2edd3b53",
   "metadata": {},
   "outputs": [],
   "source": [
    "matrix = mt.confusion_matrix(y_train, y_pred)"
   ]
  },
  {
   "cell_type": "code",
   "execution_count": 11,
   "id": "1598fa4b-8b8d-4329-9828-016225539228",
   "metadata": {},
   "outputs": [],
   "source": [
    "matrix_display = mt.ConfusionMatrixDisplay(confusion_matrix = matrix, display_labels = ['Negar', 'Conceder'])"
   ]
  },
  {
   "cell_type": "code",
   "execution_count": 12,
   "id": "43bd33a9-6a81-45d8-b7e6-174b6bbd0065",
   "metadata": {},
   "outputs": [
    {
     "data": {
      "image/png": "[encoded data removed]",
      "text/plain": [
       "<Figure size 640x480 with 2 Axes>"
      ]
     },
     "metadata": {},
     "output_type": "display_data"
    }
   ],
   "source": [
    "matrix_display.plot()\n",
    "plt.show()\n"
   ]
  },
  {
   "cell_type": "code",
   "execution_count": 13,
   "id": "e3cc2218-3227-4165-9beb-b6351bdab9ba",
   "metadata": {},
   "outputs": [
    {
     "data": {
      "text/plain": [
       "0.8550526315789474"
      ]
     },
     "execution_count": 13,
     "metadata": {},
     "output_type": "execute_result"
    }
   ],
   "source": [
    "mt.accuracy_score(y_train, y_pred)"
   ]
  },
  {
   "cell_type": "markdown",
   "id": "01421dfb-015f-46f3-8bbd-4a4e0a8849cf",
   "metadata": {
    "tags": []
   },
   "source": [
    "### 1.6 Precisão e Recall "
   ]
  },
  {
   "cell_type": "code",
   "execution_count": 14,
   "id": "d04b45d3-9639-4925-a280-e72ab24c9a36",
   "metadata": {},
   "outputs": [
    {
     "data": {
      "text/plain": [
       "0.5794044665012407"
      ]
     },
     "execution_count": 14,
     "metadata": {},
     "output_type": "execute_result"
    }
   ],
   "source": [
    "mt.precision_score( y_train, y_pred, average=\"binary\", pos_label='Conceder' )"
   ]
  },
  {
   "cell_type": "code",
   "execution_count": 15,
   "id": "6c1cce68-8aa8-4a95-9ff9-fe91d26b861b",
   "metadata": {},
   "outputs": [
    {
     "data": {
      "text/plain": [
       "0.3102990033222591"
      ]
     },
     "execution_count": 15,
     "metadata": {},
     "output_type": "execute_result"
    }
   ],
   "source": [
    "mt.recall_score( y_train, y_pred, average='binary', pos_label='Conceder' )"
   ]
  },
  {
   "cell_type": "markdown",
   "id": "8ec34c69-e1f9-458e-8a67-1087858f4927",
   "metadata": {
    "tags": []
   },
   "source": [
    "# 2. Retreino o algoritmo com os seguintes valores para K: [3, 5, 7, 9, 11, 13, 15, 17, 19 e 21] e anote a acurácia."
   ]
  },
  {
   "cell_type": "code",
   "execution_count": 46,
   "id": "dca66b76-a33b-4167-bf25-9b7d7b2c0461",
   "metadata": {},
   "outputs": [
    {
     "data": {
      "text/plain": [
       "0.8462105263157895"
      ]
     },
     "execution_count": 46,
     "metadata": {},
     "output_type": "execute_result"
    }
   ],
   "source": [
    "knn_classifier = KNeighborsClassifier( n_neighbors = 21 )\n",
    "knn_classifier.fit( x_train, y_train )\n",
    "y_pred = knn_classifier.predict( x_train )\n",
    "accuracy = mt.accuracy_score( y_train, y_pred )\n",
    "accuracy"
   ]
  },
  {
   "cell_type": "markdown",
   "id": "85149823-3663-49ee-b1b0-16050eb8dd73",
   "metadata": {},
   "source": [
    "K Number: 3  ---   Accuracy: 0.8854736842105263 \n",
    "\n",
    "K Number: 5  ---   Accuracy: 0.8667368421052631 \n",
    "\n",
    "K Number: 7  ---   Accuracy: 0.8590526315789474 \n",
    "\n",
    "K Number: 9  ---   Accuracy: 0.8528421052631578 \n",
    "\n",
    "K Number: 11  ---   Accuracy: 0.85 \n",
    "\n",
    "K Number: 13  ---   Accuracy: 0.8492631578947368 \n",
    "\n",
    "K Number: 15  ---   Accuracy: 0.848 \n",
    "\n",
    "K Number: 17  ---   Accuracy: 0.8478947368421053 \n",
    "\n",
    "K Number: 19  ---   Accuracy: 0.8478947368421053 \n",
    "\n",
    "K Number: 21  ---   Accuracy: 0.8462105263157895 "
   ]
  },
  {
   "cell_type": "markdown",
   "id": "52b5ca3a-a294-45f0-b6c8-3313aadfe6c4",
   "metadata": {
    "tags": []
   },
   "source": [
    "# 3. Qual o problema principal de usar a métrica acurácia? Escreve um exemplo hipotético, no qual o problema acontece."
   ]
  },
  {
   "cell_type": "markdown",
   "id": "9671c6be-2235-48ef-a871-24122f3144d5",
   "metadata": {},
   "source": [
    "A acurácia é uma métrica bastante utilizada. Porém há algumas situações em que ela não vai corresponder ao problema modelado.\n",
    "\n",
    "Em problemas onde temos classes desbalanceadas como por exemplo, identificação de fraudes em cartões de crédito, o número de casos onde é fraude costuma ser bem menor em relação ao número de não fraudes. Vamos supor que tenhamos 99800 casos onde não ocorreram fraudes e 200 casos de fraudes. \n",
    "\n",
    "Se criassemos um modelo onde todos os casos fossem considerados não fraudes teriamos uma acurácia de 99,8%, e acabariamos validando o modelo como otimo sendo que nenhuma fraude foi detectada."
   ]
  },
  {
   "cell_type": "markdown",
   "id": "34f169b0-198b-479d-a545-c655780ea713",
   "metadata": {
    "tags": []
   },
   "source": [
    "# 4. Explique com um pequeno texto ilustrando a diferença entre a métrica de Precision e Recall e mostrando quando usa deve ser escolhida em relação a outra."
   ]
  },
  {
   "cell_type": "code",
   "execution_count": 49,
   "id": "88c0200f-d226-41a0-a5a9-c441a7cd1fcb",
   "metadata": {},
   "outputs": [
    {
     "data": {
      "text/latex": [
       "$\\displaystyle \\large Precision = \\frac {TP}{TP + FP}$"
      ],
      "text/plain": [
       "<IPython.core.display.Math object>"
      ]
     },
     "metadata": {},
     "output_type": "display_data"
    }
   ],
   "source": [
    "display(Math(r'\\large Precision = \\frac {TP}{TP + FP}'))"
   ]
  },
  {
   "cell_type": "markdown",
   "id": "0811227f-40e5-4edf-a48e-c289b11512bc",
   "metadata": {},
   "source": [
    "A precisão é usada em situações em que os falsos positivos prejudicam mais que os falsos negativos.\n",
    "\n",
    "Quando classificamos um investimento como um bom investimento, precisamos estar corretos, pois é melhor classificarmos um investimento bom como um investimento ruim ( falso negativo ) e não investirmos, do que classificar um investimento ruim como bom e investirmos, e perdermos dinheiro no processo.\n",
    "\n",
    "Nesse caso precisamos de um modelo que seja preciso em suas classificações, para não cairmos em investimentos ruins que sejam classificados como bons."
   ]
  },
  {
   "cell_type": "code",
   "execution_count": 50,
   "id": "dbf14cdd-03ee-46c5-9f9b-b0e3a31bc061",
   "metadata": {},
   "outputs": [
    {
     "data": {
      "text/latex": [
       "$\\displaystyle \\large Recall = \\frac {TP}{TP + FN}$"
      ],
      "text/plain": [
       "<IPython.core.display.Math object>"
      ]
     },
     "metadata": {},
     "output_type": "display_data"
    }
   ],
   "source": [
    "display(Math(r'\\large Recall = \\frac {TP}{TP + FN}'))"
   ]
  },
  {
   "cell_type": "markdown",
   "id": "5d3865dd-3495-4d2f-ac65-30e160fbe64d",
   "metadata": {},
   "source": [
    "O recall é utilizado em situações onde os falsos negativos são considerados mais prejudiciais que os falsos positivos.\n",
    "\n",
    "Vamos supor que estamos desenvolvendo um modelo que classifica pacientes doentes, é melhor que ele classifique um paciente saudavel como doente( falso positivo ), do que ele classificar um paciente como saudavel sendo que eles esta doente, já que nesse caso estariamos cometendo um erro que pode custar vidas."
   ]
  },
  {
   "cell_type": "markdown",
   "id": "a40ff2b3-18a7-4e06-a51c-25e90e824722",
   "metadata": {
    "tags": []
   },
   "source": [
    "# 5. Escreve um trecho de código que automatize o treinamento do algoritmo KNN, a fim de encontrar o melhor valor para K, do exercício 2."
   ]
  },
  {
   "cell_type": "code",
   "execution_count": 68,
   "id": "1800d57f-26de-449c-bd01-5a4b7c09225b",
   "metadata": {},
   "outputs": [
    {
     "data": {
      "text/plain": [
       "array([ 3,  5,  7,  9, 11, 13, 15, 17, 19, 21])"
      ]
     },
     "execution_count": 68,
     "metadata": {},
     "output_type": "execute_result"
    }
   ],
   "source": [
    "np.arange(3, 22, 2) # criando a lista com np - somente para facilitar"
   ]
  },
  {
   "cell_type": "code",
   "execution_count": 25,
   "id": "6da02801-418e-44a8-a731-c29b0bbd0b87",
   "metadata": {},
   "outputs": [
    {
     "name": "stdout",
     "output_type": "stream",
     "text": [
      "K Number: 3\n",
      "Accuracy: 0.8854736842105263 \n",
      "\n",
      "K Number: 5\n",
      "Accuracy: 0.8667368421052631 \n",
      "\n",
      "K Number: 7\n",
      "Accuracy: 0.8590526315789474 \n",
      "\n",
      "K Number: 9\n",
      "Accuracy: 0.8528421052631578 \n",
      "\n",
      "K Number: 11\n",
      "Accuracy: 0.85 \n",
      "\n",
      "K Number: 13\n",
      "Accuracy: 0.8492631578947368 \n",
      "\n",
      "K Number: 15\n",
      "Accuracy: 0.848 \n",
      "\n",
      "K Number: 17\n",
      "Accuracy: 0.8478947368421053 \n",
      "\n",
      "K Number: 19\n",
      "Accuracy: 0.8478947368421053 \n",
      "\n",
      "K Number: 21\n",
      "Accuracy: 0.8462105263157895 \n",
      "\n"
     ]
    }
   ],
   "source": [
    "k_list = np.arange(3, 22, 2)\n",
    "accuracy_list = []\n",
    "\n",
    "for i in k:\n",
    "    print(f'K Number: {i}')\n",
    "    knn_classifier = KNeighborsClassifier( n_neighbors = i )\n",
    "    knn_classifier.fit( x_train, y_train )\n",
    "    y_pred = knn_classifier.predict( x_train )\n",
    "    accuracy = mt.accuracy_score( y_train, y_pred )\n",
    "    print(f'Accuracy: {accuracy} \\n')\n",
    "    accuracy_list.append(accuracy)"
   ]
  },
  {
   "cell_type": "code",
   "execution_count": 28,
   "id": "e6caf276-3d4a-4a2e-89cc-2af88c09ff41",
   "metadata": {},
   "outputs": [],
   "source": [
    "k_accuracy = { 'k': k_list, 'accuracy': accuracy_list}"
   ]
  },
  {
   "cell_type": "code",
   "execution_count": 30,
   "id": "db3c1e66-e975-4c45-afab-b70134d1f6d7",
   "metadata": {},
   "outputs": [
    {
     "data": {
      "text/html": [
       "<div>\n",
       "<style scoped>\n",
       "    .dataframe tbody tr th:only-of-type {\n",
       "        vertical-align: middle;\n",
       "    }\n",
       "\n",
       "    .dataframe tbody tr th {\n",
       "        vertical-align: top;\n",
       "    }\n",
       "\n",
       "    .dataframe thead th {\n",
       "        text-align: right;\n",
       "    }\n",
       "</style>\n",
       "<table border=\"1\" class=\"dataframe\">\n",
       "  <thead>\n",
       "    <tr style=\"text-align: right;\">\n",
       "      <th></th>\n",
       "      <th>k</th>\n",
       "      <th>accuracy</th>\n",
       "    </tr>\n",
       "  </thead>\n",
       "  <tbody>\n",
       "    <tr>\n",
       "      <th>0</th>\n",
       "      <td>3</td>\n",
       "      <td>0.885474</td>\n",
       "    </tr>\n",
       "    <tr>\n",
       "      <th>1</th>\n",
       "      <td>5</td>\n",
       "      <td>0.866737</td>\n",
       "    </tr>\n",
       "    <tr>\n",
       "      <th>2</th>\n",
       "      <td>7</td>\n",
       "      <td>0.859053</td>\n",
       "    </tr>\n",
       "    <tr>\n",
       "      <th>3</th>\n",
       "      <td>9</td>\n",
       "      <td>0.852842</td>\n",
       "    </tr>\n",
       "    <tr>\n",
       "      <th>4</th>\n",
       "      <td>11</td>\n",
       "      <td>0.850000</td>\n",
       "    </tr>\n",
       "    <tr>\n",
       "      <th>5</th>\n",
       "      <td>13</td>\n",
       "      <td>0.849263</td>\n",
       "    </tr>\n",
       "    <tr>\n",
       "      <th>6</th>\n",
       "      <td>15</td>\n",
       "      <td>0.848000</td>\n",
       "    </tr>\n",
       "    <tr>\n",
       "      <th>7</th>\n",
       "      <td>17</td>\n",
       "      <td>0.847895</td>\n",
       "    </tr>\n",
       "    <tr>\n",
       "      <th>8</th>\n",
       "      <td>19</td>\n",
       "      <td>0.847895</td>\n",
       "    </tr>\n",
       "    <tr>\n",
       "      <th>9</th>\n",
       "      <td>21</td>\n",
       "      <td>0.846211</td>\n",
       "    </tr>\n",
       "  </tbody>\n",
       "</table>\n",
       "</div>"
      ],
      "text/plain": [
       "    k  accuracy\n",
       "0   3  0.885474\n",
       "1   5  0.866737\n",
       "2   7  0.859053\n",
       "3   9  0.852842\n",
       "4  11  0.850000\n",
       "5  13  0.849263\n",
       "6  15  0.848000\n",
       "7  17  0.847895\n",
       "8  19  0.847895\n",
       "9  21  0.846211"
      ]
     },
     "execution_count": 30,
     "metadata": {},
     "output_type": "execute_result"
    }
   ],
   "source": [
    "k_accuracy_dataframe = pd.DataFrame(k_accuracy)\n",
    "k_accuracy_dataframe"
   ]
  },
  {
   "cell_type": "code",
   "execution_count": 43,
   "id": "daed8e9a-59af-4baf-9df7-f32a98133b3c",
   "metadata": {},
   "outputs": [
    {
     "data": {
      "image/png": "[encoded data removed]",
      "text/plain": [
       "<Figure size 640x480 with 1 Axes>"
      ]
     },
     "metadata": {},
     "output_type": "display_data"
    }
   ],
   "source": [
    "fig, ax = plt.subplots()\n",
    "k_accuracy_dataframe.plot(x=\"k\", y=\"accuracy\", marker=\"o\", ax=ax)\n",
    "ax.set_xlim(3,21)\n",
    "ax.set_xticks(np.arange(3, 22, 2));"
   ]
  },
  {
   "cell_type": "markdown",
   "id": "a84432d8-cfaa-4e11-a932-480947ea7bf1",
   "metadata": {
    "tags": []
   },
   "source": [
    "# 6. Escreva um pequeno texto, explicando as 6 denominações da matriz de confusão: P, N, TP, FN, FP e TN"
   ]
  },
  {
   "cell_type": "markdown",
   "id": "c8083a46-d992-4f0f-92f7-47ca1e85c463",
   "metadata": {},
   "source": [
    "P = Classe Positiva\n",
    "\n",
    "N = Classe Negativa\n",
    "\n",
    "True Positive = Classificação correta da classe positiva\n",
    "\n",
    "True Negative = Classificação correta da classe negativa\n",
    "\n",
    "False Positive = Classificação errada da classe positiva\n",
    "\n",
    "False Negative = Classificação errada da classe negativa\n"
   ]
  },
  {
   "cell_type": "markdown",
   "id": "481cf137-55d6-4da0-bea8-3fa3b49dcc9a",
   "metadata": {
    "tags": []
   },
   "source": [
    "# 7. No conjunto de dados usado na aula 12: “K-Nearest Neighbors - Prática”, existe alguma variável que fere as premissas do K-NN? Se sim ou não, explique."
   ]
  },
  {
   "cell_type": "markdown",
   "id": "1921a1f7-d52a-4952-a643-f9afb3f61b69",
   "metadata": {},
   "source": [
    "A coluna id_cliente como um recurso não faz sentido, porque o modelo tratará o id como um valor numérico que diminuirá o desempenho do modelo, porque não há conexão entre o valor do id com se ele recebera o limite adicional ou não."
   ]
  },
  {
   "cell_type": "code",
   "execution_count": null,
   "id": "a3222b21",
   "metadata": {},
   "outputs": [],
   "source": [
    "# Criar e treinar o modelo KNN\n",
    "k = 2  # Número de vizinhos\n",
    "knn_classifier = KNeighborsClassifier(n_neighbors=k)\n",
    "knn_classifier.fit(X_train, y_train)\n",
    "\n",
    "# Fazer previsões nos dados de treinamento (isso é apenas para demonstração do método predict)\n",
    "y_pred = knn_classifier.predict(X_train)\n",
    "print(\"Previsões nos dados de treinamento:\", y_pred)"
   ]
  }
 ],
 "metadata": {
  "kernelspec": {
   "display_name": "Python 3 (ipykernel)",
   "language": "python",
   "name": "python3"
  },
  "language_info": {
   "codemirror_mode": {
    "name": "ipython",
    "version": 3
   },
   "file_extension": ".py",
   "mimetype": "text/x-python",
   "name": "python",
   "nbconvert_exporter": "python",
   "pygments_lexer": "ipython3",
   "version": "3.8.15"
  },
  "vscode": {
   "interpreter": {
    "hash": "8c8751f78289082cd141816792d6d14c5fa4aad3def3f2c1188c2f0713cf4dce"
   }
  }
 },
 "nbformat": 4,
 "nbformat_minor": 5
}
