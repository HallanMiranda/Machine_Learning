{
 "cells": [
  {
   "cell_type": "code",
   "execution_count": null,
   "metadata": {},
   "outputs": [],
   "source": [
    "# Importando as bibliotecas necessárias\n",
    "import numpy as np\n",
    "import matplotlib.pyplot as plt\n",
    "from sklearn.datasets import make_classification from sklearn.linear_model import LogisticRegression from sklearn import model_selection as ms\n",
    "from sklearn import metrics as \n",
    "\n",
    "# Gerando um conjunto de dados de classificação aleatório\n",
    "X, y = make_classification(n_samples=100, n_features=2, n_informative=1, n_redundant=0, n_clusters_per_class=1, random_state=42)\n",
    "\n",
    "# Dividindo o conjunto de dados em treinamento e teste\n",
    "X_train, X_test, y_train, y_test = ms.train_test_split(X, y, test_size=0.3, random_state=42)\n",
    "# Instanciando o modelo de Regressão Logística model = LogisticRegression()\n",
    "# Treinando o modelo de Regressão Logística model.fit(X_train, y_train)\n",
    "\n",
    "# predict\n",
    "yhat_test = model.predict( X_test ) f1 = mt.f1_score( y_test, yhat_test )\n",
    "## Calculando a acurácia do modelo nos dados de teste print('F1-Score: {:.2f}'.format( f1 ) )\n",
    "\n",
    "# Retrieve the model parameters. b = model.intercept_[0]\n",
    "w1, w2 = model.coef_.T\n",
    "\n",
    "# Calculate the intercept and gradient of the decision boundary. c = -b/w2\n",
    "m = -w1/w2\n",
    "\n",
    "# Plot the data and the classification with the decision boundary. xmin, xmax = -1, 2.5\n",
    "ymin, ymax = -1, 3.0\n",
    "xd = np.array([xmin, xmax])\n",
    "yd = m*xd + c\n",
    "plt.plot(xd, yd, 'k', lw=1, ls='--')\n",
    "plt.fill_between(xd, yd, ymin, color='tab:blue', alpha=0.2) plt.fill_between(xd, yd, ymax, color='tab:orange', alpha=0.2)\n",
    "plt.scatter( X_train[:,0], X_train[:,1], c=y_train ) plt.xlim(xmin, xmax)\n",
    "plt.ylim(ymin, ymax)\n",
    "plt.show()\n",
    "\n",
    "# desenhar um grid\n",
    "xx, yy = np.mgrid[-1:2.5:.01, -1:3:.01] grid = np.c_[xx.ravel(), yy.ravel()]\n",
    "# calcular as probabilidades\n",
    "probs = model.predict_proba(grid)[:,\n",
    "\n",
    "# Desenhar os contornos\n",
    "f, ax = plt.subplots(figsize=(8, 6)) contour = ax.contourf(xx, yy, probs,\n",
    "\n",
    "# Barra de probabilidade\n",
    "ax_c = f.colorbar(contour) ax_c.set_label(\"$P(y = 1)$\") ax_c.set_ticks([0, .25, .5, .75, 1])\n",
    "1].reshape(xx.shape)\n",
    "5, cmap=\"RdBu\", vmin=0, vmax=1)\n",
    "ax.scatter( X_train[:,0], X_train[:,1], c=y_train )\n",
    "ax.set(aspect=\"equal\",\n",
    "xlim=(-1, 2.5), ylim=(-1, 3), xlabel=\"$X_1$\", ylabel=\"$X_2$\");"
   ]
  }
 ],
 "metadata": {
  "language_info": {
   "name": "python"
  },
  "orig_nbformat": 4
 },
 "nbformat": 4,
 "nbformat_minor": 2
}
