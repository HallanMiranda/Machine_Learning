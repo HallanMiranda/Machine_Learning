{
 "cells": [
  {
   "cell_type": "code",
   "execution_count": null,
   "metadata": {},
   "outputs": [],
   "source": []
  },
  {
   "cell_type": "code",
   "execution_count": null,
   "metadata": {},
   "outputs": [],
   "source": []
  },
  {
   "cell_type": "code",
   "execution_count": 25,
   "metadata": {},
   "outputs": [],
   "source": [
    "import pandas as pd \n",
    "import numpy as np\n",
    "\n",
    "\n",
    "from sklearn    import datasets         as ds\n",
    "from sklearn    import model_selection  as ms\n",
    "from sklearn    import linear_model     as lm\n",
    "from sklearn    import metrics          as mt\n",
    "from matplotlib import pyplot           as plt"
   ]
  },
  {
   "cell_type": "code",
   "execution_count": 26,
   "metadata": {},
   "outputs": [
    {
     "data": {
      "text/plain": [
       "(1000, 20)"
      ]
     },
     "execution_count": 26,
     "metadata": {},
     "output_type": "execute_result"
    }
   ],
   "source": [
    "# Generate duas classes dataset de dados sinteticos\n",
    "X, y = ds.make_classification(n_samples=1000, n_classes=2, random_state=1)\n",
    "\n",
    "df = pd.DataFrame( X )\n",
    "\n",
    "df.shape"
   ]
  },
  {
   "cell_type": "code",
   "execution_count": 27,
   "metadata": {},
   "outputs": [],
   "source": [
    "# Split training and test dataset\n",
    "X_train , X_test, y_train, y_test = ms.train_test_split( X, y, test_size=0.2)"
   ]
  },
  {
   "cell_type": "code",
   "execution_count": 42,
   "metadata": {},
   "outputs": [
    {
     "data": {
      "text/plain": [
       "array([9.16088331e-01, 8.15013595e-01, 9.92840029e-01, 2.62809179e-04,\n",
       "       7.95007212e-01, 2.52059911e-01, 5.48192044e-03, 5.19283742e-01,\n",
       "       9.39331231e-01, 3.98180457e-01, 6.19050211e-01, 5.22539875e-02,\n",
       "       7.68079268e-01, 7.76188604e-01, 5.03121873e-01, 8.32182176e-01,\n",
       "       3.25847041e-01, 7.65764928e-01, 8.05473892e-01, 9.99285886e-01,\n",
       "       9.07364221e-01, 9.61444564e-01, 8.51893208e-01, 2.45035955e-02,\n",
       "       9.38750664e-01, 8.10758893e-01, 1.63354098e-02, 3.73863945e-02,\n",
       "       1.53135686e-01, 6.69495535e-02, 6.14488413e-02, 8.77504302e-01,\n",
       "       9.85434739e-01, 3.05617342e-01, 7.87993059e-01, 4.01334125e-01,\n",
       "       8.08047410e-01, 8.34362397e-01, 4.38334168e-01, 8.97921429e-01,\n",
       "       1.70194196e-02, 9.15929402e-01, 7.32085642e-02, 7.34809603e-01,\n",
       "       2.04876497e-01, 8.72111804e-01, 9.26060077e-01, 8.66120012e-01,\n",
       "       9.51752179e-01, 9.96027109e-03, 2.39971295e-01, 9.95674425e-01,\n",
       "       2.05516673e-02, 8.36792461e-01, 5.82426826e-02, 1.14758549e-01,\n",
       "       7.55042596e-01, 9.69309926e-01, 6.04696645e-02, 7.18307576e-01,\n",
       "       1.39983145e-01, 4.71102241e-01, 8.10034121e-01, 9.24103340e-01,\n",
       "       4.46011586e-01, 4.98935078e-02, 8.48001230e-01, 9.49236338e-01,\n",
       "       5.24515379e-02, 6.14825297e-03, 3.52996256e-01, 9.89690234e-01,\n",
       "       7.20112083e-03, 4.21855489e-03, 1.18077346e-01, 5.35477628e-01,\n",
       "       1.72804200e-02, 9.75784848e-01, 9.68148978e-01, 3.38669780e-03,\n",
       "       8.77857350e-01, 7.65725428e-01, 3.55727491e-02, 9.68018080e-01,\n",
       "       3.55249369e-01, 2.60743365e-01, 5.84697602e-01, 9.61243204e-01,\n",
       "       4.38177745e-01, 9.73307658e-01, 4.11303404e-01, 2.97950616e-01,\n",
       "       3.12853146e-01, 7.88604878e-01, 1.33338214e-02, 9.97128870e-01,\n",
       "       5.90271102e-01, 4.00942778e-01, 9.91617429e-01, 6.87169016e-01,\n",
       "       9.96301478e-01, 3.16758240e-01, 4.25280944e-02, 8.39492631e-01,\n",
       "       8.68641123e-01, 8.66036599e-02, 4.06139068e-02, 5.82968969e-02,\n",
       "       9.97974656e-01, 9.26505850e-02, 6.36554786e-01, 4.97214059e-03,\n",
       "       9.97897036e-01, 4.44781481e-01, 8.84662293e-02, 9.88796334e-01,\n",
       "       1.67259531e-01, 7.54027794e-03, 6.33449107e-01, 7.36088236e-01,\n",
       "       7.84387066e-01, 9.37363909e-01, 7.34366248e-01, 7.62811007e-01,\n",
       "       7.72227498e-01, 7.83640791e-01, 1.53336485e-01, 6.82482019e-02,\n",
       "       9.84694955e-01, 4.67013350e-01, 4.55616187e-01, 7.66353467e-01,\n",
       "       9.96427071e-01, 2.76763172e-02, 9.60720391e-01, 3.46458782e-03,\n",
       "       4.12340079e-02, 1.26689508e-02, 9.76531867e-01, 7.14720796e-01,\n",
       "       8.12261371e-01, 9.81183867e-01, 1.28205586e-02, 9.78823765e-01,\n",
       "       1.89433165e-02, 9.68029607e-01, 8.74314284e-02, 8.89523384e-01,\n",
       "       1.22524949e-02, 8.56299995e-01, 6.37035499e-01, 1.49953669e-02,\n",
       "       3.94293929e-01, 3.73096135e-03, 9.98475191e-01, 8.17922388e-01,\n",
       "       9.71228263e-01, 3.97615630e-02, 7.59009483e-02, 3.66087080e-01,\n",
       "       1.30953488e-03, 5.12583838e-03, 9.69037943e-01, 2.74472418e-02,\n",
       "       7.85738433e-01, 9.45626345e-01, 7.49947338e-01, 7.58490136e-01,\n",
       "       9.42181834e-01, 4.64803253e-01, 3.49961535e-01, 9.64783426e-01,\n",
       "       7.69565745e-01, 9.12167275e-01, 1.89087786e-02, 1.40342796e-01,\n",
       "       3.53584644e-01, 9.83571183e-01, 2.58495733e-01, 9.21889701e-01,\n",
       "       7.66801248e-01, 2.69182183e-03, 9.79110531e-01, 2.55667120e-01,\n",
       "       1.23593148e-02, 5.22818041e-03, 9.44090015e-01, 2.80727427e-02,\n",
       "       9.82628407e-01, 9.98980397e-01, 8.21838152e-02, 8.44461738e-01,\n",
       "       1.22931685e-01, 7.04886186e-01, 7.24625983e-03, 8.33102067e-01,\n",
       "       7.02507937e-01, 2.65852714e-02, 2.91148584e-01, 3.79086173e-01])"
      ]
     },
     "execution_count": 42,
     "metadata": {},
     "output_type": "execute_result"
    }
   ],
   "source": [
    "# Define\n",
    "model = lm.LogisticRegression( solver='lbfgs')\n",
    "\n",
    "# Train\n",
    "model.fit( X_train, y_train )\n",
    "\n",
    "# Performace\n",
    "yhat_test = model.predict_proba( X_test)\n",
    "\n",
    "# Define quais das classes quer trabalhar\n",
    "yhat_test = yhat_test[:,1]\n",
    "yhat_test"
   ]
  },
  {
   "cell_type": "code",
   "execution_count": 43,
   "metadata": {},
   "outputs": [
    {
     "data": {
      "text/plain": [
       "[1,\n",
       " 1,\n",
       " 1,\n",
       " 0,\n",
       " 1,\n",
       " 0,\n",
       " 0,\n",
       " 0,\n",
       " 1,\n",
       " 0,\n",
       " 0,\n",
       " 0,\n",
       " 1,\n",
       " 1,\n",
       " 0,\n",
       " 1,\n",
       " 0,\n",
       " 1,\n",
       " 1,\n",
       " 1,\n",
       " 1,\n",
       " 1,\n",
       " 1,\n",
       " 0,\n",
       " 1,\n",
       " 1,\n",
       " 0,\n",
       " 0,\n",
       " 0,\n",
       " 0,\n",
       " 0,\n",
       " 1,\n",
       " 1,\n",
       " 0,\n",
       " 1,\n",
       " 0,\n",
       " 1,\n",
       " 1,\n",
       " 0,\n",
       " 1,\n",
       " 0,\n",
       " 1,\n",
       " 0,\n",
       " 1,\n",
       " 0,\n",
       " 1,\n",
       " 1,\n",
       " 1,\n",
       " 1,\n",
       " 0,\n",
       " 0,\n",
       " 1,\n",
       " 0,\n",
       " 1,\n",
       " 0,\n",
       " 0,\n",
       " 1,\n",
       " 1,\n",
       " 0,\n",
       " 1,\n",
       " 0,\n",
       " 0,\n",
       " 1,\n",
       " 1,\n",
       " 0,\n",
       " 0,\n",
       " 1,\n",
       " 1,\n",
       " 0,\n",
       " 0,\n",
       " 0,\n",
       " 1,\n",
       " 0,\n",
       " 0,\n",
       " 0,\n",
       " 0,\n",
       " 0,\n",
       " 1,\n",
       " 1,\n",
       " 0,\n",
       " 1,\n",
       " 1,\n",
       " 0,\n",
       " 1,\n",
       " 0,\n",
       " 0,\n",
       " 0,\n",
       " 1,\n",
       " 0,\n",
       " 1,\n",
       " 0,\n",
       " 0,\n",
       " 0,\n",
       " 1,\n",
       " 0,\n",
       " 1,\n",
       " 0,\n",
       " 0,\n",
       " 1,\n",
       " 1,\n",
       " 1,\n",
       " 0,\n",
       " 0,\n",
       " 1,\n",
       " 1,\n",
       " 0,\n",
       " 0,\n",
       " 0,\n",
       " 1,\n",
       " 0,\n",
       " 1,\n",
       " 0,\n",
       " 1,\n",
       " 0,\n",
       " 0,\n",
       " 1,\n",
       " 0,\n",
       " 0,\n",
       " 1,\n",
       " 1,\n",
       " 1,\n",
       " 1,\n",
       " 1,\n",
       " 1,\n",
       " 1,\n",
       " 1,\n",
       " 0,\n",
       " 0,\n",
       " 1,\n",
       " 0,\n",
       " 0,\n",
       " 1,\n",
       " 1,\n",
       " 0,\n",
       " 1,\n",
       " 0,\n",
       " 0,\n",
       " 0,\n",
       " 1,\n",
       " 1,\n",
       " 1,\n",
       " 1,\n",
       " 0,\n",
       " 1,\n",
       " 0,\n",
       " 1,\n",
       " 0,\n",
       " 1,\n",
       " 0,\n",
       " 1,\n",
       " 1,\n",
       " 0,\n",
       " 0,\n",
       " 0,\n",
       " 1,\n",
       " 1,\n",
       " 1,\n",
       " 0,\n",
       " 0,\n",
       " 0,\n",
       " 0,\n",
       " 0,\n",
       " 1,\n",
       " 0,\n",
       " 1,\n",
       " 1,\n",
       " 1,\n",
       " 1,\n",
       " 1,\n",
       " 0,\n",
       " 0,\n",
       " 1,\n",
       " 1,\n",
       " 1,\n",
       " 0,\n",
       " 0,\n",
       " 0,\n",
       " 1,\n",
       " 0,\n",
       " 1,\n",
       " 1,\n",
       " 0,\n",
       " 1,\n",
       " 0,\n",
       " 0,\n",
       " 0,\n",
       " 1,\n",
       " 0,\n",
       " 1,\n",
       " 1,\n",
       " 0,\n",
       " 1,\n",
       " 0,\n",
       " 1,\n",
       " 0,\n",
       " 1,\n",
       " 1,\n",
       " 0,\n",
       " 0,\n",
       " 0]"
      ]
     },
     "execution_count": 43,
     "metadata": {},
     "output_type": "execute_result"
    }
   ],
   "source": [
    "th = 0.62\n",
    "\n",
    "yhat_test = [ 1 if i > th else 0 for i in yhat_test]\n",
    "yhat_test"
   ]
  },
  {
   "cell_type": "code",
   "execution_count": 29,
   "metadata": {},
   "outputs": [],
   "source": [
    "# metrics curve\n",
    "fpr, tpr, thresholds = mt.roc_curve(y_test, yhat_test)"
   ]
  },
  {
   "cell_type": "code",
   "execution_count": 38,
   "metadata": {},
   "outputs": [
    {
     "data": {
      "text/plain": [
       "Text(0, 0.5, 'True Positive Rate')"
      ]
     },
     "execution_count": 38,
     "metadata": {},
     "output_type": "execute_result"
    },
    {
     "data": {
      "image/png": "[encoded data removed]",
      "text/plain": [
       "<Figure size 640x480 with 1 Axes>"
      ]
     },
     "metadata": {},
     "output_type": "display_data"
    }
   ],
   "source": [
    "plt.plot(fpr, tpr, marker='.')\n",
    "plt.xlabel( 'False Positive Rate')\n",
    "plt.ylabel( 'True Positive Rate')"
   ]
  },
  {
   "cell_type": "code",
   "execution_count": 37,
   "metadata": {},
   "outputs": [
    {
     "data": {
      "text/plain": [
       "<matplotlib.collections.LineCollection at 0x120bd9350>"
      ]
     },
     "execution_count": 37,
     "metadata": {},
     "output_type": "execute_result"
    },
    {
     "data": {
      "image/png": "[encoded data removed]",
      "text/plain": [
       "<Figure size 640x480 with 1 Axes>"
      ]
     },
     "metadata": {},
     "output_type": "display_data"
    }
   ],
   "source": [
    "plt.plot( thresholds, tpr, 'b--', label='TPR' )# aumento de true posite\n",
    "plt.plot( thresholds, 1-fpr, 'g-', label='TPR' )# diminuicao de false positve -1\n",
    "plt.xlim( [0, 1] )\n",
    "plt.ylim( [0, 1] )\n",
    "plt.vlines(0.62, 0, 1)# vertical lines plotar 0.45 e vai de 0 á 1 / 1 th de 0,62 ele faz meu tpr ser max e o meu fpr ser min\n"
   ]
  },
  {
   "cell_type": "code",
   "execution_count": null,
   "metadata": {},
   "outputs": [],
   "source": []
  },
  {
   "cell_type": "code",
   "execution_count": null,
   "metadata": {},
   "outputs": [],
   "source": []
  },
  {
   "cell_type": "code",
   "execution_count": null,
   "metadata": {},
   "outputs": [],
   "source": []
  }
 ],
 "metadata": {
  "kernelspec": {
   "display_name": "Python 3",
   "language": "python",
   "name": "python3"
  },
  "language_info": {
   "codemirror_mode": {
    "name": "ipython",
    "version": 3
   },
   "file_extension": ".py",
   "mimetype": "text/x-python",
   "name": "python",
   "nbconvert_exporter": "python",
   "pygments_lexer": "ipython3",
   "version": "3.11.4"
  },
  "orig_nbformat": 4
 },
 "nbformat": 4,
 "nbformat_minor": 2
}
