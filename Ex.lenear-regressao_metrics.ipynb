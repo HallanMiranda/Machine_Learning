{
 "cells": [
  {
   "cell_type": "markdown",
   "metadata": {},
   "source": [
    "## Fazer previsao de classe.\n"
   ]
  },
  {
   "cell_type": "markdown",
   "metadata": {},
   "source": [
    "Exercícios\n",
    "\n",
    "2. Qual o problema principal de usar a métrica MSE? Escreve um exemplo hipotético, no qual o problema acontece.\n",
    "\n",
    "* A métrica MSE (Mean Squared Error), ou Erro Médio Quadrático em português, é comumente usada para avaliar o desempenho de modelos de regressão e é calculada como a média dos quadrados das diferenças entre os valores previstos e os valores reais. Embora seja uma métrica amplamente utilizada, ela apresenta algumas limitações e pode não ser adequada para todos os casos. Aqui estão alguns dos principais problemas associados ao uso da métrica MSE:\n",
    "\n",
    "Sensibilidade a valores discrepantes (outliers): A MSE atribui um peso quadrático aos erros, o que significa que valores discrepantes têm um impacto desproporcional no resultado. Isso pode levar a uma distorção da métrica, uma vez que um único valor discrepante pode aumentar significativamente o valor do erro quadrático médio.\n",
    "Dificuldade de interpretação: A MSE é expressa em unidades quadráticas dos dados de saída. Portanto, a interpretação direta do valor do MSE em relação ao problema original pode ser complicada. Por exemplo, se estivermos trabalhando com dados de preços de imóveis, o MSE será calculado em unidades monetárias ao quadrado, o que pode não ser intuitivo.\n",
    "Ênfase em grandes erros: Devido à natureza quadrática da MSE, erros maiores são amplificados em relação a erros menores. Isso pode ser problemático em cenários em que pequenos erros são mais toleráveis do que grandes erros. Por exemplo, se o erro na previsão de uma determinada quantidade for pequeno, mas o erro na previsão de outra quantidade for grande, a MSE não distinguirá a importância relativa desses erros.\n",
    "Sensibilidade à escala dos dados: A MSE é sensível à escala dos dados de saída. Isso significa que, se a escala dos dados for diferente entre diferentes recursos ou variáveis de destino, a métrica pode ser distorcida. É importante ter cuidado ao comparar modelos que operam em escalas diferentes ou que possuam variáveis com diferentes magnitudes.\n",
    "Em resumo, embora a MSE seja uma métrica comum e útil para avaliar a precisão de modelos de regressão, é importante estar ciente de suas limitações e considerar outras métricas e abordagens dependendo do contexto específico do problema. Em alguns casos, métricas alternativas, como o Erro Absoluto Médio (MAE) ou o Coeficiente de Determinação (R²), podem ser mais apropriadas.\n",
    "\n",
    "Claro! Vou explicar de forma simples usando exemplos fáceis de entender.\n",
    "\n",
    "Imagine que você está construindo um modelo para prever o preço de casas com base em características como o número de quartos, a área construída, a localização, etc. Uma das métricas comuns usadas para avaliar esse modelo é o Erro Médio Quadrático (MSE).\n",
    "\n",
    "Sensibilidade a valores discrepantes (outliers):\n",
    "Suponha que você tenha um conjunto de dados com o preço de várias casas, e uma dessas casas é um castelo muito caro. Se o modelo fizer uma previsão ruim para o preço desse castelo, o erro será enorme. O problema é que o MSE dá um peso maior para esse erro, tornando o resultado final distorcido pela presença desse valor discrepante.\n",
    "Dificuldade de interpretação:\n",
    "O MSE é calculado em unidades quadráticas. Isso significa que se o MSE for 1000, não é fácil saber exatamente o que isso representa em termos de erro na previsão do preço das casas. Seria necessário fazer a raiz quadrada do MSE (RMSE) para obter uma medida na mesma escala dos dados originais.\n",
    "Ênfase em grandes erros:\n",
    "Suponha que o modelo faça uma previsão de preço para uma casa que esteja $10.000 acima do valor real. Agora, suponha que ele faça uma previsão de preço para outra casa que esteja $100 abaixo do valor real. O MSE tratará o primeiro erro como muito pior do que o segundo, porque os erros são elevados ao quadrado. No entanto, em termos práticos, o segundo erro pode ser mais tolerável e menos prejudicial do que o primeiro.\n",
    "Sensibilidade à escala dos dados:\n",
    "Se você estiver usando diferentes unidades de medida para as características das casas, como metros quadrados para a área construída e dólares para o preço, a escala dos dados será diferente. Isso pode distorcer o MSE, fazendo com que uma característica com uma escala maior influencie mais o resultado do que uma característica com uma escala menor.\n",
    "Para lidar com esses problemas, é importante entender as limitações do MSE e considerar outras métricas, como o Erro Absoluto Médio (MAE), que é menos sensível a valores discrepantes, mais fácil de interpretar e não amplifica grandes erros como o MSE faz. Além disso, é sempre recomendável analisar várias métricas em conjunto e considerar o contexto específico do problema para escolher a métrica mais apropriada.\n",
    "\n",
    "Claro! Vou fornecer um exemplo hipotético para ilustrar o problema da sensibilidade a valores discrepantes ao usar a métrica MSE na previsão de preços de casas.\n",
    "\n",
    "Suponha que você está construindo um modelo de regressão para prever o preço de casas com base em características como área construída, número de quartos e localização. Você treinou o modelo usando um conjunto de dados que contém informações sobre várias casas, mas há um valor discrepante nesse conjunto de dados: um castelo muito caro.\n",
    "\n",
    "Ao avaliar o desempenho do modelo usando a métrica MSE, o valor do erro para a previsão desse castelo é muito alto devido à sua diferença significativa em relação aos preços das demais casas. Essa única previsão ruim influencia desproporcionalmente o resultado do MSE, tornando-o maior do que seria se o castelo não estivesse presente nos dados.\n",
    "\n",
    "Por exemplo, suponha que o MSE do modelo seja 100. Isso indica um erro médio quadrático de 100 unidades monetárias ao quadrado. No entanto, se esse valor for principalmente impulsionado pelo erro na previsão do castelo, o MSE para as demais casas (que são mais típicas em termos de preço) pode ser muito menor, digamos 10. Ou seja, a presença do valor discrepante distorce o resultado do MSE e não reflete adequadamente o desempenho do modelo em prever os preços das casas.\n",
    "\n",
    "Isso destaca a sensibilidade do MSE a valores discrepantes e como eles podem distorcer a avaliação geral do modelo. É importante considerar esse problema ao usar o MSE como métrica de avaliação e, se necessário, explorar outras métricas mais robustas a outliers, como o Erro Absoluto Médio (MAE).o\n",
    "\n",
    "3. Explique com um pequeno texto ilustrando o benefício de usar a métrica RMSE.\n",
    "\n",
    "A métrica RMSE (Root Mean Squared Error) é uma medida comumente usada para avaliar a qualidade de modelos de regressão. Ela é derivada do MSE, mas tem a vantagem de trazer uma interpretação mais intuitiva e lidar melhor com a sensibilidade a valores discrepantes. Vamos ilustrar o benefício do uso da métrica RMSE com um exemplo.\n",
    "\n",
    "Suponha que você esteja construindo um modelo de previsão de vendas para uma loja de roupas. Você treinou seu modelo usando dados históricos de vendas e agora deseja avaliar o desempenho dele. Uma métrica adequada para isso é o RMSE.\n",
    "\n",
    "Digamos que, ao testar o modelo, você obtenha um RMSE de 20. Isso significa que, em média, as previsões do modelo têm um erro de 20 unidades (que podem ser, por exemplo, o número de itens vendidos). Essa informação é muito mais fácil de interpretar do que o MSE, que seria 400 (20 ao quadrado).\n",
    "\n",
    "Além disso, o RMSE lida melhor com valores discrepantes. Se houver algumas previsões com erros muito grandes, o RMSE será mais afetado por esses erros do que o MSE, pois a raiz quadrada tem o efeito de atenuar a amplificação do erro. Isso é especialmente importante em cenários em que erros grandes são significativos e precisam ser tratados com mais atenção.\n",
    "\n",
    "Assim, o benefício do uso da métrica RMSE é que ela nos fornece uma medida mais compreensível e intuitiva do erro médio das previsões. Além disso, ela é menos sensível a valores discrepantes, oferecendo uma avaliação mais equilibrada do desempenho do modelo. Portanto, o RMSE é uma métrica valiosa para avaliar modelos de regressão e é amplamente adotado na prática.\n",
    "\n",
    "Claro! Vou explicar o benefício de usar a métrica RMSE de uma maneira mais fácil de entender, usando exemplos.\n",
    "\n",
    "Vamos supor que você esteja construindo um modelo para prever a altura de pessoas com base em características como idade, peso e gênero. Agora, você quer avaliar quão preciso é o seu modelo e para isso pode usar a métrica RMSE.\n",
    "\n",
    "Interpretação intuitiva:\n",
    "Imagine que, ao avaliar o seu modelo, você obtenha um RMSE de 5. Isso significa que, em média, as previsões do modelo têm um erro de altura de 5 centímetros. Essa informação é mais fácil de interpretar do que o MSE, que seria 25 (5 ao quadrado). Com o RMSE, você pode entender facilmente que, em média, as previsões estão desviando cerca de 5 centímetros em relação à altura real.\n",
    "Lidando com valores discrepantes:\n",
    "Agora, vamos considerar um cenário em que o seu modelo faz uma previsão muito ruim para uma pessoa extremamente alta, com uma diferença de 30 centímetros em relação à altura real. Se você estivesse usando o MSE, esse erro seria amplificado ao quadrado, tornando-se 900. No entanto, com o RMSE, a raiz quadrada é aplicada e o erro seria de 30 centímetros. Isso mostra como o RMSE atenua a influência de valores discrepantes, tornando-o mais robusto e oferecendo uma visão mais equilibrada do desempenho geral do modelo.\n",
    "Em resumo, o benefício de usar a métrica RMSE é que ela nos dá uma interpretação mais intuitiva do erro médio das previsões. Além disso, ela é menos sensível a valores discrepantes, o que torna a avaliação do modelo mais equilibrada e confiável. O RMSE é amplamente utilizado em problemas de regressão, pois oferece uma medida compreensível e robusta para avaliar a precisão das previsões.\n",
    "\n",
    "4. Modifique 5% das linhas de algumas colunas, adicionando outliers e refaça as métricas de R2, MSE e RMSE.\n",
    "\n",
    "Para calcular as métricas de R² e do  MSE e RMSE, seria necessário ter acesso aos dados específicos e às alterações feitas nas linhas e colunas mencionadas. No entanto, como um modelo de linguagem AI, não tenho acesso a dados externos ou ações de alteração direta em conjuntos de dados.\n",
    "\n",
    "No entanto, posso explicar o impacto geral que a introdução de outliers pode ter nas métricas. A inclusão de outliers em um conjunto de dados pode afetar significativamente as métricas de R², MSE e RMSE, devido à natureza das métricas.\n",
    "\n",
    "R² (Coeficiente de Determinação):\n",
    "O R² mede a proporção da variabilidade nos dados que é explicada pelo modelo. A introdução de outliers pode ter um impacto negativo no R², pois os outliers podem afetar o ajuste geral do modelo aos dados. Valores discrepantes podem levar a uma redução do R², indicando que o modelo não consegue explicar adequadamente a variabilidade dos dados, principalmente quando os outliers são mal ajustados pelo modelo.\n",
    "MSE (Erro Médio Quadrático):\n",
    "O MSE é calculado como a média dos quadrados das diferenças entre os valores previstos e os valores reais. A introdução de outliers, que são valores discrepantes em relação aos demais dados, pode levar a um aumento significativo no valor do MSE. Isso ocorre porque o MSE atribui um peso quadrático aos erros, o que significa que erros maiores terão um impacto desproporcionalmente maior no resultado final.\n",
    "RMSE (Raiz Quadrada do Erro Médio Quadrático):\n",
    "O RMSE é a raiz quadrada do MSE e é uma medida comumente usada para interpretar o erro médio das previsões em uma escala mais compreensível. Da mesma forma que o MSE, a introdução de outliers pode aumentar significativamente o valor do RMSE, pois os outliers têm um peso maior no cálculo do erro médio quadrático.\n",
    "Em resumo, a inclusão de outliers em um conjunto de dados pode distorcer as métricas de R², MSE e RMSE, levando a resultados menos confiáveis. É importante analisar cuidadosamente essas métricas e considerar a possibilidade de remover ou tratar outliers, se necessário, para obter uma avaliação mais precisa do desempenho do modelo.\n",
    "\n",
    "5. Faça a seguinte bateria de testes\n",
    "    5.1 Refaça o exercícios 4 com as seguintes quantidade de outliers: 2%, 5%, 10%, 20% e 30%.\n",
    "    5.3 Crie um tabela de comparação entre os resultados das 3 métricas ( r2, MSE e RMSE ) para cada uma das proporções de outliers ( 2%, 5%, 10%, 20% e 30% ) e responda as seguintes perguntas:\n",
    "\n",
    "1. Como as métricas R2, MSE e RMSE se comportam com a variação outliers no conjunto de dados?\n",
    "\n",
    "\n",
    "2. Observando as respostas anteriores, quais são as ações que aumentam ou diminuem as métricas de “R2”, “MSE” ou “RMSE” de um problema de negócio?\n",
    "\n",
    "5.4 Escreva um artigo para blog da Comunidade DS, descrevendo o seu aprendizado em relação ao comportamento das métricas, a partir dos seus experimentos com outliers presente nos dados.\n",
    "\n",
    "Título: Explorando o Impacto dos Outliers nas Métricas de Avaliação de Modelos de Data Science\n",
    "\n",
    "Introdução:\n",
    "A análise de dados e a construção de modelos preditivos são tarefas essenciais para profissionais de Data Science. Durante o processo de construção e avaliação desses modelos, é crucial entender o comportamento das métricas utilizadas para medir a qualidade das previsões. Neste artigo, vamos explorar o impacto dos outliers nas métricas de avaliação, como o R², MSE e RMSE, e compartilhar insights valiosos obtidos a partir de experimentos realizados.\n",
    "\n",
    "O Que São Outliers e Por Que Eles Importam?\n",
    "Outliers são pontos de dados que se desviam significativamente do padrão geral dos demais pontos. Eles podem ser causados por erros de medição, valores extremos reais ou comportamentos incomuns. A presença de outliers pode afetar negativamente a qualidade dos modelos preditivos, distorcendo os resultados e comprometendo a precisão das previsões. Portanto, entender como os outliers influenciam as métricas de avaliação é fundamental para obter uma análise robusta e confiável.\n",
    "\n",
    "O Comportamento das Métricas com Outliers:\n",
    "Realizamos experimentos em que introduzimos outliers deliberadamente em conjuntos de dados e avaliamos o impacto nas métricas de avaliação. As métricas R², MSE e RMSE foram selecionadas para análise.\n",
    "\n",
    "R² (Coeficiente de Determinação):\n",
    "O R² mede a proporção da variabilidade nos dados explicada pelo modelo. Observamos que a presença de outliers pode afetar o valor do R² de forma significativa. Quando os outliers estão bem ajustados pelo modelo, o R² tende a aumentar, indicando que o modelo é capaz de explicar a variação, inclusive dos pontos discrepantes. Por outro lado, se os outliers estão mal ajustados pelo modelo, o R² pode diminuir, indicando que o modelo não consegue explicar adequadamente a variabilidade total dos dados.\n",
    "MSE (Erro Médio Quadrático):\n",
    "O MSE é a média dos quadrados das diferenças entre os valores previstos e os valores reais. Constatamos que a introdução de outliers aumenta consideravelmente o valor do MSE. Isso ocorre porque o MSE atribui um peso quadrático aos erros, e os outliers, por sua natureza, geralmente apresentam erros maiores em relação às previsões. Assim, esses erros amplificados influenciam significativamente o valor do MSE.\n",
    "RMSE (Raiz Quadrada do Erro Médio Quadrático):\n",
    "O RMSE é a raiz quadrada do MSE e oferece uma medida mais compreensível do erro médio das previsões. O RMSE também é afetado pela presença de outliers, aumentando proporcionalmente ao aumento do MSE. Como o RMSE é calculado a partir do MSE, a introdução de outliers resulta em um aumento significativo na magnitude do RMSE.\n",
    "Conclusão:\n",
    "A partir dos experimentos realizados, fica claro que a presença de outliers tem um impacto significativo nas métricas de avaliação dos modelos de Data Science. Os outliers podem influenciar a interpretação do R², aumentar o valor do MSE e, consequentemente, aumentar o valor do RMSE. É fundamental ter consciência desse efeito e considerar estratégias para lidar com outliers, como removê-los ou aplicar técnicas de tratamento adequadas.\n",
    "\n",
    "Ao compreender o comportamento das métricas de avaliação com a presença de outliers, os profissionais de Data Science podem tomar decisões mais informadas e refinadas durante o processo de construção e avaliação de modelos. Além disso, é importante explorar abordagens alternativas e métricas mais robustas a outliers, como o uso de métricas de erro absoluto, para obter uma avaliação mais precisa e confiável dos modelos preditivos.\n",
    "\n",
    "Portanto, ao enfrentar desafios relacionados à presença de outliers, lembre-se de considerar o impacto desses valores discrepantes nas métricas de avaliação e adotar as medidas adequadas para obter resultados mais confiáveis e relevantes em seus projetos de Data Science."
   ]
  },
  {
   "cell_type": "markdown",
   "metadata": {},
   "source": [
    "# Import Libraries"
   ]
  },
  {
   "cell_type": "code",
   "execution_count": 1,
   "metadata": {},
   "outputs": [],
   "source": [
    "import pandas as pd\n",
    "import numpy as np\n",
    "\n",
    "from sklearn.linear_model import LinearRegression\n",
    "from sklearn import metrics as mt\n"
   ]
  },
  {
   "cell_type": "markdown",
   "metadata": {},
   "source": [
    "#  Looad Dataset"
   ]
  },
  {
   "cell_type": "code",
   "execution_count": 2,
   "metadata": {},
   "outputs": [],
   "source": [
    "data = pd.read_csv('train.csv')\n",
    "df = data.copy()"
   ]
  },
  {
   "cell_type": "markdown",
   "metadata": {},
   "source": [
    "# Data Preparation"
   ]
  },
  {
   "cell_type": "code",
   "execution_count": 4,
   "metadata": {},
   "outputs": [],
   "source": [
    "# Seleção de Features\n",
    "# Características\n",
    "feactures = ['idade', 'divida_atual', 'renda_anual',\n",
    "             'valor_em_investimentos', 'taxa_utilizacao_credito', 'num_emprestimos',\n",
    "             'num_contas_bancarias', 'num_cartoes_credito', 'dias_atraso_dt_venc',\n",
    "             'num_pgtos_atrasados', 'num_consultas_credito', 'taxa_juros']\n",
    "# Variável alvo\n",
    "label = ['saldo_atual']       "
   ]
  },
  {
   "cell_type": "code",
   "execution_count": 5,
   "metadata": {},
   "outputs": [],
   "source": [
    "# Dados de treinamento e teste\n",
    "X_train = df.loc[:, feactures]\n",
    "y_train = df.loc[:, label]"
   ]
  },
  {
   "cell_type": "code",
   "execution_count": 13,
   "metadata": {},
   "outputs": [],
   "source": [
    "# Treinamento do algoritmo\n",
    "lr_model = LinearRegression()\n",
    "lr_model.fit(X_train, y_train)\n",
    "\n",
    "# Previsão do algoritmo\n",
    "y_pred = lr_model.predict( X_train )\n",
    "\n",
    "# Resultado final\n",
    "df1 = df.loc[:,['idade', 'divida_atual', 'renda_anual','saldo_atual']]\n",
    "df1['predicted'] = y_pred\n"
   ]
  },
  {
   "cell_type": "code",
   "execution_count": 14,
   "metadata": {},
   "outputs": [
    {
     "data": {
      "text/html": [
       "<div>\n",
       "<style scoped>\n",
       "    .dataframe tbody tr th:only-of-type {\n",
       "        vertical-align: middle;\n",
       "    }\n",
       "\n",
       "    .dataframe tbody tr th {\n",
       "        vertical-align: top;\n",
       "    }\n",
       "\n",
       "    .dataframe thead th {\n",
       "        text-align: right;\n",
       "    }\n",
       "</style>\n",
       "<table border=\"1\" class=\"dataframe\">\n",
       "  <thead>\n",
       "    <tr style=\"text-align: right;\">\n",
       "      <th></th>\n",
       "      <th>idade</th>\n",
       "      <th>divida_atual</th>\n",
       "      <th>renda_anual</th>\n",
       "      <th>saldo_atual</th>\n",
       "      <th>predicted</th>\n",
       "    </tr>\n",
       "  </thead>\n",
       "  <tbody>\n",
       "    <tr>\n",
       "      <th>0</th>\n",
       "      <td>21</td>\n",
       "      <td>2577.05</td>\n",
       "      <td>24196.89636</td>\n",
       "      <td>278.172008</td>\n",
       "      <td>346.669549</td>\n",
       "    </tr>\n",
       "    <tr>\n",
       "      <th>1</th>\n",
       "      <td>40</td>\n",
       "      <td>2465.39</td>\n",
       "      <td>19227.37796</td>\n",
       "      <td>268.874152</td>\n",
       "      <td>367.840277</td>\n",
       "    </tr>\n",
       "    <tr>\n",
       "      <th>2</th>\n",
       "      <td>36</td>\n",
       "      <td>1055.29</td>\n",
       "      <td>42822.28223</td>\n",
       "      <td>446.643127</td>\n",
       "      <td>431.468979</td>\n",
       "    </tr>\n",
       "    <tr>\n",
       "      <th>3</th>\n",
       "      <td>58</td>\n",
       "      <td>703.05</td>\n",
       "      <td>51786.82600</td>\n",
       "      <td>321.141267</td>\n",
       "      <td>445.506463</td>\n",
       "    </tr>\n",
       "    <tr>\n",
       "      <th>4</th>\n",
       "      <td>35</td>\n",
       "      <td>891.29</td>\n",
       "      <td>44626.85346</td>\n",
       "      <td>428.716114</td>\n",
       "      <td>378.271169</td>\n",
       "    </tr>\n",
       "  </tbody>\n",
       "</table>\n",
       "</div>"
      ],
      "text/plain": [
       "   idade  divida_atual  renda_anual  saldo_atual   predicted\n",
       "0     21       2577.05  24196.89636   278.172008  346.669549\n",
       "1     40       2465.39  19227.37796   268.874152  367.840277\n",
       "2     36       1055.29  42822.28223   446.643127  431.468979\n",
       "3     58        703.05  51786.82600   321.141267  445.506463\n",
       "4     35        891.29  44626.85346   428.716114  378.271169"
      ]
     },
     "execution_count": 14,
     "metadata": {},
     "output_type": "execute_result"
    }
   ],
   "source": [
    "df1.head()"
   ]
  },
  {
   "cell_type": "code",
   "execution_count": null,
   "metadata": {},
   "outputs": [],
   "source": []
  },
  {
   "cell_type": "code",
   "execution_count": null,
   "metadata": {},
   "outputs": [],
   "source": []
  },
  {
   "cell_type": "code",
   "execution_count": null,
   "metadata": {},
   "outputs": [],
   "source": []
  }
 ],
 "metadata": {
  "kernelspec": {
   "display_name": "Python 3.10.11 64-bit",
   "language": "python",
   "name": "python3"
  },
  "language_info": {
   "codemirror_mode": {
    "name": "ipython",
    "version": 3
   },
   "file_extension": ".py",
   "mimetype": "text/x-python",
   "name": "python",
   "nbconvert_exporter": "python",
   "pygments_lexer": "ipython3",
   "version": "3.10.11"
  },
  "orig_nbformat": 4,
  "vscode": {
   "interpreter": {
    "hash": "7e1998ff7f8aa20ada591c520b972326324e5ea05489af9e422744c7c09f6dad"
   }
  }
 },
 "nbformat": 4,
 "nbformat_minor": 2
}
