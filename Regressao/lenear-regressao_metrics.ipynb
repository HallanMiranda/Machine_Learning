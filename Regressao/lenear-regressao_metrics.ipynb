{
 "cells": [
  {
   "cell_type": "markdown",
   "metadata": {},
   "source": [
    "## Fazer previsao de classe.\n"
   ]
  },
  {
   "cell_type": "markdown",
   "metadata": {},
   "source": [
    "Linear_Regression.ipynb\n",
    "Decision_Tree.ipynb\n",
    "Regressor_Random.ipynb\n",
    "Forest_Regressor.ipynb\n",
    "Linear_Regression.ipynb\n",
    "Lasso_Linear.ipynb\n",
    "Regression_Ridge.ipynb\n",
    "Linear_Regression.ipynb\n",
    "Elastic_Net_Polinomial.ipynb\n",
    "Regression_Lasso_Polinomial.ipynb\n",
    "Regression_Ridge_e_Polinomial.ipynb\n",
    "Regression_Elastic_Net.ipynb"
   ]
  },
  {
   "cell_type": "markdown",
   "metadata": {},
   "source": [
    "# Import Libraries"
   ]
  },
  {
   "cell_type": "code",
   "execution_count": 120,
   "metadata": {},
   "outputs": [],
   "source": [
    "import pandas as pd\n",
    "import numpy as np\n",
    "\n",
    "from sklearn.linear_model import LinearRegression\n",
    "from sklearn import metrics as mt\n"
   ]
  },
  {
   "cell_type": "markdown",
   "metadata": {},
   "source": [
    "#  Looad Dataset"
   ]
  },
  {
   "cell_type": "code",
   "execution_count": 121,
   "metadata": {},
   "outputs": [],
   "source": [
    "data = pd.read_csv('train.csv')\n",
    "df = data.copy()"
   ]
  },
  {
   "cell_type": "markdown",
   "metadata": {},
   "source": [
    "# Data Preparation"
   ]
  },
  {
   "cell_type": "code",
   "execution_count": 122,
   "metadata": {},
   "outputs": [],
   "source": [
    "feactures = ['idade', 'divida_atual', 'renda_anual',\n",
    "       'valor_em_investimentos', 'taxa_utilizacao_credito', 'num_emprestimos',\n",
    "       'num_contas_bancarias', 'num_cartoes_credito', 'dias_atraso_dt_venc',\n",
    "       'num_pgtos_atrasados', 'num_consultas_credito', 'taxa_juros']\n",
    "label = ['saldo_atual']       "
   ]
  },
  {
   "cell_type": "code",
   "execution_count": 140,
   "metadata": {},
   "outputs": [],
   "source": [
    "X_tarin = df.loc[:, feactures]\n",
    "y_train = df.loc[:, label]"
   ]
  },
  {
   "cell_type": "code",
   "execution_count": 124,
   "metadata": {},
   "outputs": [
    {
     "data": {
      "text/html": [
       "<div>\n",
       "<style scoped>\n",
       "    .dataframe tbody tr th:only-of-type {\n",
       "        vertical-align: middle;\n",
       "    }\n",
       "\n",
       "    .dataframe tbody tr th {\n",
       "        vertical-align: top;\n",
       "    }\n",
       "\n",
       "    .dataframe thead th {\n",
       "        text-align: right;\n",
       "    }\n",
       "</style>\n",
       "<table border=\"1\" class=\"dataframe\">\n",
       "  <thead>\n",
       "    <tr style=\"text-align: right;\">\n",
       "      <th></th>\n",
       "      <th>idade</th>\n",
       "      <th>divida_atual</th>\n",
       "      <th>renda_anual</th>\n",
       "      <th>num_emprestimos</th>\n",
       "      <th>saldo_atual</th>\n",
       "    </tr>\n",
       "  </thead>\n",
       "  <tbody>\n",
       "    <tr>\n",
       "      <th>0</th>\n",
       "      <td>21</td>\n",
       "      <td>2577.05</td>\n",
       "      <td>24196.89636</td>\n",
       "      <td>6</td>\n",
       "      <td>278.172008</td>\n",
       "    </tr>\n",
       "    <tr>\n",
       "      <th>1</th>\n",
       "      <td>40</td>\n",
       "      <td>2465.39</td>\n",
       "      <td>19227.37796</td>\n",
       "      <td>5</td>\n",
       "      <td>268.874152</td>\n",
       "    </tr>\n",
       "    <tr>\n",
       "      <th>2</th>\n",
       "      <td>36</td>\n",
       "      <td>1055.29</td>\n",
       "      <td>42822.28223</td>\n",
       "      <td>0</td>\n",
       "      <td>446.643127</td>\n",
       "    </tr>\n",
       "    <tr>\n",
       "      <th>3</th>\n",
       "      <td>58</td>\n",
       "      <td>703.05</td>\n",
       "      <td>51786.82600</td>\n",
       "      <td>0</td>\n",
       "      <td>321.141267</td>\n",
       "    </tr>\n",
       "    <tr>\n",
       "      <th>4</th>\n",
       "      <td>35</td>\n",
       "      <td>891.29</td>\n",
       "      <td>44626.85346</td>\n",
       "      <td>2</td>\n",
       "      <td>428.716114</td>\n",
       "    </tr>\n",
       "  </tbody>\n",
       "</table>\n",
       "</div>"
      ],
      "text/plain": [
       "   idade  divida_atual  renda_anual  num_emprestimos  saldo_atual\n",
       "0     21       2577.05  24196.89636                6   278.172008\n",
       "1     40       2465.39  19227.37796                5   268.874152\n",
       "2     36       1055.29  42822.28223                0   446.643127\n",
       "3     58        703.05  51786.82600                0   321.141267\n",
       "4     35        891.29  44626.85346                2   428.716114"
      ]
     },
     "execution_count": 124,
     "metadata": {},
     "output_type": "execute_result"
    }
   ],
   "source": [
    "dfc = pd.concat([X_tarin,y_train], axis=1)\n",
    "dfc.head()"
   ]
  },
  {
   "cell_type": "markdown",
   "metadata": {},
   "source": [
    "## Model Training - Statsmodels"
   ]
  },
  {
   "cell_type": "code",
   "execution_count": 125,
   "metadata": {},
   "outputs": [
    {
     "data": {
      "text/html": [
       "<div>\n",
       "<style scoped>\n",
       "    .dataframe tbody tr th:only-of-type {\n",
       "        vertical-align: middle;\n",
       "    }\n",
       "\n",
       "    .dataframe tbody tr th {\n",
       "        vertical-align: top;\n",
       "    }\n",
       "\n",
       "    .dataframe thead th {\n",
       "        text-align: right;\n",
       "    }\n",
       "</style>\n",
       "<table border=\"1\" class=\"dataframe\">\n",
       "  <thead>\n",
       "    <tr style=\"text-align: right;\">\n",
       "      <th></th>\n",
       "      <th>df</th>\n",
       "      <th>sum_sq</th>\n",
       "      <th>mean_sq</th>\n",
       "      <th>F</th>\n",
       "      <th>PR(&gt;F)</th>\n",
       "    </tr>\n",
       "  </thead>\n",
       "  <tbody>\n",
       "    <tr>\n",
       "      <th>idade</th>\n",
       "      <td>1.0</td>\n",
       "      <td>4.085925e+02</td>\n",
       "      <td>4.085925e+02</td>\n",
       "      <td>0.009575</td>\n",
       "      <td>9.220529e-01</td>\n",
       "    </tr>\n",
       "    <tr>\n",
       "      <th>divida_atual</th>\n",
       "      <td>1.0</td>\n",
       "      <td>4.494005e+07</td>\n",
       "      <td>4.494005e+07</td>\n",
       "      <td>1053.104993</td>\n",
       "      <td>3.537135e-219</td>\n",
       "    </tr>\n",
       "    <tr>\n",
       "      <th>num_emprestimos</th>\n",
       "      <td>1.0</td>\n",
       "      <td>3.976109e+03</td>\n",
       "      <td>3.976109e+03</td>\n",
       "      <td>0.093174</td>\n",
       "      <td>7.601864e-01</td>\n",
       "    </tr>\n",
       "    <tr>\n",
       "      <th>Residual</th>\n",
       "      <td>9496.0</td>\n",
       "      <td>4.052309e+08</td>\n",
       "      <td>4.267385e+04</td>\n",
       "      <td>NaN</td>\n",
       "      <td>NaN</td>\n",
       "    </tr>\n",
       "  </tbody>\n",
       "</table>\n",
       "</div>"
      ],
      "text/plain": [
       "                     df        sum_sq       mean_sq            F  \\\n",
       "idade               1.0  4.085925e+02  4.085925e+02     0.009575   \n",
       "divida_atual        1.0  4.494005e+07  4.494005e+07  1053.104993   \n",
       "num_emprestimos     1.0  3.976109e+03  3.976109e+03     0.093174   \n",
       "Residual         9496.0  4.052309e+08  4.267385e+04          NaN   \n",
       "\n",
       "                        PR(>F)  \n",
       "idade             9.220529e-01  \n",
       "divida_atual     3.537135e-219  \n",
       "num_emprestimos   7.601864e-01  \n",
       "Residual                   NaN  "
      ]
     },
     "execution_count": 125,
     "metadata": {},
     "output_type": "execute_result"
    }
   ],
   "source": [
    "import statsmodels.formula.api as smf\n",
    "import statsmodels.api as sm\n",
    "\n",
    "# Definição do modelo\n",
    "lr_model = smf.ols(formula='saldo_atual ~ idade + divida_atual + num_emprestimos', data=df)\n",
    "\n",
    "# Treinamento do modelo\n",
    "lr_model = lr_model.fit()\n",
    "\n",
    "# Teste de ANOVA\n",
    "anova_result = sm.stats.anova_lm(lr_model, typ=1)\n",
    "anova_result"
   ]
  },
  {
   "cell_type": "markdown",
   "metadata": {},
   "source": [
    "# Model Training"
   ]
  },
  {
   "cell_type": "code",
   "execution_count": 126,
   "metadata": {},
   "outputs": [],
   "source": [
    "# Model definition\n",
    "lr_model = LinearRegression() # exemplo de modeledo da linear refgression\n",
    "\n",
    "#  model fit ( ajuste de treinamento)\n",
    "lr_model.fit(X_tarin, y_train)\n",
    "\n",
    "#  previsao\n",
    "y_pred = lr_model.predict(X_tarin)"
   ]
  },
  {
   "cell_type": "code",
   "execution_count": 127,
   "metadata": {},
   "outputs": [
    {
     "data": {
      "text/html": [
       "<div>\n",
       "<style scoped>\n",
       "    .dataframe tbody tr th:only-of-type {\n",
       "        vertical-align: middle;\n",
       "    }\n",
       "\n",
       "    .dataframe tbody tr th {\n",
       "        vertical-align: top;\n",
       "    }\n",
       "\n",
       "    .dataframe thead th {\n",
       "        text-align: right;\n",
       "    }\n",
       "</style>\n",
       "<table border=\"1\" class=\"dataframe\">\n",
       "  <thead>\n",
       "    <tr style=\"text-align: right;\">\n",
       "      <th></th>\n",
       "      <th>idade</th>\n",
       "      <th>divida_atual</th>\n",
       "      <th>renda_anual</th>\n",
       "      <th>num_emprestimos</th>\n",
       "      <th>saldo_atual</th>\n",
       "    </tr>\n",
       "  </thead>\n",
       "  <tbody>\n",
       "    <tr>\n",
       "      <th>0</th>\n",
       "      <td>21</td>\n",
       "      <td>2577.05</td>\n",
       "      <td>24196.89636</td>\n",
       "      <td>6</td>\n",
       "      <td>278.172008</td>\n",
       "    </tr>\n",
       "    <tr>\n",
       "      <th>1</th>\n",
       "      <td>40</td>\n",
       "      <td>2465.39</td>\n",
       "      <td>19227.37796</td>\n",
       "      <td>5</td>\n",
       "      <td>268.874152</td>\n",
       "    </tr>\n",
       "    <tr>\n",
       "      <th>2</th>\n",
       "      <td>36</td>\n",
       "      <td>1055.29</td>\n",
       "      <td>42822.28223</td>\n",
       "      <td>0</td>\n",
       "      <td>446.643127</td>\n",
       "    </tr>\n",
       "    <tr>\n",
       "      <th>3</th>\n",
       "      <td>58</td>\n",
       "      <td>703.05</td>\n",
       "      <td>51786.82600</td>\n",
       "      <td>0</td>\n",
       "      <td>321.141267</td>\n",
       "    </tr>\n",
       "    <tr>\n",
       "      <th>4</th>\n",
       "      <td>35</td>\n",
       "      <td>891.29</td>\n",
       "      <td>44626.85346</td>\n",
       "      <td>2</td>\n",
       "      <td>428.716114</td>\n",
       "    </tr>\n",
       "  </tbody>\n",
       "</table>\n",
       "</div>"
      ],
      "text/plain": [
       "   idade  divida_atual  renda_anual  num_emprestimos  saldo_atual\n",
       "0     21       2577.05  24196.89636                6   278.172008\n",
       "1     40       2465.39  19227.37796                5   268.874152\n",
       "2     36       1055.29  42822.28223                0   446.643127\n",
       "3     58        703.05  51786.82600                0   321.141267\n",
       "4     35        891.29  44626.85346                2   428.716114"
      ]
     },
     "execution_count": 127,
     "metadata": {},
     "output_type": "execute_result"
    }
   ],
   "source": [
    "df3 = pd.concat( [ X_tarin, y_train ], axis=1 )\n",
    "df3.head()"
   ]
  },
  {
   "cell_type": "code",
   "execution_count": 128,
   "metadata": {},
   "outputs": [
    {
     "data": {
      "text/html": [
       "<div>\n",
       "<style scoped>\n",
       "    .dataframe tbody tr th:only-of-type {\n",
       "        vertical-align: middle;\n",
       "    }\n",
       "\n",
       "    .dataframe tbody tr th {\n",
       "        vertical-align: top;\n",
       "    }\n",
       "\n",
       "    .dataframe thead th {\n",
       "        text-align: right;\n",
       "    }\n",
       "</style>\n",
       "<table border=\"1\" class=\"dataframe\">\n",
       "  <thead>\n",
       "    <tr style=\"text-align: right;\">\n",
       "      <th></th>\n",
       "      <th>id_cliente</th>\n",
       "      <th>saldo_atual</th>\n",
       "      <th>predict</th>\n",
       "    </tr>\n",
       "  </thead>\n",
       "  <tbody>\n",
       "    <tr>\n",
       "      <th>0</th>\n",
       "      <td>1767</td>\n",
       "      <td>278.172008</td>\n",
       "      <td>336.102544</td>\n",
       "    </tr>\n",
       "    <tr>\n",
       "      <th>1</th>\n",
       "      <td>11920</td>\n",
       "      <td>268.874152</td>\n",
       "      <td>342.738418</td>\n",
       "    </tr>\n",
       "    <tr>\n",
       "      <th>2</th>\n",
       "      <td>8910</td>\n",
       "      <td>446.643127</td>\n",
       "      <td>426.799578</td>\n",
       "    </tr>\n",
       "    <tr>\n",
       "      <th>3</th>\n",
       "      <td>4964</td>\n",
       "      <td>321.141267</td>\n",
       "      <td>447.795457</td>\n",
       "    </tr>\n",
       "    <tr>\n",
       "      <th>4</th>\n",
       "      <td>10100</td>\n",
       "      <td>428.716114</td>\n",
       "      <td>436.546627</td>\n",
       "    </tr>\n",
       "  </tbody>\n",
       "</table>\n",
       "</div>"
      ],
      "text/plain": [
       "   id_cliente  saldo_atual     predict\n",
       "0        1767   278.172008  336.102544\n",
       "1       11920   268.874152  342.738418\n",
       "2        8910   446.643127  426.799578\n",
       "3        4964   321.141267  447.795457\n",
       "4       10100   428.716114  436.546627"
      ]
     },
     "execution_count": 128,
     "metadata": {},
     "output_type": "execute_result"
    }
   ],
   "source": [
    "# fazer algumas previsoes\n",
    "df1 = df.loc[:, ['id_cliente','saldo_atual']]\n",
    "# criar uma coluna predict\n",
    "df1['predict'] = y_pred\n",
    "df1.head()"
   ]
  },
  {
   "cell_type": "markdown",
   "metadata": {},
   "source": [
    "# Calculo manual das metricas SSE, SSR, SST"
   ]
  },
  {
   "cell_type": "code",
   "execution_count": 129,
   "metadata": {},
   "outputs": [
    {
     "name": "stdout",
     "output_type": "stream",
     "text": [
      "idade              4.457633e+09\n",
      "divida_atual       1.143185e+10\n",
      "renda_anual        2.007940e+16\n",
      "num_emprestimos    3.716838e+07\n",
      "dtype: float64\n",
      "idade              4.045884e+03\n",
      "divida_atual       1.267789e+09\n",
      "renda_anual        1.014813e+13\n",
      "num_emprestimos    2.920434e+03\n",
      "dtype: float64\n",
      "idade              4.457637e+09\n",
      "divida_atual       1.269964e+10\n",
      "renda_anual        2.008955e+16\n",
      "num_emprestimos    3.717130e+07\n",
      "dtype: float64\n"
     ]
    }
   ],
   "source": [
    "import statsmodels.api as sm\n",
    "# Define a variavel\n",
    "x = df.loc[:, ['idade', 'divida_atual', 'renda_anual','num_emprestimos']]\n",
    "\n",
    "# Define Predictor\n",
    "y = df.loc[:, label]\n",
    "\n",
    "# Add constant to predctor variables\n",
    "y = sm.add_constant(y)\n",
    "\n",
    "#  fit lenear regresion model\n",
    "model = sm.OLS(x, y).fit()\n",
    "\n",
    "import numpy as np\n",
    "\n",
    "#  Calcular o SSE\n",
    "sse = np.sum((model.fittedvalues - df.loc[:,['idade', 'divida_atual', 'renda_anual','num_emprestimos']]) ** 2)\n",
    "\n",
    "# Calcular o ssr\n",
    "ssr = np.sum((model.fittedvalues - df.loc[:, ['idade', 'divida_atual', 'renda_anual','num_emprestimos']].mean() ) ** 2)\n",
    "\n",
    "# Calcular o sst\n",
    "sst = ssr + sse\n",
    "\n",
    "print(sse)\n",
    "print(ssr)\n",
    "print(sst)"
   ]
  },
  {
   "cell_type": "code",
   "execution_count": 130,
   "metadata": {},
   "outputs": [],
   "source": [
    "# print(lr_model.summary())"
   ]
  },
  {
   "cell_type": "code",
   "execution_count": 131,
   "metadata": {},
   "outputs": [],
   "source": [
    "# print(model.summary())"
   ]
  },
  {
   "cell_type": "markdown",
   "metadata": {},
   "source": []
  },
  {
   "cell_type": "markdown",
   "metadata": {},
   "source": [
    "# Performace"
   ]
  },
  {
   "cell_type": "code",
   "execution_count": 132,
   "metadata": {},
   "outputs": [
    {
     "data": {
      "text/plain": [
       "0.10046323700887039"
      ]
     },
     "execution_count": 132,
     "metadata": {},
     "output_type": "execute_result"
    }
   ],
   "source": [
    "# all\n",
    "mt.r2_score(y_train, y_pred)"
   ]
  },
  {
   "cell_type": "code",
   "execution_count": 133,
   "metadata": {},
   "outputs": [
    {
     "data": {
      "text/plain": [
       "0.10046323700887039"
      ]
     },
     "execution_count": 133,
     "metadata": {},
     "output_type": "execute_result"
    }
   ],
   "source": [
    "# Idade mais divida atual\n",
    "mt.r2_score(y_train, y_pred)"
   ]
  },
  {
   "cell_type": "code",
   "execution_count": 134,
   "metadata": {},
   "outputs": [
    {
     "data": {
      "text/plain": [
       "0.10046323700887039"
      ]
     },
     "execution_count": 134,
     "metadata": {},
     "output_type": "execute_result"
    }
   ],
   "source": [
    "# Idade \n",
    "mt.r2_score(y_train, y_pred)"
   ]
  },
  {
   "cell_type": "code",
   "execution_count": 135,
   "metadata": {},
   "outputs": [
    {
     "data": {
      "text/plain": [
       "0.10046323700887039"
      ]
     },
     "execution_count": 135,
     "metadata": {},
     "output_type": "execute_result"
    }
   ],
   "source": [
    "# Idade Divida atual e renda anual\n",
    "mt.r2_score(y_train, y_pred)"
   ]
  },
  {
   "cell_type": "markdown",
   "metadata": {},
   "source": [
    "# RMSE na prática"
   ]
  },
  {
   "cell_type": "code",
   "execution_count": 146,
   "metadata": {},
   "outputs": [
    {
     "name": "stdout",
     "output_type": "stream",
     "text": [
      "R2 square: 16.92%\n",
      "A cada previsão, o erro médio é de: U$39370.27\n",
      "A cada previsão, o erro médio é de: U$198.41942949217446\n",
      "16.92% da variação da variável alvo y é reduzida, levando em consideração o preditor\n",
      "16.92% da variação da variável alvo y é “explicada pela variação do preditor x\n"
     ]
    }
   ],
   "source": [
    "import pandas as pd\n",
    "import numpy as np\n",
    "from sklearn.linear_model import LinearRegression \n",
    "from sklearn import metrics as mt\n",
    "\n",
    "# 1.0 Load dataset\n",
    "df = pd.read_csv( 'train.csv' )\n",
    "\n",
    "# 2.0 Seleção de Features\n",
    "features = ['idade', 'divida_atual', 'renda_anual', 'valor_em_investimentos',\n",
    "            'taxa_utilizacao_credito', 'num_emprestimos', 'num_contas_bancarias', \n",
    "            'num_cartoes_credito', 'dias_atraso_dt_venc', 'num_pgtos_atrasados', \n",
    "            'num_consultas_credito', 'taxa_juros']\n",
    "label = ['saldo_atual']\n",
    "\n",
    "x_train = df.loc[:, features] \n",
    "y_train = df.loc[:, label]\n",
    "\n",
    "# 3.0 Model Training\n",
    "lr_model = LinearRegression() \n",
    "lr_model.fit( x_train, y_train )\n",
    "\n",
    "y_pred = lr_model.predict( x_train )\n",
    "\n",
    "df1 = df.loc[:, ['id_cliente', 'saldo_atual']] \n",
    "df1['predicted'] = y_pred\n",
    "\n",
    "# 4.0 Model Performance\n",
    "## 4.1 R squared\n",
    "r2_squared = np.round( 100*mt.r2_score( y_train, y_pred ), 2 ) \n",
    "print( 'R2 square: {}%'.format( r2_squared ) )\n",
    "\n",
    "## 4.2 MSE\n",
    "mse = np.round( mt.mean_squared_error( y_train, y_pred ) , 2 ) \n",
    "print( 'A cada previsão, o erro médio é de: U${}'.format( mse ) )\n",
    "\n",
    "## 4.3 RMSE\n",
    "rmse = np.sqrt( mse )\n",
    "print( 'A cada previsão, o erro médio é de: U${}'.format( rmse ) )\n",
    "\n",
    "# 5.0 Conclusão\n",
    "print( '{}% da variação da variável alvo y é reduzida, levando em consideração o preditor'.format( r2_squared ) ) \n",
    "print( '{}% da variação da variável alvo y é “explicada pela variação do preditor x'.format( r2_squared ) )"
   ]
  },
  {
   "cell_type": "code",
   "execution_count": null,
   "metadata": {},
   "outputs": [],
   "source": []
  }
 ],
 "metadata": {
  "kernelspec": {
   "display_name": "Python 3 (ipykernel)",
   "language": "python",
   "name": "python3"
  },
  "language_info": {
   "codemirror_mode": {
    "name": "ipython",
    "version": 3
   },
   "file_extension": ".py",
   "mimetype": "text/x-python",
   "name": "python",
   "nbconvert_exporter": "python",
   "pygments_lexer": "ipython3",
   "version": "3.10.11"
  },
  "vscode": {
   "interpreter": {
    "hash": "7e1998ff7f8aa20ada591c520b972326324e5ea05489af9e422744c7c09f6dad"
   }
  }
 },
 "nbformat": 4,
 "nbformat_minor": 2
}
