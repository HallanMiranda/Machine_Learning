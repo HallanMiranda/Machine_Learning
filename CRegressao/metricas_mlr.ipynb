{
 "cells": [
  {
   "cell_type": "markdown",
   "metadata": {},
   "source": [
    "Linear_Regression\n",
    "Decision_Tree_Regressor\n",
    "Random_Forest_Regressor\n",
    "Polinomial_Regression\n",
    "Linear_Regression_Lasso\n",
    "Linear_Regression_Ridge\n",
    "Linear_Regression_Elastic_Net\n",
    "Polinomial_Regression_Lasso\n",
    "Polinomial_Regression_Ridge\n",
    "Polinomial_Regression_Elastic_Net\n"
   ]
  },
  {
   "cell_type": "code",
   "execution_count": 15,
   "metadata": {},
   "outputs": [],
   "source": [
    "import pandas as pd\n",
    "import numpy as np\n",
    "\n",
    "from sklearn.linear_model import LinearRegression, Lasso, Ridge, ElasticNet\n",
    "from sklearn.tree import DecisionTreeRegressor\n",
    "from sklearn.ensemble import RandomForestRegressor\n",
    "from sklearn.preprocessing import PolynomialFeatures\n",
    "from sklearn.linear_model import LinearRegression"
   ]
  },
  {
   "cell_type": "code",
   "execution_count": 16,
   "metadata": {},
   "outputs": [],
   "source": [
    "X_train = pd.read_csv('../dataset_regres/X_trainingr.csv')\n",
    "y_train = pd.read_csv('../dataset_regres/y_trainingr.csv')\n",
    "X_val  = pd.read_csv('../dataset_regres/X_validationr.csv')\n",
    "y_val  = pd.read_csv('../dataset_regres/y_validationr.csv')\n",
    "X_test  = pd.read_csv('../dataset_regres/X_testr.csv')\n",
    "y_test = pd.read_csv('../dataset_regres/y_testr.csv')\n"
   ]
  },
  {
   "cell_type": "code",
   "execution_count": null,
   "metadata": {},
   "outputs": [],
   "source": []
  },
  {
   "cell_type": "code",
   "execution_count": null,
   "metadata": {},
   "outputs": [],
   "source": []
  },
  {
   "cell_type": "code",
   "execution_count": null,
   "metadata": {},
   "outputs": [],
   "source": []
  },
  {
   "cell_type": "code",
   "execution_count": null,
   "metadata": {},
   "outputs": [],
   "source": []
  },
  {
   "cell_type": "code",
   "execution_count": null,
   "metadata": {},
   "outputs": [],
   "source": []
  },
  {
   "cell_type": "code",
   "execution_count": null,
   "metadata": {},
   "outputs": [],
   "source": []
  },
  {
   "cell_type": "code",
   "execution_count": 17,
   "metadata": {},
   "outputs": [
    {
     "ename": "NameError",
     "evalue": "name 'model' is not defined",
     "output_type": "error",
     "traceback": [
      "\u001b[0;31m---------------------------------------------------------------------------\u001b[0m",
      "\u001b[0;31mNameError\u001b[0m                                 Traceback (most recent call last)",
      "Cell \u001b[0;32mIn[17], line 14\u001b[0m\n\u001b[1;32m     11\u001b[0m y_pred \u001b[39m=\u001b[39m linear_reg_model\u001b[39m.\u001b[39mpredict(X_test)\n\u001b[1;32m     13\u001b[0m \u001b[39m# # Treinamento e avaliação dos modelos usando X_train e y_train\u001b[39;00m\n\u001b[0;32m---> 14\u001b[0m model\u001b[39m.\u001b[39mfit(X_train, y_train)\n\u001b[1;32m     15\u001b[0m y_pred_val \u001b[39m=\u001b[39m model\u001b[39m.\u001b[39mpredict(X_val)\n\u001b[1;32m     17\u001b[0m \u001b[39m# # Conjunto de Validação (X_val, y_val):\u001b[39;00m\n\u001b[1;32m     18\u001b[0m \u001b[39m# # Este conjunto é usado para ajustar hiperparâmetros dos modelos e avaliar seu desempenho durante a validação.\u001b[39;00m\n\u001b[1;32m     19\u001b[0m \u001b[39m# # Você pode usar o conjunto de validação para selecionar o melhor modelo, ajustar parâmetros e evitar o ajuste excessivo (overfitting).\u001b[39;00m\n\u001b[0;32m   (...)\u001b[0m\n\u001b[1;32m     32\u001b[0m \u001b[39m# model_best.fit(X_train, y_train)\u001b[39;00m\n\u001b[1;32m     33\u001b[0m \u001b[39m# y_pred_test = model_best.predict(X_test)\u001b[39;00m\n",
      "\u001b[0;31mNameError\u001b[0m: name 'model' is not defined"
     ]
    }
   ],
   "source": [
    "# Conjunto de Treinamento (X_train, y_train):\n",
    "# Este conjunto é usado para treinar os modelos. Ele inclui tanto os recursos (X_train) quanto os rótulos ou valores alvo (y_train).\n",
    "# Os modelos ajustam seus parâmetros com base nos dados de treinamento.\n",
    "# Após o treinamento, os modelos aprenderam os padrões nos dados de treinamento.\n",
    "\n",
    "# Criar e treinar o modelo\n",
    "linear_reg_model = LinearRegression( )\n",
    "linear_reg_model.fit(X_train, y_train)\n",
    "\n",
    "# # Fazer previsões\n",
    "y_pred = linear_reg_model.predict(X_test)\n",
    "\n",
    "# # Treinamento e avaliação dos modelos usando X_train e y_train\n",
    "model.fit(X_train, y_train)\n",
    "y_pred_val = model.predict(X_val)\n",
    "\n",
    "# # Conjunto de Validação (X_val, y_val):\n",
    "# # Este conjunto é usado para ajustar hiperparâmetros dos modelos e avaliar seu desempenho durante a validação.\n",
    "# # Você pode usar o conjunto de validação para selecionar o melhor modelo, ajustar parâmetros e evitar o ajuste excessivo (overfitting).\n",
    "# # O conjunto de validação é crucial para escolher o modelo que melhor generaliza para novos dados.\n",
    "\n",
    "# # Ajuste de hiperparâmetros usando X_val e y_val\n",
    "# best_params = hyperparameter_tuning(X_val, y_val)\n",
    "\n",
    "# # Conjunto de Teste (X_test, y_test):\n",
    "# # Este conjunto é usado para avaliar o desempenho final do modelo escolhido.\n",
    "# # Ele representa dados que o modelo nunca viu durante o treinamento e a validação, simulando novos dados que o modelo enfrentará no mundo real.\n",
    "# # É importante não ajustar ou otimizar o modelo com base nos resultados no conjunto de teste, para evitar vieses de avaliação.\n",
    "\n",
    "# # Avaliação final do modelo escolhido usando X_test e y_test\n",
    "# model_best = ModelWithBestHyperparameters(**best_params)\n",
    "# model_best.fit(X_train, y_train)\n",
    "# y_pred_test = model_best.predict(X_test)\n",
    "\n"
   ]
  },
  {
   "cell_type": "code",
   "execution_count": null,
   "metadata": {},
   "outputs": [],
   "source": []
  },
  {
   "cell_type": "code",
   "execution_count": null,
   "metadata": {},
   "outputs": [],
   "source": []
  },
  {
   "cell_type": "code",
   "execution_count": null,
   "metadata": {},
   "outputs": [],
   "source": []
  },
  {
   "cell_type": "code",
   "execution_count": null,
   "metadata": {},
   "outputs": [],
   "source": []
  },
  {
   "cell_type": "code",
   "execution_count": null,
   "metadata": {},
   "outputs": [],
   "source": []
  },
  {
   "cell_type": "code",
   "execution_count": null,
   "metadata": {},
   "outputs": [],
   "source": []
  },
  {
   "cell_type": "code",
   "execution_count": null,
   "metadata": {},
   "outputs": [],
   "source": []
  },
  {
   "cell_type": "code",
   "execution_count": null,
   "metadata": {},
   "outputs": [],
   "source": []
  },
  {
   "cell_type": "code",
   "execution_count": null,
   "metadata": {},
   "outputs": [],
   "source": []
  },
  {
   "cell_type": "code",
   "execution_count": null,
   "metadata": {},
   "outputs": [],
   "source": []
  },
  {
   "cell_type": "code",
   "execution_count": null,
   "metadata": {},
   "outputs": [],
   "source": []
  },
  {
   "cell_type": "code",
   "execution_count": null,
   "metadata": {},
   "outputs": [],
   "source": []
  },
  {
   "cell_type": "code",
   "execution_count": null,
   "metadata": {},
   "outputs": [],
   "source": []
  },
  {
   "cell_type": "code",
   "execution_count": null,
   "metadata": {},
   "outputs": [],
   "source": []
  },
  {
   "cell_type": "code",
   "execution_count": null,
   "metadata": {},
   "outputs": [],
   "source": []
  }
 ],
 "metadata": {
  "kernelspec": {
   "display_name": "Python 3",
   "language": "python",
   "name": "python3"
  },
  "language_info": {
   "codemirror_mode": {
    "name": "ipython",
    "version": 3
   },
   "file_extension": ".py",
   "mimetype": "text/x-python",
   "name": "python",
   "nbconvert_exporter": "python",
   "pygments_lexer": "ipython3",
   "version": "3.11.4"
  },
  "orig_nbformat": 4
 },
 "nbformat": 4,
 "nbformat_minor": 2
}
