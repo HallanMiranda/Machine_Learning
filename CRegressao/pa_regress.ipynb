{
 "cells": [
  {
   "cell_type": "code",
   "execution_count": null,
   "metadata": {},
   "outputs": [],
   "source": []
  },
  {
   "cell_type": "markdown",
   "metadata": {},
   "source": [
    "Regressão:\n",
    "Algoritmos: Linear Regression, Decision Tree Regressor, Random Forest Regressor, Polinomial Regression, Linear Regression Lasso, Linear Regression Ridge, Linear Regression Elastic Net, Polinomial Regression Lasso, Polinomial Regression Ridge e Polinomial Regression Elastic Net\n",
    "Métricas de performance: R2, MSE, RMSE, MAE e MAPE Agrupamento:\n",
    "Algoritmos: K-Means e Affinity Propagation Métricas de performance: Silhouette Score"
   ]
  },
  {
   "cell_type": "code",
   "execution_count": 29,
   "metadata": {},
   "outputs": [],
   "source": [
    "import numpy as np\n",
    "import pandas as pd\n",
    "from sklearn.model_selection import train_test_split\n",
    "from sklearn.linear_model import LinearRegression, Lasso, Ridge, ElasticNet\n",
    "from sklearn.tree import DecisionTreeRegressor\n",
    "from sklearn.ensemble import RandomForestRegressor\n",
    "from sklearn.metrics import r2_score, mean_squared_error, mean_absolute_error\n",
    "from sklearn.preprocessing import PolynomialFeatures\n",
    "from math import sqrt\n",
    "\n",
    "\n",
    "import numpy as np\n",
    "from sklearn.cluster import KMeans, AffinityPropagation\n",
    "from sklearn.metrics import silhouette_score\n",
    "import matplotlib.pyplot as plt\n",
    "\n"
   ]
  },
  {
   "cell_type": "code",
   "execution_count": 20,
   "metadata": {},
   "outputs": [],
   "source": [
    "# Carregar os dados\n",
    "X_train = pd.read_csv('../dataset_regres/X_trainingr.csv')\n",
    "y_train = pd.read_csv('../dataset_regres/y_trainingr.csv')\n",
    "X_validation  = pd.read_csv('../dataset_regres/X_validationr.csv')\n",
    "y_validation  = pd.read_csv('../dataset_regres/y_validationr.csv')\n",
    "X_test  = pd.read_csv('../dataset_regres/X_testr.csv')\n",
    "y_test = pd.read_csv('../dataset_regres/y_testr.csv')\n",
    "\n"
   ]
  },
  {
   "cell_type": "code",
   "execution_count": 32,
   "metadata": {},
   "outputs": [],
   "source": [
    "# Definir as metricas\n",
    "def calculate_metrics(y_true, y_pred):\n",
    "    r2 = r2_score(y_true, y_pred)\n",
    "    mse = mean_squared_error(y_true, y_pred)\n",
    "    rmse = sqrt(mse)\n",
    "    mae = mean_absolute_error(y_true, y_pred)\n",
    "    mape = np.mean(np.abs((y_true - y_pred) / y_true)) * 100\n",
    "    return r2, mse, rmse, mae, mape\n",
    "\n"
   ]
  },
  {
   "cell_type": "code",
   "execution_count": 36,
   "metadata": {},
   "outputs": [
    {
     "name": "stderr",
     "output_type": "stream",
     "text": [
      "/usr/local/lib/python3.11/site-packages/sklearn/base.py:1151: DataConversionWarning: A column-vector y was passed when a 1d array was expected. Please change the shape of y to (n_samples,), for example using ravel().\n",
      "  return fit_method(estimator, *args, **kwargs)\n"
     ]
    }
   ],
   "source": [
    "models = {\n",
    "    \"Linear Regression\": LinearRegression(),\n",
    "    \"Decision Tree Regressor\": DecisionTreeRegressor(max_depth=3),\n",
    "    \"Random Forest Regressor\": RandomForestRegressor(n_estimators=100, max_depth=5),\n",
    "    \"Polynomial Regression\": LinearRegression(),\n",
    "    \"Linear Regression Lasso\": Lasso(),\n",
    "    \"Linear Regression Ridge\": Ridge(),\n",
    "    \"Linear Regression Elastic Net\": ElasticNet(),\n",
    "    \"Polynomial Regression Lasso\": Lasso(),\n",
    "    \"Polynomial Regression Ridge\": Ridge(),\n",
    "    \"Polynomial Regression Elastic Net\": ElasticNet()\n",
    "}\n",
    "\n",
    "# Inicializar um DataFrame para armazenar os resultados\n",
    "results = pd.DataFrame(columns=[\"Model\", \"R2\", \"MSE\", \"RMSE\", \"MAE\", \"MAPE\"])\n",
    "\n",
    "for model_name, model in models.items():\n",
    "    # Treinar o modelo\n",
    "    model.fit(X_train, y_train)\n",
    "    \n",
    "    # Fazer previsões\n",
    "    y_pred = model.predict(X_validation)\n",
    "    \n",
    " \n"
   ]
  },
  {
   "cell_type": "code",
   "execution_count": null,
   "metadata": {},
   "outputs": [],
   "source": []
  }
 ],
 "metadata": {
  "kernelspec": {
   "display_name": "Python 3",
   "language": "python",
   "name": "python3"
  },
  "language_info": {
   "codemirror_mode": {
    "name": "ipython",
    "version": 3
   },
   "file_extension": ".py",
   "mimetype": "text/x-python",
   "name": "python",
   "nbconvert_exporter": "python",
   "pygments_lexer": "ipython3",
   "version": "3.11.4"
  },
  "orig_nbformat": 4
 },
 "nbformat": 4,
 "nbformat_minor": 2
}
