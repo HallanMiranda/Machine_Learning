{
 "cells": [
  {
   "cell_type": "markdown",
   "metadata": {},
   "source": [
    "# Ciclo 02: Aprendizado Supervisionado - Classificaçao"
   ]
  },
  {
   "cell_type": "markdown",
   "metadata": {},
   "source": [
    "## * 8 Passos para treinar o KNN\n",
    "Passo 01: Carregue os dados\n",
    "Passo 02: Defina o número K vizinhos mais próximos. Passo 03: Para cada exemplo sem rótulo:\n",
    "Passo 04: Calcule a distância entre o ponto sem rótulo e todos os outros pontos rotulados do conjunto de dados.\n",
    "Passo 05: Encontre o K pontos mais próximos.\n",
    "Passo 06: Identifique os rótulos de cada um dos K vizinhos mais próximos.\n",
    "Passo 07: Calcule a “moda” dos K vizinhos mais próximos.\n",
    "Passo 08: Classifique o ponto sem rótulo com a moda de seus k vizinhos mais próximos.\n",
    "\n",
    "\n",
    "- Como calcular a distância entre 2 pontos? \n",
    "* Euclidian distance\n",
    "    d= (Px−Qx)2+(Py−Qy)2 \n",
    "* 2.3.2 Manhattan distance\n",
    "    d=∣Px −Qx∣+∣Py −Qy∣ \n",
    "* 2.3.3 Mahallanobis distance\n",
    "    (Px −Qx)2 +(Py −Qy)2 / σ2\n",
    "- Como calcular a moda de um conjunto de ponto?\n",
    "    A = {2,23,4,2,5} / Mo = 2\n",
    "1. Conte quantos pontos pertencem ao rótulo A e ao rótulo B. \n",
    "2. A moda é o número que aparece mais frequente.    \n",
    "\n",
    "-  Premissas assumidas do KNN \n",
    "   A premissa assumida pelo KNN é a seguinte:\n",
    "   A proximidade entre duas evidências de um fenômeno observado, pode ser representada por uma medida de distância.\n",
    "   Coisas similares estão próximas uma das outras, portanto, todas as suas características precisam ser númericas.\n",
    "\n",
    "1. KNN é um algoritmo de Machine Learning com aprendizado supervisionado que resolve problemas de classificação e regressão.\n",
    "\n",
    "2. O funcionamento do KNN é baseado no cálculo da distância entre um ponto sem rótulo e todos os seus K vizinhos mais próximos. \n",
    "   O rótulo que possuir o maior número de vizinhos é atribuído ao ponto.\n",
    "   \n",
    "3. Para escolher o melhor valor de K para os dados, você precisa testar o algoritmo para vários valores diferentes de K e encontrar aquele que proporciona o menor erro do algoritmo.\n",
    "\n",
    "1. Exemplos de usoO KNN consegue encontrar um rótulo a partir de seus K vizinhos mais próximos. \n",
    "1.1 Sistema de recomendação Livros que você pode gostar? \n",
    "Dado um filme, encontre os k filmes mais similares. \n",
    "1.2 Classificação de notíciasDado uma nova notícia, em qual categoria ela mais se encaixa?\n",
    "K-Nearest Neighbors - Exemplo de Uso 1 \n",
    "\n",
    "1.3 Agrupamento de clientes.\n",
    "Dado uma nova cliente, qual o tipo de outras clientes parecidas com ela? \n",
    "1.4 Classificação de imagem \n",
    "Dado uma nova imagem sem rótulo e grupos de imagens com fotos de pandas, ursos, cachorros, cavalos e etc, em qual grupo a nova imagem pode ser classificada? \n",
    "1.5 Sistema de Busca.Dado uma nova consulta, quais as notícias que podem ser retornadas como \n",
    "resultado? \n",
    "2. Vantagens e Desvantagens 2.1 Vantagens \n",
    "1. O KNN é fácil de entender e simples de explicar o seu funcionamento. \n",
    "2. Não há a necessidade de construir um modelo, ajustar vários parâmetros ou assumir premissas adicionais. \n",
    "3. O KNN é versátil. Ele pode ser usando para resolver problemas de classificação, regressão e busca. \n",
    "2.2 Desvantagens1. O KNN se tornar significativamente devagar quanto mais o número de \n",
    "exemplos e/ou preditores aumenta. \n",
    "Com o aumento da dimensionalidade dos dados através das colunas, o cálculo da distância fica mais demorado. \n",
    "\n",
    "2. Em alta dimensionalidade, a distância entre os pontos podem ser distorcidas. \n",
    "Os mesmos pontos podem se aproximar ou se distanciar dependendo da quantidade de colunas na tabela e isso pode alterar os rótulos. O que foi classificado como A, pode ser reclassificado como B. \n",
    "\n",
    "3. Resumo \n",
    "1. A principal vantagem do KNN é a versatilidade do algoritmo. Ele pode ser usado para solucionar problemas de classificação, regressão e busca. \n",
    "K-Nearest Neighbors - Exemplo de Uso 2 \n",
    "\n",
    "2. A principal desvantagem é a perde de performance em velocidade de classificação a medida que a quantidade de dados ou o número de características aumentam. \n",
    "\n",
    "\n"
   ]
  },
  {
   "cell_type": "markdown",
   "metadata": {},
   "source": [
    "# Matriz da confusao\n",
    "\n",
    "\n",
    "\n",
    "1. A matriz de confusãoA matriz de confusão é uma ferramenta para medir a performance de uma algoritmo de Machine \n",
    "Learning ao realizar uma classificação. \n",
    "A idéia geral é contar o número de vezes em que os exemplos da classe A são classificados erroneamente como classe B. \n",
    "1.1 Matrix de confusão 1.1.1 Exemplo: \n",
    "O conjunto de dados possui 2 classes de fotos, a foto de cachorros e gatos. O algoritmo de Machine Learning foi treinado para classificar corretamente as imagens de cachorro como classe “Cachorro” e de gato como “Gato” \n",
    "A matriz de confusão revela a performance do algoritmo. \n",
    "1.1.2 Matriz de confusão \n",
    "Previsão do RótuloClasse A Classe B \n",
    "Rótulo Real Classe A 5 2 \n",
    "         \n",
    "Métricas de avaliação I: Matriz de confusão e acurácia 1 \n",
    "\n",
    "Classe B 3 3 \n",
    "￼\n",
    "A interpretação é a seguinte algoritmo fez 13 previsões:5 previsões como classe A, sendo que era realmente classe A. 3 previsões como classe A, sendo que era classe B.2 previsões como classe B, sendo que era classe A.3 previsões como classe B, sendo que era class B. \n",
    "1.1.3 Denominações da matriz de confusão \n",
    "Previsão do Rótulo Classe Positiva \n",
    "Rótulo Real Classe Positiva ( P ) True Positive ( TP ) \n",
    "Classe Negativa ( N ) False Positive ( FP ) \n",
    "Classe Negativa \n",
    "False Negative ( FN ) \n",
    "True Negative ( TN ) \n",
    " \n",
    "￼\n",
    "Total de previsões = P + NTrue Positive = Classificação correta da classe positiva True Negative = Classificação correta da classe negativa False Positive = Classificação errada da classe positiva False Negative = Classificação errada da class negativa \n",
    "2. AcuráciaAcurácia é a quantidade de previsões acertadas da Classe A e da Classe B. \n",
    "Em outras palavras, quantas vezes o algoritmo classificou uma observação como Classe A, sendo que ela era realmente da Classes A, mais a quantidade de vezes que o classificador classificou uma observação como Classe B. \n",
    "Olhando para a matrix de confusão, a acurácia é a soma dos acertos tanto da Classe A quanto da classe B, representado pela diagonal principal, dividido pelo total de classificações realizadas, que é a soma de todas as células. \n",
    "A c u r aˊ c i a = T P + T N P+N \n",
    "2.1 O problema da acuráciaO conjunto de dados no qual o classificador foi treinando é desbalanceado. A classe A possui \n",
    "￼\n",
    "100 exemplos e a classe B possui 20 exemplos. \n",
    "Previsão Classe A \n",
    "Rótulo Real Classe A ( 98 ) 90 \n",
    "Classe B (12 ) 2 \n",
    "Classe B  8  10 \n",
    " \n",
    "Métricas de avaliação I: Matriz de confusão e acurácia 2 \n",
    "Conteúdo licenciado para Allan Miranda - 376.928.868-81 \n",
    "Acurácia = ( 90 + 10 ) / ( 90 + 8 + 2 + 10 ) = 100 / 110 = 91% \n",
    "A acurácia atribui o mesmo peso para qualquer classificação. Portanto, o valor da acurácia para problemas com classes desbalanceadas é dominado pelo acerto da classe majoritária ( com mais exemplos ) \n",
    "3. Métricas na prática \n",
    "\n",
    "import pandas as pd\n",
    "from sklearn.neighbors import KNeighborsClassifier\n",
    "from sklearn import metrics as mt\n",
    "# 1.0 Load dataset\n",
    "df = pd.read_csv( '../dataset/train.csv' )\n",
    "# 2.0 Seleção de Features\n",
    "features = ['idade', 'saldo_atual', 'divida_atual', 'renda_anual', 'valor_em_investimentos',\n",
    "            'taxa_utilizacao_credito', 'num_emprestimos', 'num_contas_bancarias', 'num_cartoes_credito',\n",
    "            'dias_atraso_dt_venc', 'num_pgtos_atrasados', 'num_consultas_credito', 'taxa_juros']\n",
    "label = ['limite_adicional']\n",
    "x_train = df.loc[:, features]\n",
    "y_train = df.loc[:, label].values.ravel()\n",
    "# 3.0 Treinamento do KNN\n",
    "knn_classifier = KNeighborsClassifier( n_neighbors = 8 )\n",
    "knn_classifier.fit( x_train, y_train )\n",
    "y_pred = knn_classifier.predict( x_train )\n",
    "# 4.0 Performance\n",
    "# 4.1 Confusion Matrix\n",
    "mt.confusion_matrix( y_train, y_pred )\n",
    "# 4.2 Accuracy\n",
    "mt.accuracy_score( y_train, y_pred )\n",
    "\n",
    "4. Resumo1. A matriz de confusão é uma matriz que mapeia os acertos e os erros de um algoritmo de \n",
    "Machine Learning que realiza uma tarefa de classificação. \n",
    "2. A acurácia é a quantidade de acertos que o classificador realizou tanto da classe A quanto da classe B, dividido pelo total de classificações que ele realizou. \n"
   ]
  },
  {
   "cell_type": "markdown",
   "metadata": {},
   "source": [
    "# Recall \n",
    "Avaliacao de fraud de cartao de credito.\n",
    "\n",
    "EX: qual e melhor opcao do a;goritimo detectar , a cada deteccao de fraud seja fraud mesmo ou a cada deteccao fraudolenta  o algoritimo seja capaz de pegar o maior deles, a maior quantidades possivel dos fraudolentos\n",
    "* A cada deteccao de fraud seja fraud mesmo = investir e almentar a precisao do algoritimo.\n",
    "Agora\n",
    "* se o mais importante é cada deteccao fraudolenta na minha base o algoritimo seja capaz de pegar o maioria deles = Trabalhar para aumentar o Ricall"
   ]
  },
  {
   "cell_type": "markdown",
   "metadata": {},
   "source": [
    "## 1.0 Import libraries"
   ]
  },
  {
   "cell_type": "code",
   "execution_count": 2,
   "metadata": {},
   "outputs": [],
   "source": [
    "import pandas as pd\n",
    "from sklearn.neighbors import KNeighborsClassifier\n",
    "from sklearn import metrics as mt\n"
   ]
  },
  {
   "cell_type": "markdown",
   "metadata": {},
   "source": [
    "## Load Dataset."
   ]
  },
  {
   "cell_type": "code",
   "execution_count": 3,
   "metadata": {},
   "outputs": [],
   "source": [
    "df = pd.read_csv('./train.csv')"
   ]
  },
  {
   "cell_type": "code",
   "execution_count": 4,
   "metadata": {},
   "outputs": [
    {
     "data": {
      "text/html": [
       "<div>\n",
       "<style scoped>\n",
       "    .dataframe tbody tr th:only-of-type {\n",
       "        vertical-align: middle;\n",
       "    }\n",
       "\n",
       "    .dataframe tbody tr th {\n",
       "        vertical-align: top;\n",
       "    }\n",
       "\n",
       "    .dataframe thead th {\n",
       "        text-align: right;\n",
       "    }\n",
       "</style>\n",
       "<table border=\"1\" class=\"dataframe\">\n",
       "  <thead>\n",
       "    <tr style=\"text-align: right;\">\n",
       "      <th></th>\n",
       "      <th>id_cliente</th>\n",
       "      <th>idade</th>\n",
       "      <th>saldo_atual</th>\n",
       "      <th>divida_atual</th>\n",
       "      <th>renda_anual</th>\n",
       "      <th>valor_em_investimentos</th>\n",
       "      <th>taxa_utilizacao_credito</th>\n",
       "      <th>num_emprestimos</th>\n",
       "      <th>num_contas_bancarias</th>\n",
       "      <th>num_cartoes_credito</th>\n",
       "      <th>dias_atraso_dt_venc</th>\n",
       "      <th>num_pgtos_atrasados</th>\n",
       "      <th>num_consultas_credito</th>\n",
       "      <th>taxa_juros</th>\n",
       "      <th>investe_exterior</th>\n",
       "      <th>pessoa_polit_exp</th>\n",
       "      <th>limite_adicional</th>\n",
       "    </tr>\n",
       "  </thead>\n",
       "  <tbody>\n",
       "    <tr>\n",
       "      <th>0</th>\n",
       "      <td>1767</td>\n",
       "      <td>21</td>\n",
       "      <td>278.172008</td>\n",
       "      <td>2577.05</td>\n",
       "      <td>24196.89636</td>\n",
       "      <td>104.306544</td>\n",
       "      <td>31.038763</td>\n",
       "      <td>6</td>\n",
       "      <td>5</td>\n",
       "      <td>7</td>\n",
       "      <td>21</td>\n",
       "      <td>14</td>\n",
       "      <td>9</td>\n",
       "      <td>15</td>\n",
       "      <td>Não</td>\n",
       "      <td>Não</td>\n",
       "      <td>Negar</td>\n",
       "    </tr>\n",
       "    <tr>\n",
       "      <th>1</th>\n",
       "      <td>11920</td>\n",
       "      <td>40</td>\n",
       "      <td>268.874152</td>\n",
       "      <td>2465.39</td>\n",
       "      <td>19227.37796</td>\n",
       "      <td>69.858778</td>\n",
       "      <td>36.917093</td>\n",
       "      <td>5</td>\n",
       "      <td>8</td>\n",
       "      <td>5</td>\n",
       "      <td>40</td>\n",
       "      <td>23</td>\n",
       "      <td>10</td>\n",
       "      <td>18</td>\n",
       "      <td>Não</td>\n",
       "      <td>Não</td>\n",
       "      <td>Negar</td>\n",
       "    </tr>\n",
       "    <tr>\n",
       "      <th>2</th>\n",
       "      <td>8910</td>\n",
       "      <td>36</td>\n",
       "      <td>446.643127</td>\n",
       "      <td>1055.29</td>\n",
       "      <td>42822.28223</td>\n",
       "      <td>134.201478</td>\n",
       "      <td>34.561714</td>\n",
       "      <td>0</td>\n",
       "      <td>3</td>\n",
       "      <td>6</td>\n",
       "      <td>26</td>\n",
       "      <td>13</td>\n",
       "      <td>3</td>\n",
       "      <td>15</td>\n",
       "      <td>Sim</td>\n",
       "      <td>Não</td>\n",
       "      <td>Negar</td>\n",
       "    </tr>\n",
       "    <tr>\n",
       "      <th>3</th>\n",
       "      <td>4964</td>\n",
       "      <td>58</td>\n",
       "      <td>321.141267</td>\n",
       "      <td>703.05</td>\n",
       "      <td>51786.82600</td>\n",
       "      <td>297.350067</td>\n",
       "      <td>31.493561</td>\n",
       "      <td>0</td>\n",
       "      <td>3</td>\n",
       "      <td>7</td>\n",
       "      <td>12</td>\n",
       "      <td>7</td>\n",
       "      <td>2</td>\n",
       "      <td>1</td>\n",
       "      <td>Sim</td>\n",
       "      <td>Não</td>\n",
       "      <td>Negar</td>\n",
       "    </tr>\n",
       "    <tr>\n",
       "      <th>4</th>\n",
       "      <td>10100</td>\n",
       "      <td>35</td>\n",
       "      <td>428.716114</td>\n",
       "      <td>891.29</td>\n",
       "      <td>44626.85346</td>\n",
       "      <td>134.201478</td>\n",
       "      <td>28.028887</td>\n",
       "      <td>2</td>\n",
       "      <td>8</td>\n",
       "      <td>7</td>\n",
       "      <td>24</td>\n",
       "      <td>10</td>\n",
       "      <td>8</td>\n",
       "      <td>20</td>\n",
       "      <td>Sim</td>\n",
       "      <td>Não</td>\n",
       "      <td>Negar</td>\n",
       "    </tr>\n",
       "  </tbody>\n",
       "</table>\n",
       "</div>"
      ],
      "text/plain": [
       "   id_cliente  idade  saldo_atual  divida_atual  renda_anual  \\\n",
       "0        1767     21   278.172008       2577.05  24196.89636   \n",
       "1       11920     40   268.874152       2465.39  19227.37796   \n",
       "2        8910     36   446.643127       1055.29  42822.28223   \n",
       "3        4964     58   321.141267        703.05  51786.82600   \n",
       "4       10100     35   428.716114        891.29  44626.85346   \n",
       "\n",
       "   valor_em_investimentos  taxa_utilizacao_credito  num_emprestimos  \\\n",
       "0              104.306544                31.038763                6   \n",
       "1               69.858778                36.917093                5   \n",
       "2              134.201478                34.561714                0   \n",
       "3              297.350067                31.493561                0   \n",
       "4              134.201478                28.028887                2   \n",
       "\n",
       "   num_contas_bancarias  num_cartoes_credito  dias_atraso_dt_venc  \\\n",
       "0                     5                    7                   21   \n",
       "1                     8                    5                   40   \n",
       "2                     3                    6                   26   \n",
       "3                     3                    7                   12   \n",
       "4                     8                    7                   24   \n",
       "\n",
       "   num_pgtos_atrasados  num_consultas_credito  taxa_juros investe_exterior  \\\n",
       "0                   14                      9          15              Não   \n",
       "1                   23                     10          18              Não   \n",
       "2                   13                      3          15              Sim   \n",
       "3                    7                      2           1              Sim   \n",
       "4                   10                      8          20              Sim   \n",
       "\n",
       "  pessoa_polit_exp limite_adicional  \n",
       "0              Não            Negar  \n",
       "1              Não            Negar  \n",
       "2              Não            Negar  \n",
       "3              Não            Negar  \n",
       "4              Não            Negar  "
      ]
     },
     "execution_count": 4,
     "metadata": {},
     "output_type": "execute_result"
    }
   ],
   "source": [
    "df.head()"
   ]
  },
  {
   "cell_type": "code",
   "execution_count": 5,
   "metadata": {},
   "outputs": [
    {
     "data": {
      "text/plain": [
       "array(['Negar', 'Conceder'], dtype=object)"
      ]
     },
     "execution_count": 5,
     "metadata": {},
     "output_type": "execute_result"
    }
   ],
   "source": [
    "df.loc[:,'limite_adicional'].unique()"
   ]
  },
  {
   "cell_type": "markdown",
   "metadata": {},
   "source": [
    "## Selecao de Feactures"
   ]
  },
  {
   "cell_type": "code",
   "execution_count": 6,
   "metadata": {},
   "outputs": [
    {
     "data": {
      "text/plain": [
       "Index(['id_cliente', 'idade', 'saldo_atual', 'divida_atual', 'renda_anual',\n",
       "       'valor_em_investimentos', 'taxa_utilizacao_credito', 'num_emprestimos',\n",
       "       'num_contas_bancarias', 'num_cartoes_credito', 'dias_atraso_dt_venc',\n",
       "       'num_pgtos_atrasados', 'num_consultas_credito', 'taxa_juros',\n",
       "       'investe_exterior', 'pessoa_polit_exp', 'limite_adicional'],\n",
       "      dtype='object')"
      ]
     },
     "execution_count": 6,
     "metadata": {},
     "output_type": "execute_result"
    }
   ],
   "source": [
    "df.columns"
   ]
  },
  {
   "cell_type": "code",
   "execution_count": 7,
   "metadata": {},
   "outputs": [
    {
     "data": {
      "text/plain": [
       "limite_adicional\n",
       "Negar       7995\n",
       "Conceder    1505\n",
       "Name: count, dtype: int64"
      ]
     },
     "execution_count": 7,
     "metadata": {},
     "output_type": "execute_result"
    }
   ],
   "source": [
    "# contagem de quantos negar/conceder\n",
    "df.loc[:,'limite_adicional'].value_counts()"
   ]
  },
  {
   "cell_type": "code",
   "execution_count": 8,
   "metadata": {},
   "outputs": [
    {
     "data": {
      "text/plain": [
       "limite_adicional\n",
       "Negar       0.841579\n",
       "Conceder    0.158421\n",
       "Name: proportion, dtype: float64"
      ]
     },
     "execution_count": 8,
     "metadata": {},
     "output_type": "execute_result"
    }
   ],
   "source": [
    "# Porcentagem da quantidade Negar/Conceder\n",
    "df.loc[:,'limite_adicional'].value_counts(normalize=True)"
   ]
  },
  {
   "cell_type": "code",
   "execution_count": 9,
   "metadata": {},
   "outputs": [],
   "source": [
    "# x = feactures_treinamento\n",
    "# y = label\n",
    "\n",
    "# Premissa do KNN que exixta relacao de similaridade baseada em distancia. \n",
    "feactures = ['idade', 'saldo_atual', 'divida_atual', 'renda_anual',\n",
    "             'valor_em_investimentos', 'taxa_utilizacao_credito', 'num_emprestimos',\n",
    "             'num_contas_bancarias', 'num_cartoes_credito', 'dias_atraso_dt_venc',\n",
    "             'num_pgtos_atrasados', 'num_consultas_credito', 'taxa_juros',\n",
    "             'investe_exterior', 'pessoa_polit_exp']\n",
    "label = 'limite_adicional'\n",
    "\n",
    "x_train = df.loc[:,feactures]\n",
    "# rotulo\n",
    "y_train = df.loc[:, label]"
   ]
  },
  {
   "cell_type": "code",
   "execution_count": 10,
   "metadata": {},
   "outputs": [],
   "source": [
    "# Supondo que 'x_train' seja o DataFrame que contém seus dados de treinamento\n",
    "drop_n_relevante = ['investe_exterior', 'pessoa_polit_exp']\n",
    "x_train = x_train.drop(drop_n_relevante, axis=1)"
   ]
  },
  {
   "cell_type": "markdown",
   "metadata": {},
   "source": [
    "## 3.0 Treinamentos"
   ]
  },
  {
   "cell_type": "markdown",
   "metadata": {},
   "source": [
    " um dos metodos e a classificacao, e quando passa o .fit tenhonq pasa o conj de caracterst que e o x_train \n",
    "e quem a a variavel resposta que e y_trais .guarda o model treinad "
   ]
  },
  {
   "cell_type": "code",
   "execution_count": 11,
   "metadata": {},
   "outputs": [
    {
     "data": {
      "text/html": [
       "<style>#sk-container-id-1 {color: black;}#sk-container-id-1 pre{padding: 0;}#sk-container-id-1 div.sk-toggleable {background-color: white;}#sk-container-id-1 label.sk-toggleable__label {cursor: pointer;display: block;width: 100%;margin-bottom: 0;padding: 0.3em;box-sizing: border-box;text-align: center;}#sk-container-id-1 label.sk-toggleable__label-arrow:before {content: \"▸\";float: left;margin-right: 0.25em;color: #696969;}#sk-container-id-1 label.sk-toggleable__label-arrow:hover:before {color: black;}#sk-container-id-1 div.sk-estimator:hover label.sk-toggleable__label-arrow:before {color: black;}#sk-container-id-1 div.sk-toggleable__content {max-height: 0;max-width: 0;overflow: hidden;text-align: left;background-color: #f0f8ff;}#sk-container-id-1 div.sk-toggleable__content pre {margin: 0.2em;color: black;border-radius: 0.25em;background-color: #f0f8ff;}#sk-container-id-1 input.sk-toggleable__control:checked~div.sk-toggleable__content {max-height: 200px;max-width: 100%;overflow: auto;}#sk-container-id-1 input.sk-toggleable__control:checked~label.sk-toggleable__label-arrow:before {content: \"▾\";}#sk-container-id-1 div.sk-estimator input.sk-toggleable__control:checked~label.sk-toggleable__label {background-color: #d4ebff;}#sk-container-id-1 div.sk-label input.sk-toggleable__control:checked~label.sk-toggleable__label {background-color: #d4ebff;}#sk-container-id-1 input.sk-hidden--visually {border: 0;clip: rect(1px 1px 1px 1px);clip: rect(1px, 1px, 1px, 1px);height: 1px;margin: -1px;overflow: hidden;padding: 0;position: absolute;width: 1px;}#sk-container-id-1 div.sk-estimator {font-family: monospace;background-color: #f0f8ff;border: 1px dotted black;border-radius: 0.25em;box-sizing: border-box;margin-bottom: 0.5em;}#sk-container-id-1 div.sk-estimator:hover {background-color: #d4ebff;}#sk-container-id-1 div.sk-parallel-item::after {content: \"\";width: 100%;border-bottom: 1px solid gray;flex-grow: 1;}#sk-container-id-1 div.sk-label:hover label.sk-toggleable__label {background-color: #d4ebff;}#sk-container-id-1 div.sk-serial::before {content: \"\";position: absolute;border-left: 1px solid gray;box-sizing: border-box;top: 0;bottom: 0;left: 50%;z-index: 0;}#sk-container-id-1 div.sk-serial {display: flex;flex-direction: column;align-items: center;background-color: white;padding-right: 0.2em;padding-left: 0.2em;position: relative;}#sk-container-id-1 div.sk-item {position: relative;z-index: 1;}#sk-container-id-1 div.sk-parallel {display: flex;align-items: stretch;justify-content: center;background-color: white;position: relative;}#sk-container-id-1 div.sk-item::before, #sk-container-id-1 div.sk-parallel-item::before {content: \"\";position: absolute;border-left: 1px solid gray;box-sizing: border-box;top: 0;bottom: 0;left: 50%;z-index: -1;}#sk-container-id-1 div.sk-parallel-item {display: flex;flex-direction: column;z-index: 1;position: relative;background-color: white;}#sk-container-id-1 div.sk-parallel-item:first-child::after {align-self: flex-end;width: 50%;}#sk-container-id-1 div.sk-parallel-item:last-child::after {align-self: flex-start;width: 50%;}#sk-container-id-1 div.sk-parallel-item:only-child::after {width: 0;}#sk-container-id-1 div.sk-dashed-wrapped {border: 1px dashed gray;margin: 0 0.4em 0.5em 0.4em;box-sizing: border-box;padding-bottom: 0.4em;background-color: white;}#sk-container-id-1 div.sk-label label {font-family: monospace;font-weight: bold;display: inline-block;line-height: 1.2em;}#sk-container-id-1 div.sk-label-container {text-align: center;}#sk-container-id-1 div.sk-container {/* jupyter's `normalize.less` sets `[hidden] { display: none; }` but bootstrap.min.css set `[hidden] { display: none !important; }` so we also need the `!important` here to be able to override the default hidden behavior on the sphinx rendered scikit-learn.org. See: https://github.com/scikit-learn/scikit-learn/issues/21755 */display: inline-block !important;position: relative;}#sk-container-id-1 div.sk-text-repr-fallback {display: none;}</style><div id=\"sk-container-id-1\" class=\"sk-top-container\"><div class=\"sk-text-repr-fallback\"><pre>KNeighborsClassifier(n_neighbors=7)</pre><b>In a Jupyter environment, please rerun this cell to show the HTML representation or trust the notebook. <br />On GitHub, the HTML representation is unable to render, please try loading this page with nbviewer.org.</b></div><div class=\"sk-container\" hidden><div class=\"sk-item\"><div class=\"sk-estimator sk-toggleable\"><input class=\"sk-toggleable__control sk-hidden--visually\" id=\"sk-estimator-id-1\" type=\"checkbox\" checked><label for=\"sk-estimator-id-1\" class=\"sk-toggleable__label sk-toggleable__label-arrow\">KNeighborsClassifier</label><div class=\"sk-toggleable__content\"><pre>KNeighborsClassifier(n_neighbors=7)</pre></div></div></div></div></div>"
      ],
      "text/plain": [
       "KNeighborsClassifier(n_neighbors=7)"
      ]
     },
     "execution_count": 11,
     "metadata": {},
     "output_type": "execute_result"
    }
   ],
   "source": [
    "# definicao de parametro do treinamento.\n",
    "k = 7\n",
    "knn_classifier = KNeighborsClassifier( n_neighbors = k ) # recebe n de vz\n",
    "# Treinamento de Algoritimo\n",
    "knn_classifier.fit( x_train, y_train )"
   ]
  },
  {
   "cell_type": "code",
   "execution_count": 12,
   "metadata": {},
   "outputs": [],
   "source": [
    "# predicao classificacao \n",
    "y_pred = knn_classifier.predict(x_train)"
   ]
  },
  {
   "cell_type": "code",
   "execution_count": 13,
   "metadata": {},
   "outputs": [],
   "source": [
    "# Podemos medir, só Criar um data frame\n",
    "# df_result = x_train.copy()\n",
    "# N tem a col de limt_add\n",
    "# df_result"
   ]
  },
  {
   "cell_type": "code",
   "execution_count": 14,
   "metadata": {},
   "outputs": [],
   "source": [
    "# Mas se fizer um com o DF \n",
    "df_result = df.copy()\n",
    "#  tem a col de id, limt_add\n",
    "# criar uma col classific\n",
    "df_result['classificacao'] = y_pred"
   ]
  },
  {
   "cell_type": "markdown",
   "metadata": {},
   "source": [
    "# Performace"
   ]
  },
  {
   "cell_type": "markdown",
   "metadata": {},
   "source": [
    "### 4.1 Matriz de confusao"
   ]
  },
  {
   "cell_type": "code",
   "execution_count": 15,
   "metadata": {},
   "outputs": [],
   "source": [
    "# caucular matriz de confusao MANUAL e criar uma coluna acertos\n",
    "df_result['acertos'] = df_result.loc[:,['id_cliente','limite_adicional','classificacao'] ].apply( lambda x: 1 if x['limite_adicional'] == x['classificacao'] else 0, axis =1 )"
   ]
  },
  {
   "cell_type": "code",
   "execution_count": 16,
   "metadata": {},
   "outputs": [
    {
     "data": {
      "text/html": [
       "<div>\n",
       "<style scoped>\n",
       "    .dataframe tbody tr th:only-of-type {\n",
       "        vertical-align: middle;\n",
       "    }\n",
       "\n",
       "    .dataframe tbody tr th {\n",
       "        vertical-align: top;\n",
       "    }\n",
       "\n",
       "    .dataframe thead th {\n",
       "        text-align: right;\n",
       "    }\n",
       "</style>\n",
       "<table border=\"1\" class=\"dataframe\">\n",
       "  <thead>\n",
       "    <tr style=\"text-align: right;\">\n",
       "      <th></th>\n",
       "      <th>id_cliente</th>\n",
       "      <th>idade</th>\n",
       "      <th>limite_adicional</th>\n",
       "      <th>classificacao</th>\n",
       "      <th>acertos</th>\n",
       "    </tr>\n",
       "  </thead>\n",
       "  <tbody>\n",
       "    <tr>\n",
       "      <th>1924</th>\n",
       "      <td>10242</td>\n",
       "      <td>30</td>\n",
       "      <td>Negar</td>\n",
       "      <td>Negar</td>\n",
       "      <td>1</td>\n",
       "    </tr>\n",
       "    <tr>\n",
       "      <th>2994</th>\n",
       "      <td>5170</td>\n",
       "      <td>506</td>\n",
       "      <td>Negar</td>\n",
       "      <td>Negar</td>\n",
       "      <td>1</td>\n",
       "    </tr>\n",
       "    <tr>\n",
       "      <th>3576</th>\n",
       "      <td>4329</td>\n",
       "      <td>20</td>\n",
       "      <td>Negar</td>\n",
       "      <td>Negar</td>\n",
       "      <td>1</td>\n",
       "    </tr>\n",
       "    <tr>\n",
       "      <th>8223</th>\n",
       "      <td>7610</td>\n",
       "      <td>41</td>\n",
       "      <td>Negar</td>\n",
       "      <td>Negar</td>\n",
       "      <td>1</td>\n",
       "    </tr>\n",
       "    <tr>\n",
       "      <th>1460</th>\n",
       "      <td>9382</td>\n",
       "      <td>47</td>\n",
       "      <td>Negar</td>\n",
       "      <td>Negar</td>\n",
       "      <td>1</td>\n",
       "    </tr>\n",
       "    <tr>\n",
       "      <th>5663</th>\n",
       "      <td>301</td>\n",
       "      <td>53</td>\n",
       "      <td>Conceder</td>\n",
       "      <td>Negar</td>\n",
       "      <td>0</td>\n",
       "    </tr>\n",
       "    <tr>\n",
       "      <th>559</th>\n",
       "      <td>5101</td>\n",
       "      <td>39</td>\n",
       "      <td>Negar</td>\n",
       "      <td>Negar</td>\n",
       "      <td>1</td>\n",
       "    </tr>\n",
       "    <tr>\n",
       "      <th>340</th>\n",
       "      <td>9456</td>\n",
       "      <td>44</td>\n",
       "      <td>Negar</td>\n",
       "      <td>Negar</td>\n",
       "      <td>1</td>\n",
       "    </tr>\n",
       "    <tr>\n",
       "      <th>6376</th>\n",
       "      <td>1768</td>\n",
       "      <td>50</td>\n",
       "      <td>Conceder</td>\n",
       "      <td>Negar</td>\n",
       "      <td>0</td>\n",
       "    </tr>\n",
       "    <tr>\n",
       "      <th>2056</th>\n",
       "      <td>5666</td>\n",
       "      <td>25</td>\n",
       "      <td>Negar</td>\n",
       "      <td>Negar</td>\n",
       "      <td>1</td>\n",
       "    </tr>\n",
       "    <tr>\n",
       "      <th>8928</th>\n",
       "      <td>10887</td>\n",
       "      <td>44</td>\n",
       "      <td>Negar</td>\n",
       "      <td>Negar</td>\n",
       "      <td>1</td>\n",
       "    </tr>\n",
       "    <tr>\n",
       "      <th>2534</th>\n",
       "      <td>6063</td>\n",
       "      <td>31</td>\n",
       "      <td>Negar</td>\n",
       "      <td>Negar</td>\n",
       "      <td>1</td>\n",
       "    </tr>\n",
       "    <tr>\n",
       "      <th>4656</th>\n",
       "      <td>7622</td>\n",
       "      <td>45</td>\n",
       "      <td>Conceder</td>\n",
       "      <td>Negar</td>\n",
       "      <td>0</td>\n",
       "    </tr>\n",
       "    <tr>\n",
       "      <th>141</th>\n",
       "      <td>3680</td>\n",
       "      <td>55</td>\n",
       "      <td>Conceder</td>\n",
       "      <td>Negar</td>\n",
       "      <td>0</td>\n",
       "    </tr>\n",
       "    <tr>\n",
       "      <th>3462</th>\n",
       "      <td>10815</td>\n",
       "      <td>41</td>\n",
       "      <td>Negar</td>\n",
       "      <td>Negar</td>\n",
       "      <td>1</td>\n",
       "    </tr>\n",
       "    <tr>\n",
       "      <th>9427</th>\n",
       "      <td>10667</td>\n",
       "      <td>44</td>\n",
       "      <td>Negar</td>\n",
       "      <td>Negar</td>\n",
       "      <td>1</td>\n",
       "    </tr>\n",
       "    <tr>\n",
       "      <th>6495</th>\n",
       "      <td>4057</td>\n",
       "      <td>20</td>\n",
       "      <td>Negar</td>\n",
       "      <td>Negar</td>\n",
       "      <td>1</td>\n",
       "    </tr>\n",
       "    <tr>\n",
       "      <th>1546</th>\n",
       "      <td>2413</td>\n",
       "      <td>33</td>\n",
       "      <td>Negar</td>\n",
       "      <td>Negar</td>\n",
       "      <td>1</td>\n",
       "    </tr>\n",
       "    <tr>\n",
       "      <th>6779</th>\n",
       "      <td>4363</td>\n",
       "      <td>47</td>\n",
       "      <td>Negar</td>\n",
       "      <td>Negar</td>\n",
       "      <td>1</td>\n",
       "    </tr>\n",
       "    <tr>\n",
       "      <th>3706</th>\n",
       "      <td>2363</td>\n",
       "      <td>41</td>\n",
       "      <td>Negar</td>\n",
       "      <td>Negar</td>\n",
       "      <td>1</td>\n",
       "    </tr>\n",
       "  </tbody>\n",
       "</table>\n",
       "</div>"
      ],
      "text/plain": [
       "      id_cliente  idade limite_adicional classificacao  acertos\n",
       "1924       10242     30            Negar         Negar        1\n",
       "2994        5170    506            Negar         Negar        1\n",
       "3576        4329     20            Negar         Negar        1\n",
       "8223        7610     41            Negar         Negar        1\n",
       "1460        9382     47            Negar         Negar        1\n",
       "5663         301     53         Conceder         Negar        0\n",
       "559         5101     39            Negar         Negar        1\n",
       "340         9456     44            Negar         Negar        1\n",
       "6376        1768     50         Conceder         Negar        0\n",
       "2056        5666     25            Negar         Negar        1\n",
       "8928       10887     44            Negar         Negar        1\n",
       "2534        6063     31            Negar         Negar        1\n",
       "4656        7622     45         Conceder         Negar        0\n",
       "141         3680     55         Conceder         Negar        0\n",
       "3462       10815     41            Negar         Negar        1\n",
       "9427       10667     44            Negar         Negar        1\n",
       "6495        4057     20            Negar         Negar        1\n",
       "1546        2413     33            Negar         Negar        1\n",
       "6779        4363     47            Negar         Negar        1\n",
       "3706        2363     41            Negar         Negar        1"
      ]
     },
     "execution_count": 16,
     "metadata": {},
     "output_type": "execute_result"
    }
   ],
   "source": [
    "df_result.loc[:,['id_cliente','idade','limite_adicional','classificacao','acertos'] ].sample(20)"
   ]
  },
  {
   "cell_type": "code",
   "execution_count": 17,
   "metadata": {},
   "outputs": [
    {
     "data": {
      "text/plain": [
       "array([[ 369, 1136],\n",
       "       [ 203, 7792]])"
      ]
     },
     "execution_count": 17,
     "metadata": {},
     "output_type": "execute_result"
    }
   ],
   "source": [
    "mt.confusion_matrix( y_train, y_pred )"
   ]
  },
  {
   "cell_type": "code",
   "execution_count": 22,
   "metadata": {},
   "outputs": [
    {
     "data": {
      "text/html": [
       "<div>\n",
       "<style scoped>\n",
       "    .dataframe tbody tr th:only-of-type {\n",
       "        vertical-align: middle;\n",
       "    }\n",
       "\n",
       "    .dataframe tbody tr th {\n",
       "        vertical-align: top;\n",
       "    }\n",
       "\n",
       "    .dataframe thead th {\n",
       "        text-align: right;\n",
       "    }\n",
       "</style>\n",
       "<table border=\"1\" class=\"dataframe\">\n",
       "  <thead>\n",
       "    <tr style=\"text-align: right;\">\n",
       "      <th></th>\n",
       "      <th>id_cliente</th>\n",
       "      <th>idade</th>\n",
       "      <th>limite_adicional</th>\n",
       "      <th>classificacao</th>\n",
       "    </tr>\n",
       "  </thead>\n",
       "  <tbody>\n",
       "    <tr>\n",
       "      <th>4320</th>\n",
       "      <td>6730</td>\n",
       "      <td>32</td>\n",
       "      <td>Negar</td>\n",
       "      <td>Negar</td>\n",
       "    </tr>\n",
       "    <tr>\n",
       "      <th>1372</th>\n",
       "      <td>3747</td>\n",
       "      <td>46</td>\n",
       "      <td>Negar</td>\n",
       "      <td>Negar</td>\n",
       "    </tr>\n",
       "    <tr>\n",
       "      <th>1985</th>\n",
       "      <td>10227</td>\n",
       "      <td>36</td>\n",
       "      <td>Negar</td>\n",
       "      <td>Negar</td>\n",
       "    </tr>\n",
       "    <tr>\n",
       "      <th>2842</th>\n",
       "      <td>417</td>\n",
       "      <td>27</td>\n",
       "      <td>Negar</td>\n",
       "      <td>Negar</td>\n",
       "    </tr>\n",
       "    <tr>\n",
       "      <th>174</th>\n",
       "      <td>7041</td>\n",
       "      <td>26</td>\n",
       "      <td>Conceder</td>\n",
       "      <td>Negar</td>\n",
       "    </tr>\n",
       "    <tr>\n",
       "      <th>6813</th>\n",
       "      <td>9327</td>\n",
       "      <td>5937</td>\n",
       "      <td>Negar</td>\n",
       "      <td>Negar</td>\n",
       "    </tr>\n",
       "    <tr>\n",
       "      <th>8613</th>\n",
       "      <td>6548</td>\n",
       "      <td>24</td>\n",
       "      <td>Negar</td>\n",
       "      <td>Negar</td>\n",
       "    </tr>\n",
       "    <tr>\n",
       "      <th>7522</th>\n",
       "      <td>7037</td>\n",
       "      <td>46</td>\n",
       "      <td>Conceder</td>\n",
       "      <td>Negar</td>\n",
       "    </tr>\n",
       "    <tr>\n",
       "      <th>683</th>\n",
       "      <td>2271</td>\n",
       "      <td>50</td>\n",
       "      <td>Negar</td>\n",
       "      <td>Negar</td>\n",
       "    </tr>\n",
       "    <tr>\n",
       "      <th>3172</th>\n",
       "      <td>12138</td>\n",
       "      <td>34</td>\n",
       "      <td>Negar</td>\n",
       "      <td>Negar</td>\n",
       "    </tr>\n",
       "    <tr>\n",
       "      <th>7268</th>\n",
       "      <td>1610</td>\n",
       "      <td>60</td>\n",
       "      <td>Negar</td>\n",
       "      <td>Negar</td>\n",
       "    </tr>\n",
       "    <tr>\n",
       "      <th>3989</th>\n",
       "      <td>4366</td>\n",
       "      <td>50</td>\n",
       "      <td>Negar</td>\n",
       "      <td>Negar</td>\n",
       "    </tr>\n",
       "    <tr>\n",
       "      <th>3706</th>\n",
       "      <td>2363</td>\n",
       "      <td>41</td>\n",
       "      <td>Negar</td>\n",
       "      <td>Negar</td>\n",
       "    </tr>\n",
       "    <tr>\n",
       "      <th>7827</th>\n",
       "      <td>3546</td>\n",
       "      <td>61</td>\n",
       "      <td>Negar</td>\n",
       "      <td>Negar</td>\n",
       "    </tr>\n",
       "    <tr>\n",
       "      <th>3898</th>\n",
       "      <td>2178</td>\n",
       "      <td>29</td>\n",
       "      <td>Negar</td>\n",
       "      <td>Conceder</td>\n",
       "    </tr>\n",
       "    <tr>\n",
       "      <th>4025</th>\n",
       "      <td>10367</td>\n",
       "      <td>41</td>\n",
       "      <td>Negar</td>\n",
       "      <td>Negar</td>\n",
       "    </tr>\n",
       "    <tr>\n",
       "      <th>1</th>\n",
       "      <td>11920</td>\n",
       "      <td>40</td>\n",
       "      <td>Negar</td>\n",
       "      <td>Negar</td>\n",
       "    </tr>\n",
       "    <tr>\n",
       "      <th>3156</th>\n",
       "      <td>11238</td>\n",
       "      <td>50</td>\n",
       "      <td>Negar</td>\n",
       "      <td>Negar</td>\n",
       "    </tr>\n",
       "    <tr>\n",
       "      <th>3374</th>\n",
       "      <td>9942</td>\n",
       "      <td>23</td>\n",
       "      <td>Negar</td>\n",
       "      <td>Conceder</td>\n",
       "    </tr>\n",
       "    <tr>\n",
       "      <th>588</th>\n",
       "      <td>6326</td>\n",
       "      <td>26</td>\n",
       "      <td>Conceder</td>\n",
       "      <td>Negar</td>\n",
       "    </tr>\n",
       "  </tbody>\n",
       "</table>\n",
       "</div>"
      ],
      "text/plain": [
       "      id_cliente  idade limite_adicional classificacao\n",
       "4320        6730     32            Negar         Negar\n",
       "1372        3747     46            Negar         Negar\n",
       "1985       10227     36            Negar         Negar\n",
       "2842         417     27            Negar         Negar\n",
       "174         7041     26         Conceder         Negar\n",
       "6813        9327   5937            Negar         Negar\n",
       "8613        6548     24            Negar         Negar\n",
       "7522        7037     46         Conceder         Negar\n",
       "683         2271     50            Negar         Negar\n",
       "3172       12138     34            Negar         Negar\n",
       "7268        1610     60            Negar         Negar\n",
       "3989        4366     50            Negar         Negar\n",
       "3706        2363     41            Negar         Negar\n",
       "7827        3546     61            Negar         Negar\n",
       "3898        2178     29            Negar      Conceder\n",
       "4025       10367     41            Negar         Negar\n",
       "1          11920     40            Negar         Negar\n",
       "3156       11238     50            Negar         Negar\n",
       "3374        9942     23            Negar      Conceder\n",
       "588         6326     26         Conceder         Negar"
      ]
     },
     "execution_count": 22,
     "metadata": {},
     "output_type": "execute_result"
    }
   ],
   "source": [
    "# df_result.sample(20)\n",
    "# para simplificar a visualizacao dos dados vou pegar col necessaria\n",
    "df_result.loc[:,['id_cliente','idade','limite_adicional','classificacao'] ].sample(20)"
   ]
  },
  {
   "cell_type": "code",
   "execution_count": 23,
   "metadata": {},
   "outputs": [],
   "source": [
    "igual1 = df_result[df_result['acertos'] == 1].count()\n",
    "igual0 = df_result[df_result['acertos'] == 0].count()\n"
   ]
  },
  {
   "cell_type": "code",
   "execution_count": 27,
   "metadata": {},
   "outputs": [
    {
     "data": {
      "text/plain": [
       "array([[ 369, 1136],\n",
       "       [ 203, 7792]])"
      ]
     },
     "execution_count": 27,
     "metadata": {},
     "output_type": "execute_result"
    }
   ],
   "source": [
    "mt.confusion_matrix( y_train, y_pred )"
   ]
  },
  {
   "cell_type": "markdown",
   "metadata": {},
   "source": [
    "### 4.2 Acuracia"
   ]
  },
  {
   "cell_type": "code",
   "execution_count": 30,
   "metadata": {},
   "outputs": [
    {
     "data": {
      "text/plain": [
       "0.8727598566308243"
      ]
     },
     "execution_count": 30,
     "metadata": {},
     "output_type": "execute_result"
    }
   ],
   "source": [
    "# Calculo Manual da\n",
    "7792 / (7792 + 1136)"
   ]
  },
  {
   "cell_type": "code",
   "execution_count": 24,
   "metadata": {},
   "outputs": [
    {
     "data": {
      "text/plain": [
       "0.8590526315789474"
      ]
     },
     "execution_count": 24,
     "metadata": {},
     "output_type": "execute_result"
    }
   ],
   "source": [
    "# com a matrix pronta\n",
    "mt.accuracy_score(y_train, y_pred)"
   ]
  },
  {
   "cell_type": "markdown",
   "metadata": {},
   "source": [
    "### 4.3 Precisao"
   ]
  },
  {
   "cell_type": "code",
   "execution_count": 28,
   "metadata": {},
   "outputs": [
    {
     "data": {
      "text/plain": [
       "0.6451048951048951"
      ]
     },
     "execution_count": 28,
     "metadata": {},
     "output_type": "execute_result"
    }
   ],
   "source": [
    "# Calculo Manual da precisao\n",
    "369/(369 + 203)"
   ]
  },
  {
   "cell_type": "code",
   "execution_count": 25,
   "metadata": {},
   "outputs": [
    {
     "data": {
      "text/plain": [
       "0.6451048951048951"
      ]
     },
     "execution_count": 25,
     "metadata": {},
     "output_type": "execute_result"
    }
   ],
   "source": [
    "mt.precision_score(y_train, y_pred, pos_label='Conceder')"
   ]
  },
  {
   "cell_type": "markdown",
   "metadata": {},
   "source": [
    "### Recall"
   ]
  },
  {
   "cell_type": "code",
   "execution_count": null,
   "metadata": {},
   "outputs": [],
   "source": [
    "# Calculo Manual da"
   ]
  },
  {
   "cell_type": "code",
   "execution_count": 26,
   "metadata": {},
   "outputs": [
    {
     "data": {
      "text/plain": [
       "0.24518272425249169"
      ]
     },
     "execution_count": 26,
     "metadata": {},
     "output_type": "execute_result"
    }
   ],
   "source": [
    "mt.recall_score(y_train, y_pred, pos_label='Conceder')"
   ]
  },
  {
   "cell_type": "code",
   "execution_count": null,
   "metadata": {},
   "outputs": [],
   "source": []
  }
 ],
 "metadata": {
  "kernelspec": {
   "display_name": "Python 3.10.11 64-bit",
   "language": "python",
   "name": "python3"
  },
  "language_info": {
   "codemirror_mode": {
    "name": "ipython",
    "version": 3
   },
   "file_extension": ".py",
   "mimetype": "text/x-python",
   "name": "python",
   "nbconvert_exporter": "python",
   "pygments_lexer": "ipython3",
   "version": "3.11.4"
  },
  "orig_nbformat": 4,
  "vscode": {
   "interpreter": {
    "hash": "7e1998ff7f8aa20ada591c520b972326324e5ea05489af9e422744c7c09f6dad"
   }
  }
 },
 "nbformat": 4,
 "nbformat_minor": 2
}
