{
 "cells": [
  {
   "cell_type": "markdown",
   "metadata": {},
   "source": [
    "tenha uma amostra que represente os dados\n",
    "aleatoria mantendo proporca orig\n",
    "\n",
    "tenha uma amostra q represente algo que seja feiro no seu oc colocd em nuvem "
   ]
  },
  {
   "cell_type": "markdown",
   "metadata": {},
   "source": [
    "regularizacao evita um poucoo overfit\n",
    "parametro de "
   ]
  },
  {
   "cell_type": "markdown",
   "metadata": {},
   "source": [
    "# Estrategia de treino e teste"
   ]
  },
  {
   "cell_type": "code",
   "execution_count": 1,
   "metadata": {},
   "outputs": [],
   "source": [
    "import pandas as pd\n",
    "import numpy as np\n"
   ]
  },
  {
   "cell_type": "code",
   "execution_count": 2,
   "metadata": {},
   "outputs": [],
   "source": [
    "data_raw = pd.read_csv('train.csv')"
   ]
  },
  {
   "cell_type": "code",
   "execution_count": 3,
   "metadata": {},
   "outputs": [
    {
     "data": {
      "text/plain": [
       "Index(['id_cliente', 'idade', 'saldo_atual', 'divida_atual', 'renda_anual',\n",
       "       'valor_em_investimentos', 'taxa_utilizacao_credito', 'num_emprestimos',\n",
       "       'num_contas_bancarias', 'num_cartoes_credito', 'dias_atraso_dt_venc',\n",
       "       'num_pgtos_atrasados', 'num_consultas_credito', 'taxa_juros',\n",
       "       'investe_exterior', 'pessoa_polit_exp', 'limite_adicional'],\n",
       "      dtype='object')"
      ]
     },
     "execution_count": 3,
     "metadata": {},
     "output_type": "execute_result"
    }
   ],
   "source": [
    "data_raw.columns"
   ]
  },
  {
   "cell_type": "code",
   "execution_count": 4,
   "metadata": {},
   "outputs": [],
   "source": [
    "factures = ['id_cliente', 'idade', 'saldo_atual', 'divida_atual', 'renda_anual',\n",
    "            'valor_em_investimentos', 'taxa_utilizacao_credito', 'num_emprestimos',\n",
    "            'num_contas_bancarias', 'num_cartoes_credito', 'dias_atraso_dt_venc',\n",
    "            'num_pgtos_atrasados', 'num_consultas_credito', 'taxa_juros',\n",
    "            'investe_exterior', 'pessoa_polit_exp']\n",
    "\n",
    "label = ['limite_adicional']"
   ]
  },
  {
   "cell_type": "code",
   "execution_count": null,
   "metadata": {},
   "outputs": [],
   "source": []
  },
  {
   "cell_type": "code",
   "execution_count": null,
   "metadata": {},
   "outputs": [],
   "source": []
  },
  {
   "cell_type": "code",
   "execution_count": null,
   "metadata": {},
   "outputs": [],
   "source": []
  },
  {
   "cell_type": "code",
   "execution_count": null,
   "metadata": {},
   "outputs": [],
   "source": []
  },
  {
   "cell_type": "markdown",
   "metadata": {},
   "source": [
    "# Treino e teste do modelo "
   ]
  },
  {
   "cell_type": "code",
   "execution_count": 5,
   "metadata": {},
   "outputs": [],
   "source": [
    "Cor = ['Azul','Amarelo','Vermelho',]\n",
    "Combustivel = ['Gasolina','Etanol','Disel']\n",
    "Preco = [30000, 15000, 60000]\n",
    "num_portas = [4, 0, 6]\n",
    "tipo_veiculo = ['Carro', 'Moto', 'Onibus']\n",
    "\n",
    "# Criar o dicionário com os dados\n",
    "data = {\n",
    "    'Cor': Cor,\n",
    "    'Combustível': Combustivel,\n",
    "    'Preço': Preco,\n",
    "    'Número de Portas': num_portas,\n",
    "    'Tipo de Veículo': tipo_veiculo\n",
    "}\n",
    "\n"
   ]
  },
  {
   "cell_type": "code",
   "execution_count": 6,
   "metadata": {},
   "outputs": [
    {
     "data": {
      "text/html": [
       "<div>\n",
       "<style scoped>\n",
       "    .dataframe tbody tr th:only-of-type {\n",
       "        vertical-align: middle;\n",
       "    }\n",
       "\n",
       "    .dataframe tbody tr th {\n",
       "        vertical-align: top;\n",
       "    }\n",
       "\n",
       "    .dataframe thead th {\n",
       "        text-align: right;\n",
       "    }\n",
       "</style>\n",
       "<table border=\"1\" class=\"dataframe\">\n",
       "  <thead>\n",
       "    <tr style=\"text-align: right;\">\n",
       "      <th></th>\n",
       "      <th>Cor</th>\n",
       "      <th>Combustível</th>\n",
       "      <th>Preço</th>\n",
       "      <th>Número de Portas</th>\n",
       "      <th>Tipo de Veículo</th>\n",
       "    </tr>\n",
       "  </thead>\n",
       "  <tbody>\n",
       "    <tr>\n",
       "      <th>0</th>\n",
       "      <td>Azul</td>\n",
       "      <td>Gasolina</td>\n",
       "      <td>30000</td>\n",
       "      <td>4</td>\n",
       "      <td>Carro</td>\n",
       "    </tr>\n",
       "    <tr>\n",
       "      <th>1</th>\n",
       "      <td>Amarelo</td>\n",
       "      <td>Etanol</td>\n",
       "      <td>15000</td>\n",
       "      <td>0</td>\n",
       "      <td>Moto</td>\n",
       "    </tr>\n",
       "    <tr>\n",
       "      <th>2</th>\n",
       "      <td>Vermelho</td>\n",
       "      <td>Disel</td>\n",
       "      <td>60000</td>\n",
       "      <td>6</td>\n",
       "      <td>Onibus</td>\n",
       "    </tr>\n",
       "    <tr>\n",
       "      <th>3</th>\n",
       "      <td>Azul</td>\n",
       "      <td>Gasolina</td>\n",
       "      <td>30000</td>\n",
       "      <td>4</td>\n",
       "      <td>Carro</td>\n",
       "    </tr>\n",
       "    <tr>\n",
       "      <th>4</th>\n",
       "      <td>Amarelo</td>\n",
       "      <td>Etanol</td>\n",
       "      <td>15000</td>\n",
       "      <td>0</td>\n",
       "      <td>Moto</td>\n",
       "    </tr>\n",
       "    <tr>\n",
       "      <th>5</th>\n",
       "      <td>Vermelho</td>\n",
       "      <td>Disel</td>\n",
       "      <td>60000</td>\n",
       "      <td>6</td>\n",
       "      <td>Onibus</td>\n",
       "    </tr>\n",
       "    <tr>\n",
       "      <th>6</th>\n",
       "      <td>Azul</td>\n",
       "      <td>Gasolina</td>\n",
       "      <td>30000</td>\n",
       "      <td>4</td>\n",
       "      <td>Carro</td>\n",
       "    </tr>\n",
       "    <tr>\n",
       "      <th>7</th>\n",
       "      <td>Amarelo</td>\n",
       "      <td>Etanol</td>\n",
       "      <td>15000</td>\n",
       "      <td>0</td>\n",
       "      <td>Moto</td>\n",
       "    </tr>\n",
       "    <tr>\n",
       "      <th>8</th>\n",
       "      <td>Vermelho</td>\n",
       "      <td>Disel</td>\n",
       "      <td>60000</td>\n",
       "      <td>6</td>\n",
       "      <td>Onibus</td>\n",
       "    </tr>\n",
       "    <tr>\n",
       "      <th>9</th>\n",
       "      <td>Azul</td>\n",
       "      <td>Gasolina</td>\n",
       "      <td>30000</td>\n",
       "      <td>4</td>\n",
       "      <td>Carro</td>\n",
       "    </tr>\n",
       "  </tbody>\n",
       "</table>\n",
       "</div>"
      ],
      "text/plain": [
       "        Cor Combustível  Preço  Número de Portas Tipo de Veículo\n",
       "0      Azul    Gasolina  30000                 4           Carro\n",
       "1   Amarelo      Etanol  15000                 0            Moto\n",
       "2  Vermelho       Disel  60000                 6          Onibus\n",
       "3      Azul    Gasolina  30000                 4           Carro\n",
       "4   Amarelo      Etanol  15000                 0            Moto\n",
       "5  Vermelho       Disel  60000                 6          Onibus\n",
       "6      Azul    Gasolina  30000                 4           Carro\n",
       "7   Amarelo      Etanol  15000                 0            Moto\n",
       "8  Vermelho       Disel  60000                 6          Onibus\n",
       "9      Azul    Gasolina  30000                 4           Carro"
      ]
     },
     "execution_count": 6,
     "metadata": {},
     "output_type": "execute_result"
    }
   ],
   "source": [
    "\n",
    "# Criar o dataframe\n",
    "df_original = pd.DataFrame(data)\n",
    "\n",
    "# Definir a quantidade de linhas adicionais desejadas (50 - 3 = 47 linhas adicionais)\n",
    "num_linhas_adicionais = 47\n",
    "\n",
    "# Gerar cópias adicionais do dataframe original\n",
    "new_df = pd.concat([df_original] * num_linhas_adicionais, ignore_index=True)\n",
    "\n",
    "# Mostrar o dataframe com mais de 30 linhas\n",
    "new_df.head(10)\n"
   ]
  },
  {
   "cell_type": "code",
   "execution_count": 7,
   "metadata": {},
   "outputs": [
    {
     "data": {
      "text/plain": [
       "Cor                 object\n",
       "Combustível         object\n",
       "Preço                int64\n",
       "Número de Portas     int64\n",
       "Tipo de Veículo     object\n",
       "dtype: object"
      ]
     },
     "execution_count": 7,
     "metadata": {},
     "output_type": "execute_result"
    }
   ],
   "source": [
    "new_df.dtypes "
   ]
  },
  {
   "cell_type": "code",
   "execution_count": null,
   "metadata": {},
   "outputs": [],
   "source": []
  },
  {
   "cell_type": "code",
   "execution_count": null,
   "metadata": {},
   "outputs": [],
   "source": []
  },
  {
   "cell_type": "markdown",
   "metadata": {},
   "source": [
    "# Validacao Holdout\n",
    "\n",
    "## Treinamento do joaquim"
   ]
  },
  {
   "cell_type": "markdown",
   "metadata": {},
   "source": [
    "# Imports"
   ]
  },
  {
   "cell_type": "code",
   "execution_count": 8,
   "metadata": {},
   "outputs": [],
   "source": [
    "import pandas as pd\n",
    "import numpy as np\n",
    "from sklearn import datasets as ds\n",
    "from sklearn import model_selection as ms\n",
    "from sklearn import tree as tr\n",
    "from sklearn import metrics as mt"
   ]
  },
  {
   "cell_type": "markdown",
   "metadata": {},
   "source": [
    "# Dados sinteticos"
   ]
  },
  {
   "cell_type": "code",
   "execution_count": 9,
   "metadata": {},
   "outputs": [],
   "source": [
    "# funcao boa para fazer alguns testes \n",
    "\n",
    "n_samples=20000\n",
    "n_features=2\n",
    "n_informative=2 # quantas represantam realmente o fenomono\n",
    "n_redundant=0 # quantas relacionadas eu teria \n",
    "random_state=0 # poderia ser o defalt\n",
    "\n",
    "# me retorna x , y  conj de rtreino eas fctures e os rotulos\n",
    "X, y = ds.make_classification( n_samples=n_samples,# N de amostras \n",
    "                               n_features=n_features,# N de fectures col do dataset\n",
    "                               n_informative=n_informative, # fectures informativa\n",
    "                               n_redundant=n_redundant,# fectures redundantes, auto corre ou muito corr\n",
    "                               random_state=random_state)# cid de aleatoriedadde, td vz q rod vir o msm result\n",
    "\n",
    "\n",
    "# production dataset\n",
    "X, X_prod, y, y_prod = ms.train_test_split( X, y, test_size = 0.2, random_state=random_state)# test size 0,2 = 20% randon manter a aleatoriedd\n",
    "\n",
    "# Se;arados 20% do meu conjunto, ele fica guardado em X+prod e y_prod e os outros 80%"
   ]
  },
  {
   "cell_type": "code",
   "execution_count": 10,
   "metadata": {},
   "outputs": [
    {
     "name": "stdout",
     "output_type": "stream",
     "text": [
      "(16000, 2)\n",
      "\n",
      "          0         1\n",
      "0  1.690898  0.036090\n",
      "1  0.607581  0.193608\n",
      "2 -0.088978  0.878089\n",
      "3  0.387026 -2.189495\n",
      "4 -0.942144  2.181458\n",
      "\n",
      "<class 'numpy.ndarray'>\n"
     ]
    }
   ],
   "source": [
    "df = pd.DataFrame(X)\n",
    "print(df.shape)\n",
    "print()\n",
    "print(df.head())\n",
    "print()\n",
    "print(type(X))"
   ]
  },
  {
   "cell_type": "markdown",
   "metadata": {},
   "source": [
    "# Nao há separacao de dados"
   ]
  },
  {
   "cell_type": "code",
   "execution_count": 11,
   "metadata": {},
   "outputs": [
    {
     "name": "stdout",
     "output_type": "stream",
     "text": [
      "Accuracy Over Traning : 1.0\n"
     ]
    }
   ],
   "source": [
    "# modelo bem simplees de arv de decisao , com nde fecture = 2 para que seja tao complexo a ponto da arvr nao consegui ajustar os pontos\n",
    "# parametro importan max_depth quantidad que eu permito que minha arvore cresça\n",
    "# quais os paramentros que fazem o alg ter um underfit ou overfit o max_depth é um dos que overfit da arvr\n",
    "\n",
    "#Define model\n",
    "model = tr.DecisionTreeClassifier( max_depth=38)\n",
    "model.fit(X, y)\n",
    "\n",
    "# Classification sobre os dados de treinamento \n",
    "yhat = model.predict(X)\n",
    "acc = mt.accuracy_score( y, yhat)\n",
    "\n",
    "print('Accuracy Over Traning : {}'.format(acc))"
   ]
  },
  {
   "cell_type": "markdown",
   "metadata": {},
   "source": [
    "# Publicacao do Modelo em Producao"
   ]
  },
  {
   "cell_type": "code",
   "execution_count": 12,
   "metadata": {},
   "outputs": [
    {
     "name": "stdout",
     "output_type": "stream",
     "text": [
      "Acuraccy Over Production: 0.85175\n"
     ]
    }
   ],
   "source": [
    "yhat_prod = model.predict(X_prod)\n",
    "acc_prod = mt.accuracy_score( y_prod, yhat_prod )\n",
    "\n",
    "print('Acuraccy Over Production: {}'.format(acc_prod))"
   ]
  },
  {
   "cell_type": "markdown",
   "metadata": {},
   "source": [
    "# Estrategia de Treino-Teste"
   ]
  },
  {
   "cell_type": "code",
   "execution_count": 13,
   "metadata": {},
   "outputs": [],
   "source": [
    "# Separar os dados em treinamento e teste\n",
    "X_train, X_test, y_train, y_test = ms.train_test_split( X , y, test_size=0.2, random_state=random_state)"
   ]
  },
  {
   "cell_type": "code",
   "execution_count": 14,
   "metadata": {},
   "outputs": [
    {
     "name": "stdout",
     "output_type": "stream",
     "text": [
      "Accuracy Over Test: 0.8509375\n"
     ]
    }
   ],
   "source": [
    "# Modelo treinado com os dados de treinamento\n",
    "model = tr.DecisionTreeClassifier(max_depth=38)\n",
    "model.fit(X_train, y_train)\n",
    "\n",
    "# Classificacao sobre os dados de teste\n",
    "yhat_test = model.predict(X_test)\n",
    "# Calcular a accuracy\n",
    "acc_test = mt.accuracy_score( y_test, yhat_test)\n",
    "\n",
    "print('Accuracy Over Test: {}'.format( acc_test))\n",
    " \n",
    "# forma de metrificar o aprendizado para dados que ele nunca viu "
   ]
  },
  {
   "cell_type": "code",
   "execution_count": 15,
   "metadata": {},
   "outputs": [],
   "source": [
    "from matplotlib import pyplot as plt"
   ]
  },
  {
   "cell_type": "markdown",
   "metadata": {},
   "source": [
    "# Escolhendo os Parametros do algoritimo\n"
   ]
  },
  {
   "cell_type": "code",
   "execution_count": 16,
   "metadata": {},
   "outputs": [],
   "source": [
    "# Algoritimo de GridSarch ganacia testa tudo contra tudo  essa metrica e so para exemplificar\n",
    "\n",
    "# Criar uuma variavel, valueas nesse cria um for  1 a 60 esse vl popul values criar dentro de uma lista faco lista de compra rancho\n",
    "\n",
    "values = [ i for i in range( 1, 60 )]\n",
    "\n",
    "test_score = list()\n",
    "for i in values:\n",
    "    tr.DecisionTreeClassifier(max_depth=i)\n",
    "    model.fit(X_train, y_train)\n",
    "    \n",
    "    # Classificacao sobre o test\n",
    "    yhat_test = model.predict(X_test)\n",
    "    acc_test = mt.accuracy_score(y_test, yhat_test)\n",
    "    \n",
    "    test_score.append(acc_test)\n",
    "    "
   ]
  },
  {
   "cell_type": "code",
   "execution_count": 17,
   "metadata": {},
   "outputs": [
    {
     "data": {
      "text/plain": [
       "[<matplotlib.lines.Line2D at 0x126f24910>]"
      ]
     },
     "execution_count": 17,
     "metadata": {},
     "output_type": "execute_result"
    },
    {
     "data": {
      "image/png": "[encoded data removed]",
      "text/plain": [
       "<Figure size 640x480 with 1 Axes>"
      ]
     },
     "metadata": {},
     "output_type": "display_data"
    }
   ],
   "source": [
    "plt.plot(values, test_score, '-o', label='Test')"
   ]
  },
  {
   "cell_type": "markdown",
   "metadata": {},
   "source": [
    "# Publicando o modelo em producao"
   ]
  },
  {
   "cell_type": "code",
   "execution_count": 20,
   "metadata": {},
   "outputs": [
    {
     "name": "stdout",
     "output_type": "stream",
     "text": [
      "Accuracy Over Preduction: 0.85175\n"
     ]
    }
   ],
   "source": [
    "model_last = tr.DecisionTreeClassifier( max_depth=34)\n",
    "model_last.fit(np.concatenate( (X_train, X_test) ),\n",
    "               np.concatenate( (y_train, y_test) ) )\n",
    "\n",
    "# Classificacao sobre os dados de producao\n",
    "yhat_pred = model_last.predict( X_prod )\n",
    "acc_prod = mt.accuracy_score( y_prod, yhat_prod )\n",
    "\n",
    "print('Accuracy Over Preduction: {}'.format( acc_prod ) )\n",
    "\n",
    "\n"
   ]
  },
  {
   "cell_type": "markdown",
   "metadata": {},
   "source": [
    "# 2.0 Estrategia de Treino Test e Validacao"
   ]
  },
  {
   "cell_type": "markdown",
   "metadata": {},
   "source": [
    "Total (100%) -> Treino (80%) e Teste (20%)\n",
    "\n",
    "Treino (80%) -> Treino (60%) e Validacao (20%)\n",
    "\n",
    "Treino (60%), Validacao (20%), Teste (20%)\n",
    "\n",
    "~ Modelo -> Treino\n",
    "-  > Treinar o algoritmo\n",
    "-  > Validacao -> Encontrar o melhor parametro\n",
    "\n",
    "Treino (60%) + Validacao (20%) -> Treino (80)\n",
    "\n",
    "Modelo + Melhor Parametro + Treino (80%) -> Treino Last\n",
    "\n",
    "Modelo Last -> Teste (20%) -> Performance de Generalizacao\n",
    "\n",
    "Treino (Treino + validacao ) + Teste -> Producao"
   ]
  },
  {
   "cell_type": "markdown",
   "metadata": {},
   "source": []
  },
  {
   "cell_type": "code",
   "execution_count": null,
   "metadata": {},
   "outputs": [],
   "source": []
  },
  {
   "cell_type": "markdown",
   "metadata": {},
   "source": [
    "# O Problema de Overfiting na Classificacao"
   ]
  },
  {
   "cell_type": "code",
   "execution_count": null,
   "metadata": {},
   "outputs": [],
   "source": []
  },
  {
   "cell_type": "code",
   "execution_count": null,
   "metadata": {},
   "outputs": [],
   "source": []
  },
  {
   "cell_type": "code",
   "execution_count": null,
   "metadata": {},
   "outputs": [],
   "source": []
  },
  {
   "cell_type": "code",
   "execution_count": null,
   "metadata": {},
   "outputs": [],
   "source": []
  }
 ],
 "metadata": {
  "kernelspec": {
   "display_name": "Python 3",
   "language": "python",
   "name": "python3"
  },
  "language_info": {
   "codemirror_mode": {
    "name": "ipython",
    "version": 3
   },
   "file_extension": ".py",
   "mimetype": "text/x-python",
   "name": "python",
   "nbconvert_exporter": "python",
   "pygments_lexer": "ipython3",
   "version": "3.11.4"
  },
  "orig_nbformat": 4
 },
 "nbformat": 4,
 "nbformat_minor": 2
}
